{
 "cells": [
  {
   "cell_type": "code",
   "execution_count": 6,
   "metadata": {},
   "outputs": [
    {
     "name": "stdout",
     "output_type": "stream",
     "text": [
      "Path to dataset files: /Users/josuhyeon/.cache/kagglehub/datasets/martinfrederiksen/danish-residential-housing-prices-1992-2024/versions/3\n"
     ]
    }
   ],
   "source": [
    "import kagglehub\n",
    "\n",
    "# 데이터셋 다운로드\n",
    "path = kagglehub.dataset_download(\"martinfrederiksen/danish-residential-housing-prices-1992-2024\")\n",
    "\n",
    "# 경로 출력\n",
    "print(\"Path to dataset files:\", path)"
   ]
  },
  {
   "cell_type": "code",
   "execution_count": 7,
   "metadata": {},
   "outputs": [],
   "source": [
    "import pandas as pd\n",
    "\n",
    "# 정확한 파일 경로와 파일명 지정\n",
    "file_path = \"/Users/josuhyeon/.cache/kagglehub/datasets/martinfrederiksen/danish-residential-housing-prices-1992-2024/versions/3/DKHousingPricesSample100k.csv\"\n",
    "\n",
    "# 데이터 불러오기\n",
    "df = pd.read_csv(file_path)\n"
   ]
  },
  {
   "cell_type": "code",
   "execution_count": 8,
   "metadata": {},
   "outputs": [
    {
     "name": "stdout",
     "output_type": "stream",
     "text": [
      "데이터셋 미리보기:\n"
     ]
    },
    {
     "data": {
      "text/html": [
       "<div>\n",
       "<style scoped>\n",
       "    .dataframe tbody tr th:only-of-type {\n",
       "        vertical-align: middle;\n",
       "    }\n",
       "\n",
       "    .dataframe tbody tr th {\n",
       "        vertical-align: top;\n",
       "    }\n",
       "\n",
       "    .dataframe thead th {\n",
       "        text-align: right;\n",
       "    }\n",
       "</style>\n",
       "<table border=\"1\" class=\"dataframe\">\n",
       "  <thead>\n",
       "    <tr style=\"text-align: right;\">\n",
       "      <th></th>\n",
       "      <th>date</th>\n",
       "      <th>quarter</th>\n",
       "      <th>house_id</th>\n",
       "      <th>house_type</th>\n",
       "      <th>sales_type</th>\n",
       "      <th>year_build</th>\n",
       "      <th>purchase_price</th>\n",
       "      <th>%_change_between_offer_and_purchase</th>\n",
       "      <th>no_rooms</th>\n",
       "      <th>sqm</th>\n",
       "      <th>sqm_price</th>\n",
       "      <th>address</th>\n",
       "      <th>zip_code</th>\n",
       "      <th>city</th>\n",
       "      <th>area</th>\n",
       "      <th>region</th>\n",
       "      <th>nom_interest_rate%</th>\n",
       "      <th>dk_ann_infl_rate%</th>\n",
       "      <th>yield_on_mortgage_credit_bonds%</th>\n",
       "    </tr>\n",
       "  </thead>\n",
       "  <tbody>\n",
       "    <tr>\n",
       "      <th>0</th>\n",
       "      <td>2024-10-24</td>\n",
       "      <td>2024Q4</td>\n",
       "      <td>16</td>\n",
       "      <td>Villa</td>\n",
       "      <td>regular_sale</td>\n",
       "      <td>1997</td>\n",
       "      <td>6500000</td>\n",
       "      <td>-3.0</td>\n",
       "      <td>5</td>\n",
       "      <td>142.0</td>\n",
       "      <td>45774.650</td>\n",
       "      <td>Spættevej 16</td>\n",
       "      <td>2680</td>\n",
       "      <td>Solrød Strand</td>\n",
       "      <td>Capital, Copenhagen</td>\n",
       "      <td>Zealand</td>\n",
       "      <td>3.1</td>\n",
       "      <td>NaN</td>\n",
       "      <td>NaN</td>\n",
       "    </tr>\n",
       "    <tr>\n",
       "      <th>1</th>\n",
       "      <td>2024-10-24</td>\n",
       "      <td>2024Q4</td>\n",
       "      <td>13</td>\n",
       "      <td>Apartment</td>\n",
       "      <td>regular_sale</td>\n",
       "      <td>1885</td>\n",
       "      <td>3400000</td>\n",
       "      <td>0.0</td>\n",
       "      <td>2</td>\n",
       "      <td>46.0</td>\n",
       "      <td>73913.050</td>\n",
       "      <td>Jakob Dannefærds Vej 10B, 4. th</td>\n",
       "      <td>1973</td>\n",
       "      <td>Frederiksberg C</td>\n",
       "      <td>Capital, Copenhagen</td>\n",
       "      <td>Zealand</td>\n",
       "      <td>3.1</td>\n",
       "      <td>NaN</td>\n",
       "      <td>NaN</td>\n",
       "    </tr>\n",
       "    <tr>\n",
       "      <th>2</th>\n",
       "      <td>2024-10-23</td>\n",
       "      <td>2024Q4</td>\n",
       "      <td>60</td>\n",
       "      <td>Villa</td>\n",
       "      <td>regular_sale</td>\n",
       "      <td>1949</td>\n",
       "      <td>4550000</td>\n",
       "      <td>-4.0</td>\n",
       "      <td>4</td>\n",
       "      <td>112.0</td>\n",
       "      <td>40625.000</td>\n",
       "      <td>Vestre Plantagevej 3</td>\n",
       "      <td>2680</td>\n",
       "      <td>Solrød Strand</td>\n",
       "      <td>Capital, Copenhagen</td>\n",
       "      <td>Zealand</td>\n",
       "      <td>3.1</td>\n",
       "      <td>NaN</td>\n",
       "      <td>NaN</td>\n",
       "    </tr>\n",
       "    <tr>\n",
       "      <th>3</th>\n",
       "      <td>2024-10-23</td>\n",
       "      <td>2024Q4</td>\n",
       "      <td>29</td>\n",
       "      <td>Villa</td>\n",
       "      <td>regular_sale</td>\n",
       "      <td>2001</td>\n",
       "      <td>1630000</td>\n",
       "      <td>-12.0</td>\n",
       "      <td>4</td>\n",
       "      <td>186.0</td>\n",
       "      <td>8763.440</td>\n",
       "      <td>Toftebjerg 3</td>\n",
       "      <td>4400</td>\n",
       "      <td>Kalundborg</td>\n",
       "      <td>Other islands</td>\n",
       "      <td>Zealand</td>\n",
       "      <td>3.1</td>\n",
       "      <td>NaN</td>\n",
       "      <td>NaN</td>\n",
       "    </tr>\n",
       "    <tr>\n",
       "      <th>4</th>\n",
       "      <td>2024-10-22</td>\n",
       "      <td>2024Q4</td>\n",
       "      <td>92</td>\n",
       "      <td>Apartment</td>\n",
       "      <td>regular_sale</td>\n",
       "      <td>1965</td>\n",
       "      <td>1975000</td>\n",
       "      <td>-10.0</td>\n",
       "      <td>3</td>\n",
       "      <td>82.0</td>\n",
       "      <td>24085.365</td>\n",
       "      <td>Ryttergårdsvej 20, 1. 113</td>\n",
       "      <td>3520</td>\n",
       "      <td>Farum</td>\n",
       "      <td>North Zealand</td>\n",
       "      <td>Zealand</td>\n",
       "      <td>3.1</td>\n",
       "      <td>NaN</td>\n",
       "      <td>NaN</td>\n",
       "    </tr>\n",
       "  </tbody>\n",
       "</table>\n",
       "</div>"
      ],
      "text/plain": [
       "         date quarter  house_id house_type    sales_type  year_build  \\\n",
       "0  2024-10-24  2024Q4        16      Villa  regular_sale        1997   \n",
       "1  2024-10-24  2024Q4        13  Apartment  regular_sale        1885   \n",
       "2  2024-10-23  2024Q4        60      Villa  regular_sale        1949   \n",
       "3  2024-10-23  2024Q4        29      Villa  regular_sale        2001   \n",
       "4  2024-10-22  2024Q4        92  Apartment  regular_sale        1965   \n",
       "\n",
       "   purchase_price  %_change_between_offer_and_purchase  no_rooms    sqm  \\\n",
       "0         6500000                                 -3.0         5  142.0   \n",
       "1         3400000                                  0.0         2   46.0   \n",
       "2         4550000                                 -4.0         4  112.0   \n",
       "3         1630000                                -12.0         4  186.0   \n",
       "4         1975000                                -10.0         3   82.0   \n",
       "\n",
       "   sqm_price                          address  zip_code             city  \\\n",
       "0  45774.650                     Spættevej 16      2680    Solrød Strand   \n",
       "1  73913.050  Jakob Dannefærds Vej 10B, 4. th      1973  Frederiksberg C   \n",
       "2  40625.000             Vestre Plantagevej 3      2680    Solrød Strand   \n",
       "3   8763.440                     Toftebjerg 3      4400       Kalundborg   \n",
       "4  24085.365        Ryttergårdsvej 20, 1. 113      3520            Farum   \n",
       "\n",
       "                  area   region  nom_interest_rate%  dk_ann_infl_rate%  \\\n",
       "0  Capital, Copenhagen  Zealand                 3.1                NaN   \n",
       "1  Capital, Copenhagen  Zealand                 3.1                NaN   \n",
       "2  Capital, Copenhagen  Zealand                 3.1                NaN   \n",
       "3        Other islands  Zealand                 3.1                NaN   \n",
       "4        North Zealand  Zealand                 3.1                NaN   \n",
       "\n",
       "   yield_on_mortgage_credit_bonds%  \n",
       "0                              NaN  \n",
       "1                              NaN  \n",
       "2                              NaN  \n",
       "3                              NaN  \n",
       "4                              NaN  "
      ]
     },
     "execution_count": 8,
     "metadata": {},
     "output_type": "execute_result"
    }
   ],
   "source": [
    "# 데이터 확인\n",
    "print(\"데이터셋 미리보기:\")\n",
    "df.head()"
   ]
  },
  {
   "cell_type": "code",
   "execution_count": 9,
   "metadata": {},
   "outputs": [
    {
     "name": "stdout",
     "output_type": "stream",
     "text": [
      "데이터 정보:\n",
      "<class 'pandas.core.frame.DataFrame'>\n",
      "RangeIndex: 100000 entries, 0 to 99999\n",
      "Data columns (total 19 columns):\n",
      " #   Column                               Non-Null Count   Dtype  \n",
      "---  ------                               --------------   -----  \n",
      " 0   date                                 100000 non-null  object \n",
      " 1   quarter                              100000 non-null  object \n",
      " 2   house_id                             100000 non-null  int64  \n",
      " 3   house_type                           100000 non-null  object \n",
      " 4   sales_type                           100000 non-null  object \n",
      " 5   year_build                           100000 non-null  int64  \n",
      " 6   purchase_price                       100000 non-null  int64  \n",
      " 7   %_change_between_offer_and_purchase  100000 non-null  float64\n",
      " 8   no_rooms                             100000 non-null  int64  \n",
      " 9   sqm                                  100000 non-null  float64\n",
      " 10  sqm_price                            100000 non-null  float64\n",
      " 11  address                              100000 non-null  object \n",
      " 12  zip_code                             100000 non-null  int64  \n",
      " 13  city                                 99989 non-null   object \n",
      " 14  area                                 100000 non-null  object \n",
      " 15  region                               100000 non-null  object \n",
      " 16  nom_interest_rate%                   100000 non-null  float64\n",
      " 17  dk_ann_infl_rate%                    99923 non-null   float64\n",
      " 18  yield_on_mortgage_credit_bonds%      99923 non-null   float64\n",
      "dtypes: float64(6), int64(5), object(8)\n",
      "memory usage: 14.5+ MB\n"
     ]
    }
   ],
   "source": [
    "print(\"데이터 정보:\")\n",
    "df.info()"
   ]
  },
  {
   "cell_type": "markdown",
   "metadata": {},
   "source": []
  },
  {
   "cell_type": "code",
   "execution_count": 10,
   "metadata": {},
   "outputs": [
    {
     "name": "stdout",
     "output_type": "stream",
     "text": [
      "결측값 확인:\n"
     ]
    },
    {
     "data": {
      "text/plain": [
       "date                                    0\n",
       "quarter                                 0\n",
       "house_id                                0\n",
       "house_type                              0\n",
       "sales_type                              0\n",
       "year_build                              0\n",
       "purchase_price                          0\n",
       "%_change_between_offer_and_purchase     0\n",
       "no_rooms                                0\n",
       "sqm                                     0\n",
       "sqm_price                               0\n",
       "address                                 0\n",
       "zip_code                                0\n",
       "city                                   11\n",
       "area                                    0\n",
       "region                                  0\n",
       "nom_interest_rate%                      0\n",
       "dk_ann_infl_rate%                      77\n",
       "yield_on_mortgage_credit_bonds%        77\n",
       "dtype: int64"
      ]
     },
     "execution_count": 10,
     "metadata": {},
     "output_type": "execute_result"
    }
   ],
   "source": [
    "print(\"결측값 확인:\")\n",
    "df.isnull().sum()"
   ]
  },
  {
   "cell_type": "code",
   "execution_count": 11,
   "metadata": {},
   "outputs": [
    {
     "name": "stdout",
     "output_type": "stream",
     "text": [
      "컬럼 이름 확인:\n"
     ]
    },
    {
     "data": {
      "text/plain": [
       "Index(['date', 'quarter', 'house_id', 'house_type', 'sales_type', 'year_build',\n",
       "       'purchase_price', '%_change_between_offer_and_purchase', 'no_rooms',\n",
       "       'sqm', 'sqm_price', 'address', 'zip_code', 'city', 'area', 'region',\n",
       "       'nom_interest_rate%', 'dk_ann_infl_rate%',\n",
       "       'yield_on_mortgage_credit_bonds%'],\n",
       "      dtype='object')"
      ]
     },
     "execution_count": 11,
     "metadata": {},
     "output_type": "execute_result"
    }
   ],
   "source": [
    "print(\"컬럼 이름 확인:\")\n",
    "df.columns"
   ]
  },
  {
   "cell_type": "code",
   "execution_count": 12,
   "metadata": {},
   "outputs": [],
   "source": [
    "# 'city' 컬럼 결측값을 최빈값으로 채움\n",
    "df.fillna({'city': df['city'].mode()[0]}, inplace=True)"
   ]
  },
  {
   "cell_type": "code",
   "execution_count": 13,
   "metadata": {},
   "outputs": [],
   "source": [
    "# 'dk_ann_infl_rate%'와 'yield_on_mortgage_credit_bonds%' 컬럼의 결측값을 평균값으로 채우기\n",
    "df['dk_ann_infl_rate%'] = df['dk_ann_infl_rate%'].fillna(df['dk_ann_infl_rate%'].mean())\n",
    "df['yield_on_mortgage_credit_bonds%'] = df['yield_on_mortgage_credit_bonds%'].fillna(df['yield_on_mortgage_credit_bonds%'].mean())"
   ]
  },
  {
   "cell_type": "code",
   "execution_count": 14,
   "metadata": {},
   "outputs": [
    {
     "name": "stdout",
     "output_type": "stream",
     "text": [
      "제거 후 데이터프레임 컬럼:\n"
     ]
    },
    {
     "data": {
      "text/plain": [
       "Index(['date', 'quarter', 'house_type', 'sales_type', 'year_build',\n",
       "       'purchase_price', '%_change_between_offer_and_purchase', 'no_rooms',\n",
       "       'sqm', 'sqm_price', 'city', 'area', 'region', 'nom_interest_rate%',\n",
       "       'dk_ann_infl_rate%', 'yield_on_mortgage_credit_bonds%'],\n",
       "      dtype='object')"
      ]
     },
     "execution_count": 14,
     "metadata": {},
     "output_type": "execute_result"
    }
   ],
   "source": [
    "# 불필요한 컬럼 제거\n",
    "df = df.drop(['house_id', 'address', 'zip_code'], axis=1)\n",
    "\n",
    "# 컬럼 제거 후 데이터프레임 확인\n",
    "print(\"제거 후 데이터프레임 컬럼:\")\n",
    "df.columns"
   ]
  },
  {
   "cell_type": "code",
   "execution_count": 15,
   "metadata": {},
   "outputs": [
    {
     "name": "stdout",
     "output_type": "stream",
     "text": [
      "컬럼 'house_type'의 고유값 개수: 5\n",
      "컬럼 'sales_type'의 고유값 개수: 4\n",
      "컬럼 'city'의 고유값 개수: 607\n",
      "컬럼 'area'의 고유값 개수: 8\n",
      "컬럼 'region'의 고유값 개수: 4\n"
     ]
    }
   ],
   "source": [
    "# 범주형 컬럼의 고유값 개수 확인\n",
    "categorical_columns = ['house_type', 'sales_type', 'city', 'area', 'region']\n",
    "\n",
    "for col in categorical_columns:\n",
    "    unique_count = df[col].nunique()\n",
    "    print(f\"컬럼 '{col}'의 고유값 개수: {unique_count}\")"
   ]
  },
  {
   "cell_type": "code",
   "execution_count": 16,
   "metadata": {},
   "outputs": [
    {
     "name": "stdout",
     "output_type": "stream",
     "text": [
      "인코딩 완료 후 데이터프레임:\n"
     ]
    },
    {
     "data": {
      "text/html": [
       "<div>\n",
       "<style scoped>\n",
       "    .dataframe tbody tr th:only-of-type {\n",
       "        vertical-align: middle;\n",
       "    }\n",
       "\n",
       "    .dataframe tbody tr th {\n",
       "        vertical-align: top;\n",
       "    }\n",
       "\n",
       "    .dataframe thead th {\n",
       "        text-align: right;\n",
       "    }\n",
       "</style>\n",
       "<table border=\"1\" class=\"dataframe\">\n",
       "  <thead>\n",
       "    <tr style=\"text-align: right;\">\n",
       "      <th></th>\n",
       "      <th>date</th>\n",
       "      <th>quarter</th>\n",
       "      <th>year_build</th>\n",
       "      <th>purchase_price</th>\n",
       "      <th>%_change_between_offer_and_purchase</th>\n",
       "      <th>no_rooms</th>\n",
       "      <th>sqm</th>\n",
       "      <th>sqm_price</th>\n",
       "      <th>city</th>\n",
       "      <th>nom_interest_rate%</th>\n",
       "      <th>...</th>\n",
       "      <th>area_East &amp; mid jutland</th>\n",
       "      <th>area_Fyn &amp; islands</th>\n",
       "      <th>area_North Zealand</th>\n",
       "      <th>area_North jutland</th>\n",
       "      <th>area_Other islands</th>\n",
       "      <th>area_South jutland</th>\n",
       "      <th>region_Bornholm</th>\n",
       "      <th>region_Fyn &amp; islands</th>\n",
       "      <th>region_Jutland</th>\n",
       "      <th>region_Zealand</th>\n",
       "    </tr>\n",
       "  </thead>\n",
       "  <tbody>\n",
       "    <tr>\n",
       "      <th>0</th>\n",
       "      <td>2024-10-24</td>\n",
       "      <td>2024Q4</td>\n",
       "      <td>1997</td>\n",
       "      <td>6500000</td>\n",
       "      <td>-3.0</td>\n",
       "      <td>5</td>\n",
       "      <td>142.0</td>\n",
       "      <td>45774.650</td>\n",
       "      <td>471</td>\n",
       "      <td>3.1</td>\n",
       "      <td>...</td>\n",
       "      <td>False</td>\n",
       "      <td>False</td>\n",
       "      <td>False</td>\n",
       "      <td>False</td>\n",
       "      <td>False</td>\n",
       "      <td>False</td>\n",
       "      <td>False</td>\n",
       "      <td>False</td>\n",
       "      <td>False</td>\n",
       "      <td>True</td>\n",
       "    </tr>\n",
       "    <tr>\n",
       "      <th>1</th>\n",
       "      <td>2024-10-24</td>\n",
       "      <td>2024Q4</td>\n",
       "      <td>1885</td>\n",
       "      <td>3400000</td>\n",
       "      <td>0.0</td>\n",
       "      <td>2</td>\n",
       "      <td>46.0</td>\n",
       "      <td>73913.050</td>\n",
       "      <td>144</td>\n",
       "      <td>3.1</td>\n",
       "      <td>...</td>\n",
       "      <td>False</td>\n",
       "      <td>False</td>\n",
       "      <td>False</td>\n",
       "      <td>False</td>\n",
       "      <td>False</td>\n",
       "      <td>False</td>\n",
       "      <td>False</td>\n",
       "      <td>False</td>\n",
       "      <td>False</td>\n",
       "      <td>True</td>\n",
       "    </tr>\n",
       "    <tr>\n",
       "      <th>2</th>\n",
       "      <td>2024-10-23</td>\n",
       "      <td>2024Q4</td>\n",
       "      <td>1949</td>\n",
       "      <td>4550000</td>\n",
       "      <td>-4.0</td>\n",
       "      <td>4</td>\n",
       "      <td>112.0</td>\n",
       "      <td>40625.000</td>\n",
       "      <td>471</td>\n",
       "      <td>3.1</td>\n",
       "      <td>...</td>\n",
       "      <td>False</td>\n",
       "      <td>False</td>\n",
       "      <td>False</td>\n",
       "      <td>False</td>\n",
       "      <td>False</td>\n",
       "      <td>False</td>\n",
       "      <td>False</td>\n",
       "      <td>False</td>\n",
       "      <td>False</td>\n",
       "      <td>True</td>\n",
       "    </tr>\n",
       "    <tr>\n",
       "      <th>3</th>\n",
       "      <td>2024-10-23</td>\n",
       "      <td>2024Q4</td>\n",
       "      <td>2001</td>\n",
       "      <td>1630000</td>\n",
       "      <td>-12.0</td>\n",
       "      <td>4</td>\n",
       "      <td>186.0</td>\n",
       "      <td>8763.440</td>\n",
       "      <td>280</td>\n",
       "      <td>3.1</td>\n",
       "      <td>...</td>\n",
       "      <td>False</td>\n",
       "      <td>False</td>\n",
       "      <td>False</td>\n",
       "      <td>False</td>\n",
       "      <td>True</td>\n",
       "      <td>False</td>\n",
       "      <td>False</td>\n",
       "      <td>False</td>\n",
       "      <td>False</td>\n",
       "      <td>True</td>\n",
       "    </tr>\n",
       "    <tr>\n",
       "      <th>4</th>\n",
       "      <td>2024-10-22</td>\n",
       "      <td>2024Q4</td>\n",
       "      <td>1965</td>\n",
       "      <td>1975000</td>\n",
       "      <td>-10.0</td>\n",
       "      <td>3</td>\n",
       "      <td>82.0</td>\n",
       "      <td>24085.365</td>\n",
       "      <td>132</td>\n",
       "      <td>3.1</td>\n",
       "      <td>...</td>\n",
       "      <td>False</td>\n",
       "      <td>False</td>\n",
       "      <td>True</td>\n",
       "      <td>False</td>\n",
       "      <td>False</td>\n",
       "      <td>False</td>\n",
       "      <td>False</td>\n",
       "      <td>False</td>\n",
       "      <td>False</td>\n",
       "      <td>True</td>\n",
       "    </tr>\n",
       "  </tbody>\n",
       "</table>\n",
       "<p>5 rows × 33 columns</p>\n",
       "</div>"
      ],
      "text/plain": [
       "         date quarter  year_build  purchase_price  \\\n",
       "0  2024-10-24  2024Q4        1997         6500000   \n",
       "1  2024-10-24  2024Q4        1885         3400000   \n",
       "2  2024-10-23  2024Q4        1949         4550000   \n",
       "3  2024-10-23  2024Q4        2001         1630000   \n",
       "4  2024-10-22  2024Q4        1965         1975000   \n",
       "\n",
       "   %_change_between_offer_and_purchase  no_rooms    sqm  sqm_price  city  \\\n",
       "0                                 -3.0         5  142.0  45774.650   471   \n",
       "1                                  0.0         2   46.0  73913.050   144   \n",
       "2                                 -4.0         4  112.0  40625.000   471   \n",
       "3                                -12.0         4  186.0   8763.440   280   \n",
       "4                                -10.0         3   82.0  24085.365   132   \n",
       "\n",
       "   nom_interest_rate%  ...  area_East & mid jutland  area_Fyn & islands  \\\n",
       "0                 3.1  ...                    False               False   \n",
       "1                 3.1  ...                    False               False   \n",
       "2                 3.1  ...                    False               False   \n",
       "3                 3.1  ...                    False               False   \n",
       "4                 3.1  ...                    False               False   \n",
       "\n",
       "   area_North Zealand  area_North jutland  area_Other islands  \\\n",
       "0               False               False               False   \n",
       "1               False               False               False   \n",
       "2               False               False               False   \n",
       "3               False               False                True   \n",
       "4                True               False               False   \n",
       "\n",
       "   area_South jutland  region_Bornholm  region_Fyn & islands  region_Jutland  \\\n",
       "0               False            False                 False           False   \n",
       "1               False            False                 False           False   \n",
       "2               False            False                 False           False   \n",
       "3               False            False                 False           False   \n",
       "4               False            False                 False           False   \n",
       "\n",
       "   region_Zealand  \n",
       "0            True  \n",
       "1            True  \n",
       "2            True  \n",
       "3            True  \n",
       "4            True  \n",
       "\n",
       "[5 rows x 33 columns]"
      ]
     },
     "execution_count": 16,
     "metadata": {},
     "output_type": "execute_result"
    }
   ],
   "source": [
    "from sklearn.preprocessing import LabelEncoder\n",
    "\n",
    "# Label Encoding for 'city' 컬럼\n",
    "label_encoder = LabelEncoder()\n",
    "df['city'] = label_encoder.fit_transform(df['city'])\n",
    "\n",
    "# One-Hot Encoding for 범주 수가 적은 컬럼들\n",
    "df = pd.get_dummies(df, columns=['house_type', 'sales_type', 'area', 'region'])\n",
    "\n",
    "# 결과 확인\n",
    "print(\"인코딩 완료 후 데이터프레임:\")\n",
    "df.head()"
   ]
  },
  {
   "cell_type": "code",
   "execution_count": 17,
   "metadata": {},
   "outputs": [
    {
     "name": "stdout",
     "output_type": "stream",
     "text": [
      "   year_build  house_age\n",
      "0        1997         27\n",
      "1        1885        139\n",
      "2        1949         75\n",
      "3        2001         23\n",
      "4        1965         59\n"
     ]
    }
   ],
   "source": [
    "import datetime\n",
    "\n",
    "# 현재 연도 계산\n",
    "current_year = datetime.datetime.now().year\n",
    "\n",
    "# 'house_age' 컬럼 추가\n",
    "df['house_age'] = current_year - df['year_build']\n",
    "\n",
    "print(df[['year_build', 'house_age']].head())"
   ]
  },
  {
   "cell_type": "code",
   "execution_count": 18,
   "metadata": {},
   "outputs": [
    {
     "name": "stdout",
     "output_type": "stream",
     "text": [
      "현재 데이터프레임 컬럼:\n",
      "Index(['date', 'quarter', 'year_build', 'purchase_price',\n",
      "       '%_change_between_offer_and_purchase', 'no_rooms', 'sqm', 'sqm_price',\n",
      "       'city', 'nom_interest_rate%', 'dk_ann_infl_rate%',\n",
      "       'yield_on_mortgage_credit_bonds%', 'house_type_Apartment',\n",
      "       'house_type_Farm', 'house_type_Summerhouse', 'house_type_Townhouse',\n",
      "       'house_type_Villa', 'sales_type_auction', 'sales_type_family_sale',\n",
      "       'sales_type_other_sale', 'sales_type_regular_sale', 'area_Bornholm',\n",
      "       'area_Capital, Copenhagen', 'area_East & mid jutland',\n",
      "       'area_Fyn & islands', 'area_North Zealand', 'area_North jutland',\n",
      "       'area_Other islands', 'area_South jutland', 'region_Bornholm',\n",
      "       'region_Fyn & islands', 'region_Jutland', 'region_Zealand',\n",
      "       'house_age'],\n",
      "      dtype='object')\n"
     ]
    }
   ],
   "source": [
    "print(\"현재 데이터프레임 컬럼:\")\n",
    "print(df.columns)"
   ]
  },
  {
   "cell_type": "code",
   "execution_count": 19,
   "metadata": {},
   "outputs": [],
   "source": [
    "# 'year_build' 컬럼 제거\n",
    "df = df.drop('year_build', axis=1)"
   ]
  },
  {
   "cell_type": "code",
   "execution_count": 20,
   "metadata": {},
   "outputs": [
    {
     "name": "stdout",
     "output_type": "stream",
     "text": [
      "컬럼 제거 후 데이터프레임:\n"
     ]
    },
    {
     "data": {
      "text/html": [
       "<div>\n",
       "<style scoped>\n",
       "    .dataframe tbody tr th:only-of-type {\n",
       "        vertical-align: middle;\n",
       "    }\n",
       "\n",
       "    .dataframe tbody tr th {\n",
       "        vertical-align: top;\n",
       "    }\n",
       "\n",
       "    .dataframe thead th {\n",
       "        text-align: right;\n",
       "    }\n",
       "</style>\n",
       "<table border=\"1\" class=\"dataframe\">\n",
       "  <thead>\n",
       "    <tr style=\"text-align: right;\">\n",
       "      <th></th>\n",
       "      <th>date</th>\n",
       "      <th>quarter</th>\n",
       "      <th>purchase_price</th>\n",
       "      <th>%_change_between_offer_and_purchase</th>\n",
       "      <th>no_rooms</th>\n",
       "      <th>sqm</th>\n",
       "      <th>sqm_price</th>\n",
       "      <th>city</th>\n",
       "      <th>nom_interest_rate%</th>\n",
       "      <th>dk_ann_infl_rate%</th>\n",
       "      <th>...</th>\n",
       "      <th>area_Fyn &amp; islands</th>\n",
       "      <th>area_North Zealand</th>\n",
       "      <th>area_North jutland</th>\n",
       "      <th>area_Other islands</th>\n",
       "      <th>area_South jutland</th>\n",
       "      <th>region_Bornholm</th>\n",
       "      <th>region_Fyn &amp; islands</th>\n",
       "      <th>region_Jutland</th>\n",
       "      <th>region_Zealand</th>\n",
       "      <th>house_age</th>\n",
       "    </tr>\n",
       "  </thead>\n",
       "  <tbody>\n",
       "    <tr>\n",
       "      <th>0</th>\n",
       "      <td>2024-10-24</td>\n",
       "      <td>2024Q4</td>\n",
       "      <td>6500000</td>\n",
       "      <td>-3.0</td>\n",
       "      <td>5</td>\n",
       "      <td>142.0</td>\n",
       "      <td>45774.650</td>\n",
       "      <td>471</td>\n",
       "      <td>3.1</td>\n",
       "      <td>1.927025</td>\n",
       "      <td>...</td>\n",
       "      <td>False</td>\n",
       "      <td>False</td>\n",
       "      <td>False</td>\n",
       "      <td>False</td>\n",
       "      <td>False</td>\n",
       "      <td>False</td>\n",
       "      <td>False</td>\n",
       "      <td>False</td>\n",
       "      <td>True</td>\n",
       "      <td>27</td>\n",
       "    </tr>\n",
       "    <tr>\n",
       "      <th>1</th>\n",
       "      <td>2024-10-24</td>\n",
       "      <td>2024Q4</td>\n",
       "      <td>3400000</td>\n",
       "      <td>0.0</td>\n",
       "      <td>2</td>\n",
       "      <td>46.0</td>\n",
       "      <td>73913.050</td>\n",
       "      <td>144</td>\n",
       "      <td>3.1</td>\n",
       "      <td>1.927025</td>\n",
       "      <td>...</td>\n",
       "      <td>False</td>\n",
       "      <td>False</td>\n",
       "      <td>False</td>\n",
       "      <td>False</td>\n",
       "      <td>False</td>\n",
       "      <td>False</td>\n",
       "      <td>False</td>\n",
       "      <td>False</td>\n",
       "      <td>True</td>\n",
       "      <td>139</td>\n",
       "    </tr>\n",
       "    <tr>\n",
       "      <th>2</th>\n",
       "      <td>2024-10-23</td>\n",
       "      <td>2024Q4</td>\n",
       "      <td>4550000</td>\n",
       "      <td>-4.0</td>\n",
       "      <td>4</td>\n",
       "      <td>112.0</td>\n",
       "      <td>40625.000</td>\n",
       "      <td>471</td>\n",
       "      <td>3.1</td>\n",
       "      <td>1.927025</td>\n",
       "      <td>...</td>\n",
       "      <td>False</td>\n",
       "      <td>False</td>\n",
       "      <td>False</td>\n",
       "      <td>False</td>\n",
       "      <td>False</td>\n",
       "      <td>False</td>\n",
       "      <td>False</td>\n",
       "      <td>False</td>\n",
       "      <td>True</td>\n",
       "      <td>75</td>\n",
       "    </tr>\n",
       "    <tr>\n",
       "      <th>3</th>\n",
       "      <td>2024-10-23</td>\n",
       "      <td>2024Q4</td>\n",
       "      <td>1630000</td>\n",
       "      <td>-12.0</td>\n",
       "      <td>4</td>\n",
       "      <td>186.0</td>\n",
       "      <td>8763.440</td>\n",
       "      <td>280</td>\n",
       "      <td>3.1</td>\n",
       "      <td>1.927025</td>\n",
       "      <td>...</td>\n",
       "      <td>False</td>\n",
       "      <td>False</td>\n",
       "      <td>False</td>\n",
       "      <td>True</td>\n",
       "      <td>False</td>\n",
       "      <td>False</td>\n",
       "      <td>False</td>\n",
       "      <td>False</td>\n",
       "      <td>True</td>\n",
       "      <td>23</td>\n",
       "    </tr>\n",
       "    <tr>\n",
       "      <th>4</th>\n",
       "      <td>2024-10-22</td>\n",
       "      <td>2024Q4</td>\n",
       "      <td>1975000</td>\n",
       "      <td>-10.0</td>\n",
       "      <td>3</td>\n",
       "      <td>82.0</td>\n",
       "      <td>24085.365</td>\n",
       "      <td>132</td>\n",
       "      <td>3.1</td>\n",
       "      <td>1.927025</td>\n",
       "      <td>...</td>\n",
       "      <td>False</td>\n",
       "      <td>True</td>\n",
       "      <td>False</td>\n",
       "      <td>False</td>\n",
       "      <td>False</td>\n",
       "      <td>False</td>\n",
       "      <td>False</td>\n",
       "      <td>False</td>\n",
       "      <td>True</td>\n",
       "      <td>59</td>\n",
       "    </tr>\n",
       "  </tbody>\n",
       "</table>\n",
       "<p>5 rows × 33 columns</p>\n",
       "</div>"
      ],
      "text/plain": [
       "         date quarter  purchase_price  %_change_between_offer_and_purchase  \\\n",
       "0  2024-10-24  2024Q4         6500000                                 -3.0   \n",
       "1  2024-10-24  2024Q4         3400000                                  0.0   \n",
       "2  2024-10-23  2024Q4         4550000                                 -4.0   \n",
       "3  2024-10-23  2024Q4         1630000                                -12.0   \n",
       "4  2024-10-22  2024Q4         1975000                                -10.0   \n",
       "\n",
       "   no_rooms    sqm  sqm_price  city  nom_interest_rate%  dk_ann_infl_rate%  \\\n",
       "0         5  142.0  45774.650   471                 3.1           1.927025   \n",
       "1         2   46.0  73913.050   144                 3.1           1.927025   \n",
       "2         4  112.0  40625.000   471                 3.1           1.927025   \n",
       "3         4  186.0   8763.440   280                 3.1           1.927025   \n",
       "4         3   82.0  24085.365   132                 3.1           1.927025   \n",
       "\n",
       "   ...  area_Fyn & islands  area_North Zealand  area_North jutland  \\\n",
       "0  ...               False               False               False   \n",
       "1  ...               False               False               False   \n",
       "2  ...               False               False               False   \n",
       "3  ...               False               False               False   \n",
       "4  ...               False                True               False   \n",
       "\n",
       "   area_Other islands  area_South jutland  region_Bornholm  \\\n",
       "0               False               False            False   \n",
       "1               False               False            False   \n",
       "2               False               False            False   \n",
       "3                True               False            False   \n",
       "4               False               False            False   \n",
       "\n",
       "   region_Fyn & islands  region_Jutland  region_Zealand  house_age  \n",
       "0                 False           False            True         27  \n",
       "1                 False           False            True        139  \n",
       "2                 False           False            True         75  \n",
       "3                 False           False            True         23  \n",
       "4                 False           False            True         59  \n",
       "\n",
       "[5 rows x 33 columns]"
      ]
     },
     "execution_count": 20,
     "metadata": {},
     "output_type": "execute_result"
    }
   ],
   "source": [
    "# 확인\n",
    "print(\"컬럼 제거 후 데이터프레임:\")\n",
    "df.head()"
   ]
  },
  {
   "cell_type": "code",
   "execution_count": 21,
   "metadata": {},
   "outputs": [
    {
     "name": "stdout",
     "output_type": "stream",
     "text": [
      "date                                    object\n",
      "quarter                                 object\n",
      "purchase_price                           int64\n",
      "%_change_between_offer_and_purchase    float64\n",
      "no_rooms                                 int64\n",
      "sqm                                    float64\n",
      "sqm_price                              float64\n",
      "city                                     int64\n",
      "nom_interest_rate%                     float64\n",
      "dk_ann_infl_rate%                      float64\n",
      "yield_on_mortgage_credit_bonds%        float64\n",
      "house_type_Apartment                      bool\n",
      "house_type_Farm                           bool\n",
      "house_type_Summerhouse                    bool\n",
      "house_type_Townhouse                      bool\n",
      "house_type_Villa                          bool\n",
      "sales_type_auction                        bool\n",
      "sales_type_family_sale                    bool\n",
      "sales_type_other_sale                     bool\n",
      "sales_type_regular_sale                   bool\n",
      "area_Bornholm                             bool\n",
      "area_Capital, Copenhagen                  bool\n",
      "area_East & mid jutland                   bool\n",
      "area_Fyn & islands                        bool\n",
      "area_North Zealand                        bool\n",
      "area_North jutland                        bool\n",
      "area_Other islands                        bool\n",
      "area_South jutland                        bool\n",
      "region_Bornholm                           bool\n",
      "region_Fyn & islands                      bool\n",
      "region_Jutland                            bool\n",
      "region_Zealand                            bool\n",
      "house_age                                int64\n",
      "dtype: object\n"
     ]
    }
   ],
   "source": [
    "print(df.dtypes)"
   ]
  },
  {
   "cell_type": "code",
   "execution_count": 22,
   "metadata": {},
   "outputs": [],
   "source": [
    "# 'date'를 datetime 형식으로 변환\n",
    "df['date'] = pd.to_datetime(df['date'])"
   ]
  },
  {
   "cell_type": "code",
   "execution_count": 23,
   "metadata": {},
   "outputs": [],
   "source": [
    "# 'year'와 'month' 컬럼 생성\n",
    "df['year'] = df['date'].dt.year\n",
    "df['month'] = df['date'].dt.month"
   ]
  },
  {
   "cell_type": "code",
   "execution_count": 24,
   "metadata": {},
   "outputs": [],
   "source": [
    "# 'date' 컬럼 삭제 (원하면)\n",
    "df = df.drop('date', axis=1)"
   ]
  },
  {
   "cell_type": "code",
   "execution_count": 25,
   "metadata": {},
   "outputs": [],
   "source": [
    "# 'quarter'를 숫자형으로 변환\n",
    "df['quarter'] = df['quarter'].str.extract('Q([0-9])').astype(int)"
   ]
  },
  {
   "cell_type": "code",
   "execution_count": 26,
   "metadata": {},
   "outputs": [
    {
     "name": "stdout",
     "output_type": "stream",
     "text": [
      "데이터 요약 통계:\n",
      "             quarter  purchase_price  %_change_between_offer_and_purchase  \\\n",
      "count  100000.000000    1.000000e+05                        100000.000000   \n",
      "mean        2.492160    1.925992e+06                            -2.084740   \n",
      "std         1.091389    1.777832e+06                             4.852926   \n",
      "min         1.000000    2.502000e+05                           -49.000000   \n",
      "25%         2.000000    8.000000e+05                            -3.000000   \n",
      "50%         2.000000    1.400000e+06                             0.000000   \n",
      "75%         3.000000    2.450000e+06                             0.000000   \n",
      "max         4.000000    4.595500e+07                            49.000000   \n",
      "\n",
      "            no_rooms            sqm      sqm_price           city  \\\n",
      "count  100000.000000  100000.000000  100000.000000  100000.000000   \n",
      "mean        4.375790     129.387820   16406.648074     305.791560   \n",
      "std         1.661686      57.170619   13655.184405     166.838731   \n",
      "min         1.000000      26.000000     374.549800       0.000000   \n",
      "25%         3.000000      89.000000    6792.940775     176.000000   \n",
      "50%         4.000000     123.000000   12070.707000     310.000000   \n",
      "75%         5.000000     160.000000   21343.201500     439.000000   \n",
      "max        15.000000     984.000000   75000.000000     606.000000   \n",
      "\n",
      "       nom_interest_rate%  dk_ann_infl_rate%  yield_on_mortgage_credit_bonds%  \\\n",
      "count       100000.000000      100000.000000                    100000.000000   \n",
      "mean             1.679263           1.927025                         4.107445   \n",
      "std              2.048078           1.637809                         2.193583   \n",
      "min              0.000000           0.250000                         1.100000   \n",
      "25%              0.000000           0.790000                         2.120000   \n",
      "50%              0.750000           1.850000                         4.340000   \n",
      "75%              3.250000           2.340000                         5.500000   \n",
      "max              9.500000           7.700000                        10.140000   \n",
      "\n",
      "           house_age           year          month  \n",
      "count  100000.000000  100000.000000  100000.000000  \n",
      "mean       68.921470    2012.327020       6.498420  \n",
      "std        45.703585       9.039902       3.333222  \n",
      "min         0.000000    1992.000000       1.000000  \n",
      "25%        44.000000    2005.000000       4.000000  \n",
      "50%        58.000000    2015.000000       6.000000  \n",
      "75%        93.000000    2020.000000       9.000000  \n",
      "max      1024.000000    2024.000000      12.000000  \n",
      "\n",
      "bool 컬럼별 True 비율:\n",
      "house_type_Apartment: 0.1935\n",
      "house_type_Farm: 0.0490\n",
      "house_type_Summerhouse: 0.1134\n",
      "house_type_Townhouse: 0.1018\n",
      "house_type_Villa: 0.5421\n",
      "sales_type_auction: 0.0106\n",
      "sales_type_family_sale: 0.0822\n",
      "sales_type_other_sale: 0.0249\n",
      "sales_type_regular_sale: 0.8823\n",
      "area_Bornholm: 0.0106\n",
      "area_Capital, Copenhagen: 0.1579\n",
      "area_East & mid jutland: 0.1638\n",
      "area_Fyn & islands: 0.0926\n",
      "area_North Zealand: 0.0752\n",
      "area_North jutland: 0.1100\n",
      "area_Other islands: 0.1643\n",
      "area_South jutland: 0.2256\n",
      "region_Bornholm: 0.0106\n",
      "region_Fyn & islands: 0.0926\n",
      "region_Jutland: 0.4994\n",
      "region_Zealand: 0.3974\n"
     ]
    }
   ],
   "source": [
    "# 데이터 요약 통계 확인\n",
    "print(\"데이터 요약 통계:\")\n",
    "print(df.describe())\n",
    "\n",
    "# bool 타입 컬럼의 True/False 비율 확인\n",
    "bool_columns = df.select_dtypes(include='bool').columns\n",
    "print(\"\\nbool 컬럼별 True 비율:\")\n",
    "for col in bool_columns:\n",
    "    print(f\"{col}: {df[col].mean():.4f}\")"
   ]
  },
  {
   "cell_type": "code",
   "execution_count": 27,
   "metadata": {},
   "outputs": [],
   "source": [
    "# 삭제할 컬럼 리스트\n",
    "columns_to_drop = [\n",
    "    'sales_type_auction', 'area_Bornholm', 'region_Bornholm', 'sales_type_other_sale',\n",
    "    'quarter', 'year'\n",
    "]"
   ]
  },
  {
   "cell_type": "code",
   "execution_count": 28,
   "metadata": {},
   "outputs": [],
   "source": [
    "# area_* 컬럼 제거\n",
    "columns_to_drop += [col for col in df.columns if col.startswith('area_')]"
   ]
  },
  {
   "cell_type": "code",
   "execution_count": 29,
   "metadata": {},
   "outputs": [],
   "source": [
    "# 컬럼 삭제\n",
    "df = df.drop(columns=columns_to_drop)"
   ]
  },
  {
   "cell_type": "code",
   "execution_count": 30,
   "metadata": {},
   "outputs": [
    {
     "name": "stdout",
     "output_type": "stream",
     "text": [
      "컬럼 삭제 후 데이터프레임:\n"
     ]
    },
    {
     "data": {
      "text/plain": [
       "Index(['purchase_price', '%_change_between_offer_and_purchase', 'no_rooms',\n",
       "       'sqm', 'sqm_price', 'city', 'nom_interest_rate%', 'dk_ann_infl_rate%',\n",
       "       'yield_on_mortgage_credit_bonds%', 'house_type_Apartment',\n",
       "       'house_type_Farm', 'house_type_Summerhouse', 'house_type_Townhouse',\n",
       "       'house_type_Villa', 'sales_type_family_sale', 'sales_type_regular_sale',\n",
       "       'region_Fyn & islands', 'region_Jutland', 'region_Zealand', 'house_age',\n",
       "       'month'],\n",
       "      dtype='object')"
      ]
     },
     "execution_count": 30,
     "metadata": {},
     "output_type": "execute_result"
    }
   ],
   "source": [
    "# 확인\n",
    "print(\"컬럼 삭제 후 데이터프레임:\")\n",
    "df.columns"
   ]
  },
  {
   "cell_type": "code",
   "execution_count": 31,
   "metadata": {},
   "outputs": [
    {
     "name": "stdout",
     "output_type": "stream",
     "text": [
      "스케일링 후 데이터프레임:\n"
     ]
    },
    {
     "data": {
      "text/html": [
       "<div>\n",
       "<style scoped>\n",
       "    .dataframe tbody tr th:only-of-type {\n",
       "        vertical-align: middle;\n",
       "    }\n",
       "\n",
       "    .dataframe tbody tr th {\n",
       "        vertical-align: top;\n",
       "    }\n",
       "\n",
       "    .dataframe thead th {\n",
       "        text-align: right;\n",
       "    }\n",
       "</style>\n",
       "<table border=\"1\" class=\"dataframe\">\n",
       "  <thead>\n",
       "    <tr style=\"text-align: right;\">\n",
       "      <th></th>\n",
       "      <th>purchase_price</th>\n",
       "      <th>%_change_between_offer_and_purchase</th>\n",
       "      <th>no_rooms</th>\n",
       "      <th>sqm</th>\n",
       "      <th>sqm_price</th>\n",
       "      <th>city</th>\n",
       "      <th>nom_interest_rate%</th>\n",
       "      <th>dk_ann_infl_rate%</th>\n",
       "      <th>yield_on_mortgage_credit_bonds%</th>\n",
       "      <th>house_type_Apartment</th>\n",
       "      <th>...</th>\n",
       "      <th>house_type_Summerhouse</th>\n",
       "      <th>house_type_Townhouse</th>\n",
       "      <th>house_type_Villa</th>\n",
       "      <th>sales_type_family_sale</th>\n",
       "      <th>sales_type_regular_sale</th>\n",
       "      <th>region_Fyn &amp; islands</th>\n",
       "      <th>region_Jutland</th>\n",
       "      <th>region_Zealand</th>\n",
       "      <th>house_age</th>\n",
       "      <th>month</th>\n",
       "    </tr>\n",
       "  </thead>\n",
       "  <tbody>\n",
       "    <tr>\n",
       "      <th>0</th>\n",
       "      <td>6500000</td>\n",
       "      <td>-0.188601</td>\n",
       "      <td>0.375651</td>\n",
       "      <td>0.220607</td>\n",
       "      <td>2.150696</td>\n",
       "      <td>471</td>\n",
       "      <td>0.693697</td>\n",
       "      <td>-1.355748e-16</td>\n",
       "      <td>0.0</td>\n",
       "      <td>False</td>\n",
       "      <td>...</td>\n",
       "      <td>False</td>\n",
       "      <td>False</td>\n",
       "      <td>True</td>\n",
       "      <td>False</td>\n",
       "      <td>True</td>\n",
       "      <td>False</td>\n",
       "      <td>False</td>\n",
       "      <td>True</td>\n",
       "      <td>-0.917251</td>\n",
       "      <td>10</td>\n",
       "    </tr>\n",
       "    <tr>\n",
       "      <th>1</th>\n",
       "      <td>3400000</td>\n",
       "      <td>0.429586</td>\n",
       "      <td>-1.429754</td>\n",
       "      <td>-1.458586</td>\n",
       "      <td>4.211345</td>\n",
       "      <td>144</td>\n",
       "      <td>0.693697</td>\n",
       "      <td>-1.355748e-16</td>\n",
       "      <td>0.0</td>\n",
       "      <td>True</td>\n",
       "      <td>...</td>\n",
       "      <td>False</td>\n",
       "      <td>False</td>\n",
       "      <td>False</td>\n",
       "      <td>False</td>\n",
       "      <td>True</td>\n",
       "      <td>False</td>\n",
       "      <td>False</td>\n",
       "      <td>True</td>\n",
       "      <td>1.533334</td>\n",
       "      <td>10</td>\n",
       "    </tr>\n",
       "    <tr>\n",
       "      <th>2</th>\n",
       "      <td>4550000</td>\n",
       "      <td>-0.394663</td>\n",
       "      <td>-0.226151</td>\n",
       "      <td>-0.304141</td>\n",
       "      <td>1.773573</td>\n",
       "      <td>471</td>\n",
       "      <td>0.693697</td>\n",
       "      <td>-1.355748e-16</td>\n",
       "      <td>0.0</td>\n",
       "      <td>False</td>\n",
       "      <td>...</td>\n",
       "      <td>False</td>\n",
       "      <td>False</td>\n",
       "      <td>True</td>\n",
       "      <td>False</td>\n",
       "      <td>True</td>\n",
       "      <td>False</td>\n",
       "      <td>False</td>\n",
       "      <td>True</td>\n",
       "      <td>0.133000</td>\n",
       "      <td>10</td>\n",
       "    </tr>\n",
       "    <tr>\n",
       "      <th>3</th>\n",
       "      <td>1630000</td>\n",
       "      <td>-2.043161</td>\n",
       "      <td>-0.226151</td>\n",
       "      <td>0.990237</td>\n",
       "      <td>-0.559732</td>\n",
       "      <td>280</td>\n",
       "      <td>0.693697</td>\n",
       "      <td>-1.355748e-16</td>\n",
       "      <td>0.0</td>\n",
       "      <td>False</td>\n",
       "      <td>...</td>\n",
       "      <td>False</td>\n",
       "      <td>False</td>\n",
       "      <td>True</td>\n",
       "      <td>False</td>\n",
       "      <td>True</td>\n",
       "      <td>False</td>\n",
       "      <td>False</td>\n",
       "      <td>True</td>\n",
       "      <td>-1.004772</td>\n",
       "      <td>10</td>\n",
       "    </tr>\n",
       "    <tr>\n",
       "      <th>4</th>\n",
       "      <td>1975000</td>\n",
       "      <td>-1.631036</td>\n",
       "      <td>-0.827953</td>\n",
       "      <td>-0.828888</td>\n",
       "      <td>0.562333</td>\n",
       "      <td>132</td>\n",
       "      <td>0.693697</td>\n",
       "      <td>-1.355748e-16</td>\n",
       "      <td>0.0</td>\n",
       "      <td>True</td>\n",
       "      <td>...</td>\n",
       "      <td>False</td>\n",
       "      <td>False</td>\n",
       "      <td>False</td>\n",
       "      <td>False</td>\n",
       "      <td>True</td>\n",
       "      <td>False</td>\n",
       "      <td>False</td>\n",
       "      <td>True</td>\n",
       "      <td>-0.217084</td>\n",
       "      <td>10</td>\n",
       "    </tr>\n",
       "  </tbody>\n",
       "</table>\n",
       "<p>5 rows × 21 columns</p>\n",
       "</div>"
      ],
      "text/plain": [
       "   purchase_price  %_change_between_offer_and_purchase  no_rooms       sqm  \\\n",
       "0         6500000                            -0.188601  0.375651  0.220607   \n",
       "1         3400000                             0.429586 -1.429754 -1.458586   \n",
       "2         4550000                            -0.394663 -0.226151 -0.304141   \n",
       "3         1630000                            -2.043161 -0.226151  0.990237   \n",
       "4         1975000                            -1.631036 -0.827953 -0.828888   \n",
       "\n",
       "   sqm_price  city  nom_interest_rate%  dk_ann_infl_rate%  \\\n",
       "0   2.150696   471            0.693697      -1.355748e-16   \n",
       "1   4.211345   144            0.693697      -1.355748e-16   \n",
       "2   1.773573   471            0.693697      -1.355748e-16   \n",
       "3  -0.559732   280            0.693697      -1.355748e-16   \n",
       "4   0.562333   132            0.693697      -1.355748e-16   \n",
       "\n",
       "   yield_on_mortgage_credit_bonds%  house_type_Apartment  ...  \\\n",
       "0                              0.0                 False  ...   \n",
       "1                              0.0                  True  ...   \n",
       "2                              0.0                 False  ...   \n",
       "3                              0.0                 False  ...   \n",
       "4                              0.0                  True  ...   \n",
       "\n",
       "   house_type_Summerhouse  house_type_Townhouse  house_type_Villa  \\\n",
       "0                   False                 False              True   \n",
       "1                   False                 False             False   \n",
       "2                   False                 False              True   \n",
       "3                   False                 False              True   \n",
       "4                   False                 False             False   \n",
       "\n",
       "   sales_type_family_sale  sales_type_regular_sale  region_Fyn & islands  \\\n",
       "0                   False                     True                 False   \n",
       "1                   False                     True                 False   \n",
       "2                   False                     True                 False   \n",
       "3                   False                     True                 False   \n",
       "4                   False                     True                 False   \n",
       "\n",
       "   region_Jutland  region_Zealand  house_age  month  \n",
       "0           False            True  -0.917251     10  \n",
       "1           False            True   1.533334     10  \n",
       "2           False            True   0.133000     10  \n",
       "3           False            True  -1.004772     10  \n",
       "4           False            True  -0.217084     10  \n",
       "\n",
       "[5 rows x 21 columns]"
      ]
     },
     "execution_count": 31,
     "metadata": {},
     "output_type": "execute_result"
    }
   ],
   "source": [
    "from sklearn.preprocessing import StandardScaler\n",
    "\n",
    "# 스케일링 대상 컬럼 선택\n",
    "scale_columns = [\n",
    "    '%_change_between_offer_and_purchase', 'no_rooms', 'sqm', 'sqm_price',\n",
    "    'nom_interest_rate%', 'dk_ann_infl_rate%', 'yield_on_mortgage_credit_bonds%', 'house_age'\n",
    "]\n",
    "\n",
    "# StandardScaler 객체 생성 및 스케일링 적용\n",
    "scaler = StandardScaler()\n",
    "df[scale_columns] = scaler.fit_transform(df[scale_columns])\n",
    "\n",
    "# 결과 확인\n",
    "print(\"스케일링 후 데이터프레임:\")\n",
    "df.head()"
   ]
  },
  {
   "cell_type": "code",
   "execution_count": 32,
   "metadata": {},
   "outputs": [
    {
     "name": "stdout",
     "output_type": "stream",
     "text": [
      "학습 데이터 크기: (80000, 20) (80000,)\n",
      "테스트 데이터 크기: (20000, 20) (20000,)\n"
     ]
    }
   ],
   "source": [
    "from sklearn.model_selection import train_test_split\n",
    "\n",
    "# 입력 변수(X)와 타겟 변수(y) 분리\n",
    "X = df.drop('purchase_price', axis=1)  # 타겟 변수를 제외한 나머지 컬럼\n",
    "y = df['purchase_price']               # 타겟 변수 (주택 가격)\n",
    "\n",
    "# 학습 데이터와 테스트 데이터 분할\n",
    "X_train, X_test, y_train, y_test = train_test_split(X, y, test_size=0.2, random_state=42)\n",
    "\n",
    "# 분할 결과 확인\n",
    "print(\"학습 데이터 크기:\", X_train.shape, y_train.shape)\n",
    "print(\"테스트 데이터 크기:\", X_test.shape, y_test.shape)"
   ]
  },
  {
   "cell_type": "code",
   "execution_count": 33,
   "metadata": {},
   "outputs": [],
   "source": [
    "#지금부터 선형회귀'를' 할거예요\n",
    "from sklearn.linear_model import LinearRegression\n",
    "from sklearn.metrics import mean_squared_error, r2_score\n",
    "import numpy as np"
   ]
  },
  {
   "cell_type": "code",
   "execution_count": 34,
   "metadata": {},
   "outputs": [],
   "source": [
    "# 모델 생성\n",
    "linear_model = LinearRegression()"
   ]
  },
  {
   "cell_type": "code",
   "execution_count": 35,
   "metadata": {},
   "outputs": [
    {
     "data": {
      "text/html": [
       "<style>#sk-container-id-1 {color: black;}#sk-container-id-1 pre{padding: 0;}#sk-container-id-1 div.sk-toggleable {background-color: white;}#sk-container-id-1 label.sk-toggleable__label {cursor: pointer;display: block;width: 100%;margin-bottom: 0;padding: 0.3em;box-sizing: border-box;text-align: center;}#sk-container-id-1 label.sk-toggleable__label-arrow:before {content: \"▸\";float: left;margin-right: 0.25em;color: #696969;}#sk-container-id-1 label.sk-toggleable__label-arrow:hover:before {color: black;}#sk-container-id-1 div.sk-estimator:hover label.sk-toggleable__label-arrow:before {color: black;}#sk-container-id-1 div.sk-toggleable__content {max-height: 0;max-width: 0;overflow: hidden;text-align: left;background-color: #f0f8ff;}#sk-container-id-1 div.sk-toggleable__content pre {margin: 0.2em;color: black;border-radius: 0.25em;background-color: #f0f8ff;}#sk-container-id-1 input.sk-toggleable__control:checked~div.sk-toggleable__content {max-height: 200px;max-width: 100%;overflow: auto;}#sk-container-id-1 input.sk-toggleable__control:checked~label.sk-toggleable__label-arrow:before {content: \"▾\";}#sk-container-id-1 div.sk-estimator input.sk-toggleable__control:checked~label.sk-toggleable__label {background-color: #d4ebff;}#sk-container-id-1 div.sk-label input.sk-toggleable__control:checked~label.sk-toggleable__label {background-color: #d4ebff;}#sk-container-id-1 input.sk-hidden--visually {border: 0;clip: rect(1px 1px 1px 1px);clip: rect(1px, 1px, 1px, 1px);height: 1px;margin: -1px;overflow: hidden;padding: 0;position: absolute;width: 1px;}#sk-container-id-1 div.sk-estimator {font-family: monospace;background-color: #f0f8ff;border: 1px dotted black;border-radius: 0.25em;box-sizing: border-box;margin-bottom: 0.5em;}#sk-container-id-1 div.sk-estimator:hover {background-color: #d4ebff;}#sk-container-id-1 div.sk-parallel-item::after {content: \"\";width: 100%;border-bottom: 1px solid gray;flex-grow: 1;}#sk-container-id-1 div.sk-label:hover label.sk-toggleable__label {background-color: #d4ebff;}#sk-container-id-1 div.sk-serial::before {content: \"\";position: absolute;border-left: 1px solid gray;box-sizing: border-box;top: 0;bottom: 0;left: 50%;z-index: 0;}#sk-container-id-1 div.sk-serial {display: flex;flex-direction: column;align-items: center;background-color: white;padding-right: 0.2em;padding-left: 0.2em;position: relative;}#sk-container-id-1 div.sk-item {position: relative;z-index: 1;}#sk-container-id-1 div.sk-parallel {display: flex;align-items: stretch;justify-content: center;background-color: white;position: relative;}#sk-container-id-1 div.sk-item::before, #sk-container-id-1 div.sk-parallel-item::before {content: \"\";position: absolute;border-left: 1px solid gray;box-sizing: border-box;top: 0;bottom: 0;left: 50%;z-index: -1;}#sk-container-id-1 div.sk-parallel-item {display: flex;flex-direction: column;z-index: 1;position: relative;background-color: white;}#sk-container-id-1 div.sk-parallel-item:first-child::after {align-self: flex-end;width: 50%;}#sk-container-id-1 div.sk-parallel-item:last-child::after {align-self: flex-start;width: 50%;}#sk-container-id-1 div.sk-parallel-item:only-child::after {width: 0;}#sk-container-id-1 div.sk-dashed-wrapped {border: 1px dashed gray;margin: 0 0.4em 0.5em 0.4em;box-sizing: border-box;padding-bottom: 0.4em;background-color: white;}#sk-container-id-1 div.sk-label label {font-family: monospace;font-weight: bold;display: inline-block;line-height: 1.2em;}#sk-container-id-1 div.sk-label-container {text-align: center;}#sk-container-id-1 div.sk-container {/* jupyter's `normalize.less` sets `[hidden] { display: none; }` but bootstrap.min.css set `[hidden] { display: none !important; }` so we also need the `!important` here to be able to override the default hidden behavior on the sphinx rendered scikit-learn.org. See: https://github.com/scikit-learn/scikit-learn/issues/21755 */display: inline-block !important;position: relative;}#sk-container-id-1 div.sk-text-repr-fallback {display: none;}</style><div id=\"sk-container-id-1\" class=\"sk-top-container\"><div class=\"sk-text-repr-fallback\"><pre>LinearRegression()</pre><b>In a Jupyter environment, please rerun this cell to show the HTML representation or trust the notebook. <br />On GitHub, the HTML representation is unable to render, please try loading this page with nbviewer.org.</b></div><div class=\"sk-container\" hidden><div class=\"sk-item\"><div class=\"sk-estimator sk-toggleable\"><input class=\"sk-toggleable__control sk-hidden--visually\" id=\"sk-estimator-id-1\" type=\"checkbox\" checked><label for=\"sk-estimator-id-1\" class=\"sk-toggleable__label sk-toggleable__label-arrow\">LinearRegression</label><div class=\"sk-toggleable__content\"><pre>LinearRegression()</pre></div></div></div></div></div>"
      ],
      "text/plain": [
       "LinearRegression()"
      ]
     },
     "execution_count": 35,
     "metadata": {},
     "output_type": "execute_result"
    }
   ],
   "source": [
    "# 모델 학습\n",
    "linear_model.fit(X_train, y_train)"
   ]
  },
  {
   "cell_type": "code",
   "execution_count": 36,
   "metadata": {},
   "outputs": [],
   "source": [
    "# 예측\n",
    "y_pred = linear_model.predict(X_test)"
   ]
  },
  {
   "cell_type": "code",
   "execution_count": 37,
   "metadata": {},
   "outputs": [],
   "source": [
    "# 평가 지표 계산\n",
    "mse = mean_squared_error(y_test, y_pred)\n",
    "rmse = np.sqrt(mse)\n",
    "r2 = r2_score(y_test, y_pred)"
   ]
  },
  {
   "cell_type": "code",
   "execution_count": 38,
   "metadata": {},
   "outputs": [
    {
     "name": "stdout",
     "output_type": "stream",
     "text": [
      "선형 회귀 성능:\n",
      "RMSE: 791257.68\n",
      "R² Score: 0.8008\n"
     ]
    }
   ],
   "source": [
    "# 결과 출력\n",
    "print(\"선형 회귀 성능:\")\n",
    "print(f\"RMSE: {rmse:.2f}\")\n",
    "print(f\"R² Score: {r2:.4f}\")"
   ]
  },
  {
   "cell_type": "code",
   "execution_count": 39,
   "metadata": {},
   "outputs": [],
   "source": [
    "#지금부터는 릿지회귀'를' 할거예요\n",
    "from sklearn.linear_model import Ridge"
   ]
  },
  {
   "cell_type": "code",
   "execution_count": 40,
   "metadata": {},
   "outputs": [],
   "source": [
    "# 모델 생성\n",
    "ridge_model = Ridge(alpha=1.0)  # alpha: 규제 강도 조절"
   ]
  },
  {
   "cell_type": "code",
   "execution_count": 41,
   "metadata": {},
   "outputs": [
    {
     "data": {
      "text/html": [
       "<style>#sk-container-id-2 {color: black;}#sk-container-id-2 pre{padding: 0;}#sk-container-id-2 div.sk-toggleable {background-color: white;}#sk-container-id-2 label.sk-toggleable__label {cursor: pointer;display: block;width: 100%;margin-bottom: 0;padding: 0.3em;box-sizing: border-box;text-align: center;}#sk-container-id-2 label.sk-toggleable__label-arrow:before {content: \"▸\";float: left;margin-right: 0.25em;color: #696969;}#sk-container-id-2 label.sk-toggleable__label-arrow:hover:before {color: black;}#sk-container-id-2 div.sk-estimator:hover label.sk-toggleable__label-arrow:before {color: black;}#sk-container-id-2 div.sk-toggleable__content {max-height: 0;max-width: 0;overflow: hidden;text-align: left;background-color: #f0f8ff;}#sk-container-id-2 div.sk-toggleable__content pre {margin: 0.2em;color: black;border-radius: 0.25em;background-color: #f0f8ff;}#sk-container-id-2 input.sk-toggleable__control:checked~div.sk-toggleable__content {max-height: 200px;max-width: 100%;overflow: auto;}#sk-container-id-2 input.sk-toggleable__control:checked~label.sk-toggleable__label-arrow:before {content: \"▾\";}#sk-container-id-2 div.sk-estimator input.sk-toggleable__control:checked~label.sk-toggleable__label {background-color: #d4ebff;}#sk-container-id-2 div.sk-label input.sk-toggleable__control:checked~label.sk-toggleable__label {background-color: #d4ebff;}#sk-container-id-2 input.sk-hidden--visually {border: 0;clip: rect(1px 1px 1px 1px);clip: rect(1px, 1px, 1px, 1px);height: 1px;margin: -1px;overflow: hidden;padding: 0;position: absolute;width: 1px;}#sk-container-id-2 div.sk-estimator {font-family: monospace;background-color: #f0f8ff;border: 1px dotted black;border-radius: 0.25em;box-sizing: border-box;margin-bottom: 0.5em;}#sk-container-id-2 div.sk-estimator:hover {background-color: #d4ebff;}#sk-container-id-2 div.sk-parallel-item::after {content: \"\";width: 100%;border-bottom: 1px solid gray;flex-grow: 1;}#sk-container-id-2 div.sk-label:hover label.sk-toggleable__label {background-color: #d4ebff;}#sk-container-id-2 div.sk-serial::before {content: \"\";position: absolute;border-left: 1px solid gray;box-sizing: border-box;top: 0;bottom: 0;left: 50%;z-index: 0;}#sk-container-id-2 div.sk-serial {display: flex;flex-direction: column;align-items: center;background-color: white;padding-right: 0.2em;padding-left: 0.2em;position: relative;}#sk-container-id-2 div.sk-item {position: relative;z-index: 1;}#sk-container-id-2 div.sk-parallel {display: flex;align-items: stretch;justify-content: center;background-color: white;position: relative;}#sk-container-id-2 div.sk-item::before, #sk-container-id-2 div.sk-parallel-item::before {content: \"\";position: absolute;border-left: 1px solid gray;box-sizing: border-box;top: 0;bottom: 0;left: 50%;z-index: -1;}#sk-container-id-2 div.sk-parallel-item {display: flex;flex-direction: column;z-index: 1;position: relative;background-color: white;}#sk-container-id-2 div.sk-parallel-item:first-child::after {align-self: flex-end;width: 50%;}#sk-container-id-2 div.sk-parallel-item:last-child::after {align-self: flex-start;width: 50%;}#sk-container-id-2 div.sk-parallel-item:only-child::after {width: 0;}#sk-container-id-2 div.sk-dashed-wrapped {border: 1px dashed gray;margin: 0 0.4em 0.5em 0.4em;box-sizing: border-box;padding-bottom: 0.4em;background-color: white;}#sk-container-id-2 div.sk-label label {font-family: monospace;font-weight: bold;display: inline-block;line-height: 1.2em;}#sk-container-id-2 div.sk-label-container {text-align: center;}#sk-container-id-2 div.sk-container {/* jupyter's `normalize.less` sets `[hidden] { display: none; }` but bootstrap.min.css set `[hidden] { display: none !important; }` so we also need the `!important` here to be able to override the default hidden behavior on the sphinx rendered scikit-learn.org. See: https://github.com/scikit-learn/scikit-learn/issues/21755 */display: inline-block !important;position: relative;}#sk-container-id-2 div.sk-text-repr-fallback {display: none;}</style><div id=\"sk-container-id-2\" class=\"sk-top-container\"><div class=\"sk-text-repr-fallback\"><pre>Ridge()</pre><b>In a Jupyter environment, please rerun this cell to show the HTML representation or trust the notebook. <br />On GitHub, the HTML representation is unable to render, please try loading this page with nbviewer.org.</b></div><div class=\"sk-container\" hidden><div class=\"sk-item\"><div class=\"sk-estimator sk-toggleable\"><input class=\"sk-toggleable__control sk-hidden--visually\" id=\"sk-estimator-id-2\" type=\"checkbox\" checked><label for=\"sk-estimator-id-2\" class=\"sk-toggleable__label sk-toggleable__label-arrow\">Ridge</label><div class=\"sk-toggleable__content\"><pre>Ridge()</pre></div></div></div></div></div>"
      ],
      "text/plain": [
       "Ridge()"
      ]
     },
     "execution_count": 41,
     "metadata": {},
     "output_type": "execute_result"
    }
   ],
   "source": [
    "# 모델 학습\n",
    "ridge_model.fit(X_train, y_train)"
   ]
  },
  {
   "cell_type": "code",
   "execution_count": 42,
   "metadata": {},
   "outputs": [],
   "source": [
    "# 예측\n",
    "y_pred_ridge = ridge_model.predict(X_test)"
   ]
  },
  {
   "cell_type": "code",
   "execution_count": 43,
   "metadata": {},
   "outputs": [],
   "source": [
    "# 평가 지표 계산\n",
    "mse_ridge = mean_squared_error(y_test, y_pred_ridge)\n",
    "rmse_ridge = np.sqrt(mse_ridge)\n",
    "r2_ridge = r2_score(y_test, y_pred_ridge)"
   ]
  },
  {
   "cell_type": "code",
   "execution_count": 44,
   "metadata": {},
   "outputs": [
    {
     "name": "stdout",
     "output_type": "stream",
     "text": [
      "릿지 회귀 성능:\n",
      "RMSE: 791257.49\n",
      "R² Score: 0.8008\n"
     ]
    }
   ],
   "source": [
    "# 결과 출력\n",
    "print(\"릿지 회귀 성능:\")\n",
    "print(f\"RMSE: {rmse_ridge:.2f}\")\n",
    "print(f\"R² Score: {r2_ridge:.4f}\")"
   ]
  },
  {
   "cell_type": "code",
   "execution_count": 45,
   "metadata": {},
   "outputs": [],
   "source": [
    "# 지금부터는 라쏘회귀'를' 할 거예요\n",
    "from sklearn.linear_model import Lasso"
   ]
  },
  {
   "cell_type": "code",
   "execution_count": 46,
   "metadata": {},
   "outputs": [],
   "source": [
    "# 모델 생성\n",
    "lasso_model = Lasso(alpha=0.01, max_iter=50000)  # alpha: 규제 강도 조절"
   ]
  },
  {
   "cell_type": "code",
   "execution_count": 47,
   "metadata": {},
   "outputs": [
    {
     "name": "stderr",
     "output_type": "stream",
     "text": [
      "/Users/josuhyeon/homework/env1/lib/python3.11/site-packages/sklearn/linear_model/_coordinate_descent.py:628: ConvergenceWarning: Objective did not converge. You might want to increase the number of iterations, check the scale of the features or consider increasing regularisation. Duality gap: 5.360e+14, tolerance: 2.532e+13\n",
      "  model = cd_fast.enet_coordinate_descent(\n"
     ]
    },
    {
     "data": {
      "text/html": [
       "<style>#sk-container-id-3 {color: black;}#sk-container-id-3 pre{padding: 0;}#sk-container-id-3 div.sk-toggleable {background-color: white;}#sk-container-id-3 label.sk-toggleable__label {cursor: pointer;display: block;width: 100%;margin-bottom: 0;padding: 0.3em;box-sizing: border-box;text-align: center;}#sk-container-id-3 label.sk-toggleable__label-arrow:before {content: \"▸\";float: left;margin-right: 0.25em;color: #696969;}#sk-container-id-3 label.sk-toggleable__label-arrow:hover:before {color: black;}#sk-container-id-3 div.sk-estimator:hover label.sk-toggleable__label-arrow:before {color: black;}#sk-container-id-3 div.sk-toggleable__content {max-height: 0;max-width: 0;overflow: hidden;text-align: left;background-color: #f0f8ff;}#sk-container-id-3 div.sk-toggleable__content pre {margin: 0.2em;color: black;border-radius: 0.25em;background-color: #f0f8ff;}#sk-container-id-3 input.sk-toggleable__control:checked~div.sk-toggleable__content {max-height: 200px;max-width: 100%;overflow: auto;}#sk-container-id-3 input.sk-toggleable__control:checked~label.sk-toggleable__label-arrow:before {content: \"▾\";}#sk-container-id-3 div.sk-estimator input.sk-toggleable__control:checked~label.sk-toggleable__label {background-color: #d4ebff;}#sk-container-id-3 div.sk-label input.sk-toggleable__control:checked~label.sk-toggleable__label {background-color: #d4ebff;}#sk-container-id-3 input.sk-hidden--visually {border: 0;clip: rect(1px 1px 1px 1px);clip: rect(1px, 1px, 1px, 1px);height: 1px;margin: -1px;overflow: hidden;padding: 0;position: absolute;width: 1px;}#sk-container-id-3 div.sk-estimator {font-family: monospace;background-color: #f0f8ff;border: 1px dotted black;border-radius: 0.25em;box-sizing: border-box;margin-bottom: 0.5em;}#sk-container-id-3 div.sk-estimator:hover {background-color: #d4ebff;}#sk-container-id-3 div.sk-parallel-item::after {content: \"\";width: 100%;border-bottom: 1px solid gray;flex-grow: 1;}#sk-container-id-3 div.sk-label:hover label.sk-toggleable__label {background-color: #d4ebff;}#sk-container-id-3 div.sk-serial::before {content: \"\";position: absolute;border-left: 1px solid gray;box-sizing: border-box;top: 0;bottom: 0;left: 50%;z-index: 0;}#sk-container-id-3 div.sk-serial {display: flex;flex-direction: column;align-items: center;background-color: white;padding-right: 0.2em;padding-left: 0.2em;position: relative;}#sk-container-id-3 div.sk-item {position: relative;z-index: 1;}#sk-container-id-3 div.sk-parallel {display: flex;align-items: stretch;justify-content: center;background-color: white;position: relative;}#sk-container-id-3 div.sk-item::before, #sk-container-id-3 div.sk-parallel-item::before {content: \"\";position: absolute;border-left: 1px solid gray;box-sizing: border-box;top: 0;bottom: 0;left: 50%;z-index: -1;}#sk-container-id-3 div.sk-parallel-item {display: flex;flex-direction: column;z-index: 1;position: relative;background-color: white;}#sk-container-id-3 div.sk-parallel-item:first-child::after {align-self: flex-end;width: 50%;}#sk-container-id-3 div.sk-parallel-item:last-child::after {align-self: flex-start;width: 50%;}#sk-container-id-3 div.sk-parallel-item:only-child::after {width: 0;}#sk-container-id-3 div.sk-dashed-wrapped {border: 1px dashed gray;margin: 0 0.4em 0.5em 0.4em;box-sizing: border-box;padding-bottom: 0.4em;background-color: white;}#sk-container-id-3 div.sk-label label {font-family: monospace;font-weight: bold;display: inline-block;line-height: 1.2em;}#sk-container-id-3 div.sk-label-container {text-align: center;}#sk-container-id-3 div.sk-container {/* jupyter's `normalize.less` sets `[hidden] { display: none; }` but bootstrap.min.css set `[hidden] { display: none !important; }` so we also need the `!important` here to be able to override the default hidden behavior on the sphinx rendered scikit-learn.org. See: https://github.com/scikit-learn/scikit-learn/issues/21755 */display: inline-block !important;position: relative;}#sk-container-id-3 div.sk-text-repr-fallback {display: none;}</style><div id=\"sk-container-id-3\" class=\"sk-top-container\"><div class=\"sk-text-repr-fallback\"><pre>Lasso(alpha=0.01, max_iter=50000)</pre><b>In a Jupyter environment, please rerun this cell to show the HTML representation or trust the notebook. <br />On GitHub, the HTML representation is unable to render, please try loading this page with nbviewer.org.</b></div><div class=\"sk-container\" hidden><div class=\"sk-item\"><div class=\"sk-estimator sk-toggleable\"><input class=\"sk-toggleable__control sk-hidden--visually\" id=\"sk-estimator-id-3\" type=\"checkbox\" checked><label for=\"sk-estimator-id-3\" class=\"sk-toggleable__label sk-toggleable__label-arrow\">Lasso</label><div class=\"sk-toggleable__content\"><pre>Lasso(alpha=0.01, max_iter=50000)</pre></div></div></div></div></div>"
      ],
      "text/plain": [
       "Lasso(alpha=0.01, max_iter=50000)"
      ]
     },
     "execution_count": 47,
     "metadata": {},
     "output_type": "execute_result"
    }
   ],
   "source": [
    "# 모델 학습\n",
    "lasso_model.fit(X_train, y_train)"
   ]
  },
  {
   "cell_type": "code",
   "execution_count": 48,
   "metadata": {},
   "outputs": [],
   "source": [
    "# 예측\n",
    "y_pred_lasso = lasso_model.predict(X_test)"
   ]
  },
  {
   "cell_type": "code",
   "execution_count": 49,
   "metadata": {},
   "outputs": [],
   "source": [
    "# 평가 지표 계산\n",
    "mse_lasso = mean_squared_error(y_test, y_pred_lasso)\n",
    "rmse_lasso = np.sqrt(mse_lasso)\n",
    "r2_lasso = r2_score(y_test, y_pred_lasso)"
   ]
  },
  {
   "cell_type": "code",
   "execution_count": 50,
   "metadata": {},
   "outputs": [
    {
     "name": "stdout",
     "output_type": "stream",
     "text": [
      "라쏘 회귀 성능:\n",
      "RMSE: 791257.68\n",
      "R² Score: 0.8008\n"
     ]
    }
   ],
   "source": [
    "# 결과 출력\n",
    "print(\"라쏘 회귀 성능:\")\n",
    "print(f\"RMSE: {rmse_lasso:.2f}\")\n",
    "print(f\"R² Score: {r2_lasso:.4f}\")"
   ]
  },
  {
   "cell_type": "code",
   "execution_count": 51,
   "metadata": {},
   "outputs": [],
   "source": [
    "# 이제 랜덤포레스트를 할거예요\n",
    "from sklearn.ensemble import RandomForestRegressor"
   ]
  },
  {
   "cell_type": "code",
   "execution_count": 52,
   "metadata": {},
   "outputs": [],
   "source": [
    "# 모델 생성\n",
    "rf_model = RandomForestRegressor(n_estimators=100, random_state=42)"
   ]
  },
  {
   "cell_type": "code",
   "execution_count": 53,
   "metadata": {},
   "outputs": [
    {
     "data": {
      "text/html": [
       "<style>#sk-container-id-4 {color: black;}#sk-container-id-4 pre{padding: 0;}#sk-container-id-4 div.sk-toggleable {background-color: white;}#sk-container-id-4 label.sk-toggleable__label {cursor: pointer;display: block;width: 100%;margin-bottom: 0;padding: 0.3em;box-sizing: border-box;text-align: center;}#sk-container-id-4 label.sk-toggleable__label-arrow:before {content: \"▸\";float: left;margin-right: 0.25em;color: #696969;}#sk-container-id-4 label.sk-toggleable__label-arrow:hover:before {color: black;}#sk-container-id-4 div.sk-estimator:hover label.sk-toggleable__label-arrow:before {color: black;}#sk-container-id-4 div.sk-toggleable__content {max-height: 0;max-width: 0;overflow: hidden;text-align: left;background-color: #f0f8ff;}#sk-container-id-4 div.sk-toggleable__content pre {margin: 0.2em;color: black;border-radius: 0.25em;background-color: #f0f8ff;}#sk-container-id-4 input.sk-toggleable__control:checked~div.sk-toggleable__content {max-height: 200px;max-width: 100%;overflow: auto;}#sk-container-id-4 input.sk-toggleable__control:checked~label.sk-toggleable__label-arrow:before {content: \"▾\";}#sk-container-id-4 div.sk-estimator input.sk-toggleable__control:checked~label.sk-toggleable__label {background-color: #d4ebff;}#sk-container-id-4 div.sk-label input.sk-toggleable__control:checked~label.sk-toggleable__label {background-color: #d4ebff;}#sk-container-id-4 input.sk-hidden--visually {border: 0;clip: rect(1px 1px 1px 1px);clip: rect(1px, 1px, 1px, 1px);height: 1px;margin: -1px;overflow: hidden;padding: 0;position: absolute;width: 1px;}#sk-container-id-4 div.sk-estimator {font-family: monospace;background-color: #f0f8ff;border: 1px dotted black;border-radius: 0.25em;box-sizing: border-box;margin-bottom: 0.5em;}#sk-container-id-4 div.sk-estimator:hover {background-color: #d4ebff;}#sk-container-id-4 div.sk-parallel-item::after {content: \"\";width: 100%;border-bottom: 1px solid gray;flex-grow: 1;}#sk-container-id-4 div.sk-label:hover label.sk-toggleable__label {background-color: #d4ebff;}#sk-container-id-4 div.sk-serial::before {content: \"\";position: absolute;border-left: 1px solid gray;box-sizing: border-box;top: 0;bottom: 0;left: 50%;z-index: 0;}#sk-container-id-4 div.sk-serial {display: flex;flex-direction: column;align-items: center;background-color: white;padding-right: 0.2em;padding-left: 0.2em;position: relative;}#sk-container-id-4 div.sk-item {position: relative;z-index: 1;}#sk-container-id-4 div.sk-parallel {display: flex;align-items: stretch;justify-content: center;background-color: white;position: relative;}#sk-container-id-4 div.sk-item::before, #sk-container-id-4 div.sk-parallel-item::before {content: \"\";position: absolute;border-left: 1px solid gray;box-sizing: border-box;top: 0;bottom: 0;left: 50%;z-index: -1;}#sk-container-id-4 div.sk-parallel-item {display: flex;flex-direction: column;z-index: 1;position: relative;background-color: white;}#sk-container-id-4 div.sk-parallel-item:first-child::after {align-self: flex-end;width: 50%;}#sk-container-id-4 div.sk-parallel-item:last-child::after {align-self: flex-start;width: 50%;}#sk-container-id-4 div.sk-parallel-item:only-child::after {width: 0;}#sk-container-id-4 div.sk-dashed-wrapped {border: 1px dashed gray;margin: 0 0.4em 0.5em 0.4em;box-sizing: border-box;padding-bottom: 0.4em;background-color: white;}#sk-container-id-4 div.sk-label label {font-family: monospace;font-weight: bold;display: inline-block;line-height: 1.2em;}#sk-container-id-4 div.sk-label-container {text-align: center;}#sk-container-id-4 div.sk-container {/* jupyter's `normalize.less` sets `[hidden] { display: none; }` but bootstrap.min.css set `[hidden] { display: none !important; }` so we also need the `!important` here to be able to override the default hidden behavior on the sphinx rendered scikit-learn.org. See: https://github.com/scikit-learn/scikit-learn/issues/21755 */display: inline-block !important;position: relative;}#sk-container-id-4 div.sk-text-repr-fallback {display: none;}</style><div id=\"sk-container-id-4\" class=\"sk-top-container\"><div class=\"sk-text-repr-fallback\"><pre>RandomForestRegressor(random_state=42)</pre><b>In a Jupyter environment, please rerun this cell to show the HTML representation or trust the notebook. <br />On GitHub, the HTML representation is unable to render, please try loading this page with nbviewer.org.</b></div><div class=\"sk-container\" hidden><div class=\"sk-item\"><div class=\"sk-estimator sk-toggleable\"><input class=\"sk-toggleable__control sk-hidden--visually\" id=\"sk-estimator-id-4\" type=\"checkbox\" checked><label for=\"sk-estimator-id-4\" class=\"sk-toggleable__label sk-toggleable__label-arrow\">RandomForestRegressor</label><div class=\"sk-toggleable__content\"><pre>RandomForestRegressor(random_state=42)</pre></div></div></div></div></div>"
      ],
      "text/plain": [
       "RandomForestRegressor(random_state=42)"
      ]
     },
     "execution_count": 53,
     "metadata": {},
     "output_type": "execute_result"
    }
   ],
   "source": [
    "# 학습\n",
    "rf_model.fit(X_train, y_train)"
   ]
  },
  {
   "cell_type": "code",
   "execution_count": 54,
   "metadata": {},
   "outputs": [],
   "source": [
    "# 예측\n",
    "y_pred_rf = rf_model.predict(X_test)"
   ]
  },
  {
   "cell_type": "code",
   "execution_count": 55,
   "metadata": {},
   "outputs": [
    {
     "name": "stdout",
     "output_type": "stream",
     "text": [
      "랜덤 포레스트 회귀 성능:\n",
      "RMSE: 108926.47\n",
      "R² Score: 0.9962\n"
     ]
    }
   ],
   "source": [
    "# 평가\n",
    "mse_rf = mean_squared_error(y_test, y_pred_rf)\n",
    "rmse_rf = np.sqrt(mse_rf)\n",
    "r2_rf = r2_score(y_test, y_pred_rf)\n",
    "\n",
    "print(\"랜덤 포레스트 회귀 성능:\")\n",
    "print(f\"RMSE: {rmse_rf:.2f}\")\n",
    "print(f\"R² Score: {r2_rf:.4f}\")"
   ]
  },
  {
   "cell_type": "code",
   "execution_count": 56,
   "metadata": {},
   "outputs": [],
   "source": [
    "import matplotlib.pyplot as plt\n",
    "import matplotlib as mpl\n",
    "\n",
    "# 한글 폰트 설정\n",
    "plt.rcParams['font.family'] = 'AppleGothic'\n",
    "\n",
    "# 마이너스 부호 깨짐 방지\n",
    "mpl.rcParams['axes.unicode_minus'] = False"
   ]
  },
  {
   "cell_type": "code",
   "execution_count": 57,
   "metadata": {},
   "outputs": [
    {
     "data": {
      "image/png": "[encoded data removed]",
      "text/plain": [
       "<Figure size 1000x600 with 1 Axes>"
      ]
     },
     "metadata": {},
     "output_type": "display_data"
    }
   ],
   "source": [
    "# 모델 평가 및 시각화를 할거예요\n",
    "import matplotlib.pyplot as plt\n",
    "\n",
    "# 실제값과 예측값 비교\n",
    "plt.figure(figsize=(10, 6))\n",
    "plt.scatter(y_test, y_pred_rf, alpha=0.5)\n",
    "plt.plot([y_test.min(), y_test.max()], [y_test.min(), y_test.max()], color='red', linestyle='--')\n",
    "plt.xlabel(\"실제값\")\n",
    "plt.ylabel(\"예측값\")\n",
    "plt.title(\"실제값 vs 예측값 (랜덤 포레스트)\")\n",
    "plt.show()"
   ]
  },
  {
   "cell_type": "code",
   "execution_count": 58,
   "metadata": {},
   "outputs": [
    {
     "data": {
      "image/png": "[encoded data removed]",
      "text/plain": [
       "<Figure size 1200x800 with 1 Axes>"
      ]
     },
     "metadata": {},
     "output_type": "display_data"
    }
   ],
   "source": [
    "# 특성 중요도 시각화\n",
    "import pandas as pd\n",
    "\n",
    "feature_importances = pd.Series(rf_model.feature_importances_, index=X_train.columns)\n",
    "feature_importances.sort_values(ascending=False, inplace=True)\n",
    "\n",
    "plt.figure(figsize=(12, 8))\n",
    "feature_importances.plot(kind='bar')\n",
    "plt.title(\"특성 중요도 (랜덤 포레스트)\")\n",
    "plt.show()"
   ]
  },
  {
   "cell_type": "code",
   "execution_count": 59,
   "metadata": {},
   "outputs": [],
   "source": [
    "# XGBoost 회귀 모델 적용\n",
    "from xgboost import XGBRegressor"
   ]
  },
  {
   "cell_type": "code",
   "execution_count": 60,
   "metadata": {},
   "outputs": [],
   "source": [
    "# XGBoost 모델 생성\n",
    "xgb_model = XGBRegressor(n_estimators=100, random_state=42)"
   ]
  },
  {
   "cell_type": "code",
   "execution_count": 61,
   "metadata": {},
   "outputs": [
    {
     "data": {
      "text/html": [
       "<style>#sk-container-id-5 {color: black;}#sk-container-id-5 pre{padding: 0;}#sk-container-id-5 div.sk-toggleable {background-color: white;}#sk-container-id-5 label.sk-toggleable__label {cursor: pointer;display: block;width: 100%;margin-bottom: 0;padding: 0.3em;box-sizing: border-box;text-align: center;}#sk-container-id-5 label.sk-toggleable__label-arrow:before {content: \"▸\";float: left;margin-right: 0.25em;color: #696969;}#sk-container-id-5 label.sk-toggleable__label-arrow:hover:before {color: black;}#sk-container-id-5 div.sk-estimator:hover label.sk-toggleable__label-arrow:before {color: black;}#sk-container-id-5 div.sk-toggleable__content {max-height: 0;max-width: 0;overflow: hidden;text-align: left;background-color: #f0f8ff;}#sk-container-id-5 div.sk-toggleable__content pre {margin: 0.2em;color: black;border-radius: 0.25em;background-color: #f0f8ff;}#sk-container-id-5 input.sk-toggleable__control:checked~div.sk-toggleable__content {max-height: 200px;max-width: 100%;overflow: auto;}#sk-container-id-5 input.sk-toggleable__control:checked~label.sk-toggleable__label-arrow:before {content: \"▾\";}#sk-container-id-5 div.sk-estimator input.sk-toggleable__control:checked~label.sk-toggleable__label {background-color: #d4ebff;}#sk-container-id-5 div.sk-label input.sk-toggleable__control:checked~label.sk-toggleable__label {background-color: #d4ebff;}#sk-container-id-5 input.sk-hidden--visually {border: 0;clip: rect(1px 1px 1px 1px);clip: rect(1px, 1px, 1px, 1px);height: 1px;margin: -1px;overflow: hidden;padding: 0;position: absolute;width: 1px;}#sk-container-id-5 div.sk-estimator {font-family: monospace;background-color: #f0f8ff;border: 1px dotted black;border-radius: 0.25em;box-sizing: border-box;margin-bottom: 0.5em;}#sk-container-id-5 div.sk-estimator:hover {background-color: #d4ebff;}#sk-container-id-5 div.sk-parallel-item::after {content: \"\";width: 100%;border-bottom: 1px solid gray;flex-grow: 1;}#sk-container-id-5 div.sk-label:hover label.sk-toggleable__label {background-color: #d4ebff;}#sk-container-id-5 div.sk-serial::before {content: \"\";position: absolute;border-left: 1px solid gray;box-sizing: border-box;top: 0;bottom: 0;left: 50%;z-index: 0;}#sk-container-id-5 div.sk-serial {display: flex;flex-direction: column;align-items: center;background-color: white;padding-right: 0.2em;padding-left: 0.2em;position: relative;}#sk-container-id-5 div.sk-item {position: relative;z-index: 1;}#sk-container-id-5 div.sk-parallel {display: flex;align-items: stretch;justify-content: center;background-color: white;position: relative;}#sk-container-id-5 div.sk-item::before, #sk-container-id-5 div.sk-parallel-item::before {content: \"\";position: absolute;border-left: 1px solid gray;box-sizing: border-box;top: 0;bottom: 0;left: 50%;z-index: -1;}#sk-container-id-5 div.sk-parallel-item {display: flex;flex-direction: column;z-index: 1;position: relative;background-color: white;}#sk-container-id-5 div.sk-parallel-item:first-child::after {align-self: flex-end;width: 50%;}#sk-container-id-5 div.sk-parallel-item:last-child::after {align-self: flex-start;width: 50%;}#sk-container-id-5 div.sk-parallel-item:only-child::after {width: 0;}#sk-container-id-5 div.sk-dashed-wrapped {border: 1px dashed gray;margin: 0 0.4em 0.5em 0.4em;box-sizing: border-box;padding-bottom: 0.4em;background-color: white;}#sk-container-id-5 div.sk-label label {font-family: monospace;font-weight: bold;display: inline-block;line-height: 1.2em;}#sk-container-id-5 div.sk-label-container {text-align: center;}#sk-container-id-5 div.sk-container {/* jupyter's `normalize.less` sets `[hidden] { display: none; }` but bootstrap.min.css set `[hidden] { display: none !important; }` so we also need the `!important` here to be able to override the default hidden behavior on the sphinx rendered scikit-learn.org. See: https://github.com/scikit-learn/scikit-learn/issues/21755 */display: inline-block !important;position: relative;}#sk-container-id-5 div.sk-text-repr-fallback {display: none;}</style><div id=\"sk-container-id-5\" class=\"sk-top-container\"><div class=\"sk-text-repr-fallback\"><pre>XGBRegressor(base_score=None, booster=None, callbacks=None,\n",
       "             colsample_bylevel=None, colsample_bynode=None,\n",
       "             colsample_bytree=None, device=None, early_stopping_rounds=None,\n",
       "             enable_categorical=False, eval_metric=None, feature_types=None,\n",
       "             gamma=None, grow_policy=None, importance_type=None,\n",
       "             interaction_constraints=None, learning_rate=None, max_bin=None,\n",
       "             max_cat_threshold=None, max_cat_to_onehot=None,\n",
       "             max_delta_step=None, max_depth=None, max_leaves=None,\n",
       "             min_child_weight=None, missing=nan, monotone_constraints=None,\n",
       "             multi_strategy=None, n_estimators=100, n_jobs=None,\n",
       "             num_parallel_tree=None, random_state=42, ...)</pre><b>In a Jupyter environment, please rerun this cell to show the HTML representation or trust the notebook. <br />On GitHub, the HTML representation is unable to render, please try loading this page with nbviewer.org.</b></div><div class=\"sk-container\" hidden><div class=\"sk-item\"><div class=\"sk-estimator sk-toggleable\"><input class=\"sk-toggleable__control sk-hidden--visually\" id=\"sk-estimator-id-5\" type=\"checkbox\" checked><label for=\"sk-estimator-id-5\" class=\"sk-toggleable__label sk-toggleable__label-arrow\">XGBRegressor</label><div class=\"sk-toggleable__content\"><pre>XGBRegressor(base_score=None, booster=None, callbacks=None,\n",
       "             colsample_bylevel=None, colsample_bynode=None,\n",
       "             colsample_bytree=None, device=None, early_stopping_rounds=None,\n",
       "             enable_categorical=False, eval_metric=None, feature_types=None,\n",
       "             gamma=None, grow_policy=None, importance_type=None,\n",
       "             interaction_constraints=None, learning_rate=None, max_bin=None,\n",
       "             max_cat_threshold=None, max_cat_to_onehot=None,\n",
       "             max_delta_step=None, max_depth=None, max_leaves=None,\n",
       "             min_child_weight=None, missing=nan, monotone_constraints=None,\n",
       "             multi_strategy=None, n_estimators=100, n_jobs=None,\n",
       "             num_parallel_tree=None, random_state=42, ...)</pre></div></div></div></div></div>"
      ],
      "text/plain": [
       "XGBRegressor(base_score=None, booster=None, callbacks=None,\n",
       "             colsample_bylevel=None, colsample_bynode=None,\n",
       "             colsample_bytree=None, device=None, early_stopping_rounds=None,\n",
       "             enable_categorical=False, eval_metric=None, feature_types=None,\n",
       "             gamma=None, grow_policy=None, importance_type=None,\n",
       "             interaction_constraints=None, learning_rate=None, max_bin=None,\n",
       "             max_cat_threshold=None, max_cat_to_onehot=None,\n",
       "             max_delta_step=None, max_depth=None, max_leaves=None,\n",
       "             min_child_weight=None, missing=nan, monotone_constraints=None,\n",
       "             multi_strategy=None, n_estimators=100, n_jobs=None,\n",
       "             num_parallel_tree=None, random_state=42, ...)"
      ]
     },
     "execution_count": 61,
     "metadata": {},
     "output_type": "execute_result"
    }
   ],
   "source": [
    "# 모델 학습\n",
    "xgb_model.fit(X_train, y_train)"
   ]
  },
  {
   "cell_type": "code",
   "execution_count": 62,
   "metadata": {},
   "outputs": [],
   "source": [
    "# 예측\n",
    "y_pred_xgb = xgb_model.predict(X_test)"
   ]
  },
  {
   "cell_type": "code",
   "execution_count": 63,
   "metadata": {},
   "outputs": [
    {
     "name": "stdout",
     "output_type": "stream",
     "text": [
      "XGBoost 회귀 성능:\n",
      "RMSE: 144455.42\n",
      "R² Score: 0.9934\n"
     ]
    }
   ],
   "source": [
    "# 평가 지표 계산\n",
    "mse_xgb = mean_squared_error(y_test, y_pred_xgb)\n",
    "rmse_xgb = np.sqrt(mse_xgb)\n",
    "r2_xgb = r2_score(y_test, y_pred_xgb)\n",
    "\n",
    "# 결과 출력\n",
    "print(\"XGBoost 회귀 성능:\")\n",
    "print(f\"RMSE: {rmse_xgb:.2f}\")\n",
    "print(f\"R² Score: {r2_xgb:.4f}\")"
   ]
  },
  {
   "cell_type": "code",
   "execution_count": 64,
   "metadata": {},
   "outputs": [
    {
     "data": {
      "image/png": "[encoded data removed]",
      "text/plain": [
       "<Figure size 1000x600 with 1 Axes>"
      ]
     },
     "metadata": {},
     "output_type": "display_data"
    }
   ],
   "source": [
    "# Feature 중요도 시각화\n",
    "importance = xgb_model.feature_importances_\n",
    "features = X_train.columns\n",
    "\n",
    "plt.figure(figsize=(10, 6))\n",
    "plt.barh(features, importance)\n",
    "plt.title(\"XGBoost Feature Importance\")\n",
    "plt.xlabel(\"Importance\")\n",
    "plt.ylabel(\"Features\")\n",
    "plt.show()"
   ]
  },
  {
   "cell_type": "code",
   "execution_count": 67,
   "metadata": {},
   "outputs": [
    {
     "name": "stdout",
     "output_type": "stream",
     "text": [
      "XGBoost 회귀 성능:\n",
      "RMSE: 141913.27\n",
      "R² Score: 0.9936\n"
     ]
    }
   ],
   "source": [
    "# 중요도가 낮은 특성 제거\n",
    "low_importance_features = ['month', 'house_age', 'region_Zealand', 'sales_type_regular_sale']\n",
    "X_train_reduced = X_train.drop(columns=low_importance_features)\n",
    "X_test_reduced = X_test.drop(columns=low_importance_features)\n",
    "\n",
    "# 모델 학습\n",
    "xgb_model.fit(X_train_reduced, y_train)\n",
    "\n",
    "# 예측 (테스트 데이터 사용)\n",
    "y_pred_xgb = xgb_model.predict(X_test_reduced)\n",
    "\n",
    "# 평가 지표 계산\n",
    "mse_xgb = mean_squared_error(y_test, y_pred_xgb)\n",
    "rmse_xgb = np.sqrt(mse_xgb)\n",
    "r2_xgb = r2_score(y_test, y_pred_xgb)\n",
    "\n",
    "# 결과 출력\n",
    "print(\"XGBoost 회귀 성능:\")\n",
    "print(f\"RMSE: {rmse_xgb:.2f}\")\n",
    "print(f\"R² Score: {r2_xgb:.4f}\")"
   ]
  },
  {
   "cell_type": "code",
   "execution_count": 68,
   "metadata": {},
   "outputs": [
    {
     "data": {
      "image/png": "[encoded data removed]",
      "text/plain": [
       "<Figure size 1000x600 with 1 Axes>"
      ]
     },
     "metadata": {},
     "output_type": "display_data"
    }
   ],
   "source": [
    "# 변경된 Feature Importance 시각화\n",
    "importance = xgb_model.feature_importances_\n",
    "features = X_train_reduced.columns  # 제거된 특성이 반영된 상태\n",
    "\n",
    "plt.figure(figsize=(10, 6))\n",
    "plt.barh(features, importance)\n",
    "plt.title(\"XGBoost Feature Importance (After Removing Low-Importance Features)\")\n",
    "plt.xlabel(\"Importance\")\n",
    "plt.ylabel(\"Features\")\n",
    "plt.show()"
   ]
  },
  {
   "cell_type": "code",
   "execution_count": 69,
   "metadata": {},
   "outputs": [
    {
     "name": "stdout",
     "output_type": "stream",
     "text": [
      "중요도가 낮은 특성: ['%_change_between_offer_and_purchase', 'no_rooms', 'city', 'nom_interest_rate%', 'dk_ann_infl_rate%', 'yield_on_mortgage_credit_bonds%', 'house_type_Apartment', 'house_type_Farm', 'house_type_Townhouse', 'house_type_Villa', 'sales_type_family_sale', 'region_Fyn & islands', 'region_Jutland']\n",
      "XGBoost 최종 성능:\n",
      "RMSE: 160542.92\n",
      "R² Score: 0.9918\n"
     ]
    }
   ],
   "source": [
    "# 중요도가 낮은 특성 찾기\n",
    "threshold = 0.01\n",
    "low_importance_features = [feature for feature, importance in zip(features, importance) if importance <= threshold]\n",
    "\n",
    "print(\"중요도가 낮은 특성:\", low_importance_features)\n",
    "\n",
    "# 중요도가 낮은 특성 제거\n",
    "X_train_final = X_train_reduced.drop(columns=low_importance_features)\n",
    "X_test_final = X_test_reduced.drop(columns=low_importance_features)\n",
    "\n",
    "# 모델 재학습\n",
    "xgb_model.fit(X_train_final, y_train)\n",
    "\n",
    "# 예측 및 성능 평가\n",
    "y_pred_final = xgb_model.predict(X_test_final)\n",
    "mse = mean_squared_error(y_test, y_pred_final)\n",
    "rmse = np.sqrt(mse)\n",
    "r2 = r2_score(y_test, y_pred_final)\n",
    "\n",
    "print(\"XGBoost 최종 성능:\")\n",
    "print(f\"RMSE: {rmse:.2f}\")\n",
    "print(f\"R² Score: {r2:.4f}\")"
   ]
  },
  {
   "cell_type": "code",
   "execution_count": 71,
   "metadata": {},
   "outputs": [],
   "source": [
    "# 일부 특성 복원\n",
    "features_to_keep = ['no_rooms', 'city', 'yield_on_mortgage_credit_bonds%']\n",
    "X_train_partial = X_train_reduced[features_to_keep + list(X_train_final.columns)]\n",
    "X_test_partial = X_test_reduced[features_to_keep + list(X_test_final.columns)]"
   ]
  },
  {
   "cell_type": "code",
   "execution_count": 74,
   "metadata": {},
   "outputs": [
    {
     "name": "stdout",
     "output_type": "stream",
     "text": [
      "복원된 특성 사용 후 XGBoost 성능:\n",
      "RMSE: 137436.97\n",
      "R² Score: 0.9940\n"
     ]
    }
   ],
   "source": [
    "# XGBoost 모델 재학습 (복원된 데이터 사용)\n",
    "xgb_model.fit(X_train_partial, y_train)\n",
    "\n",
    "# 예측\n",
    "y_pred_partial = xgb_model.predict(X_test_partial)\n",
    "\n",
    "# 성능 평가\n",
    "mse_partial = mean_squared_error(y_test, y_pred_partial)\n",
    "rmse_partial = np.sqrt(mse_partial)\n",
    "r2_partial = r2_score(y_test, y_pred_partial)\n",
    "\n",
    "print(\"복원된 특성 사용 후 XGBoost 성능:\")\n",
    "print(f\"RMSE: {rmse_partial:.2f}\")\n",
    "print(f\"R² Score: {r2_partial:.4f}\")"
   ]
  },
  {
   "cell_type": "code",
   "execution_count": 75,
   "metadata": {},
   "outputs": [
    {
     "data": {
      "image/png": "[encoded data removed]",
      "text/plain": [
       "<Figure size 1000x600 with 1 Axes>"
      ]
     },
     "metadata": {},
     "output_type": "display_data"
    }
   ],
   "source": [
    "# 최종 Feature Importance 시각화\n",
    "final_importance_partial = xgb_model.feature_importances_\n",
    "final_features_partial = X_train_partial.columns\n",
    "\n",
    "plt.figure(figsize=(10, 6))\n",
    "plt.barh(final_features_partial, final_importance_partial)\n",
    "plt.title(\"XGBoost Feature Importance (After Partial Feature Restoration)\")\n",
    "plt.xlabel(\"Importance\")\n",
    "plt.ylabel(\"Features\")\n",
    "plt.show()"
   ]
  }
 ],
 "metadata": {
  "kernelspec": {
   "display_name": "env1",
   "language": "python",
   "name": "python3"
  },
  "language_info": {
   "codemirror_mode": {
    "name": "ipython",
    "version": 3
   },
   "file_extension": ".py",
   "mimetype": "text/x-python",
   "name": "python",
   "nbconvert_exporter": "python",
   "pygments_lexer": "ipython3",
   "version": "3.11.11"
  }
 },
 "nbformat": 4,
 "nbformat_minor": 2
}
