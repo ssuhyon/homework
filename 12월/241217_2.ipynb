{
 "cells": [
  {
   "cell_type": "code",
   "execution_count": 44,
   "metadata": {},
   "outputs": [
    {
     "name": "stdout",
     "output_type": "stream",
     "text": [
      "Path to dataset files: /Users/josuhyeon/.cache/kagglehub/datasets/martinfrederiksen/danish-residential-housing-prices-1992-2024/versions/3\n"
     ]
    }
   ],
   "source": [
    "import kagglehub\n",
    "\n",
    "# 데이터셋 다운로드\n",
    "path = kagglehub.dataset_download(\"martinfrederiksen/danish-residential-housing-prices-1992-2024\")\n",
    "\n",
    "# 경로 출력\n",
    "print(\"Path to dataset files:\", path)"
   ]
  },
  {
   "cell_type": "code",
   "execution_count": 47,
   "metadata": {},
   "outputs": [
    {
     "name": "stdout",
     "output_type": "stream",
     "text": [
      "데이터셋 상위 5개 행:\n",
      "         date quarter  house_id house_type    sales_type  year_build  \\\n",
      "0  2024-10-24  2024Q4        16      Villa  regular_sale        1997   \n",
      "1  2024-10-24  2024Q4        13  Apartment  regular_sale        1885   \n",
      "2  2024-10-23  2024Q4        60      Villa  regular_sale        1949   \n",
      "3  2024-10-23  2024Q4        29      Villa  regular_sale        2001   \n",
      "4  2024-10-22  2024Q4        92  Apartment  regular_sale        1965   \n",
      "\n",
      "   purchase_price  %_change_between_offer_and_purchase  no_rooms    sqm  \\\n",
      "0         6500000                                 -3.0         5  142.0   \n",
      "1         3400000                                  0.0         2   46.0   \n",
      "2         4550000                                 -4.0         4  112.0   \n",
      "3         1630000                                -12.0         4  186.0   \n",
      "4         1975000                                -10.0         3   82.0   \n",
      "\n",
      "   sqm_price                          address  zip_code             city  \\\n",
      "0  45774.650                     Spættevej 16      2680    Solrød Strand   \n",
      "1  73913.050  Jakob Dannefærds Vej 10B, 4. th      1973  Frederiksberg C   \n",
      "2  40625.000             Vestre Plantagevej 3      2680    Solrød Strand   \n",
      "3   8763.440                     Toftebjerg 3      4400       Kalundborg   \n",
      "4  24085.365        Ryttergårdsvej 20, 1. 113      3520            Farum   \n",
      "\n",
      "                  area   region  nom_interest_rate%  dk_ann_infl_rate%  \\\n",
      "0  Capital, Copenhagen  Zealand                 3.1                NaN   \n",
      "1  Capital, Copenhagen  Zealand                 3.1                NaN   \n",
      "2  Capital, Copenhagen  Zealand                 3.1                NaN   \n",
      "3        Other islands  Zealand                 3.1                NaN   \n",
      "4        North Zealand  Zealand                 3.1                NaN   \n",
      "\n",
      "   yield_on_mortgage_credit_bonds%  \n",
      "0                              NaN  \n",
      "1                              NaN  \n",
      "2                              NaN  \n",
      "3                              NaN  \n",
      "4                              NaN  \n",
      "결측값 확인:\n",
      "date                                    0\n",
      "quarter                                 0\n",
      "house_id                                0\n",
      "house_type                              0\n",
      "sales_type                              0\n",
      "year_build                              0\n",
      "purchase_price                          0\n",
      "%_change_between_offer_and_purchase     0\n",
      "no_rooms                                0\n",
      "sqm                                     0\n",
      "sqm_price                               0\n",
      "address                                 0\n",
      "zip_code                                0\n",
      "city                                   11\n",
      "area                                    0\n",
      "region                                  0\n",
      "nom_interest_rate%                      0\n",
      "dk_ann_infl_rate%                      77\n",
      "yield_on_mortgage_credit_bonds%        77\n",
      "dtype: int64\n"
     ]
    }
   ],
   "source": [
    "import pandas as pd\n",
    "import os\n",
    "\n",
    "# 정확한 파일 경로와 파일명 지정\n",
    "file_path = \"/Users/josuhyeon/.cache/kagglehub/datasets/martinfrederiksen/danish-residential-housing-prices-1992-2024/versions/3/DKHousingPricesSample100k.csv\"\n",
    "\n",
    "# 데이터 불러오기\n",
    "df = pd.read_csv(file_path)\n",
    "\n",
    "# 데이터 확인\n",
    "print(\"데이터셋 상위 5개 행:\")\n",
    "print(df.head())\n",
    "print(\"결측값 확인:\")\n",
    "print(df.isnull().sum())"
   ]
  },
  {
   "cell_type": "code",
   "execution_count": 49,
   "metadata": {},
   "outputs": [
    {
     "name": "stdout",
     "output_type": "stream",
     "text": [
      "열 이름 확인:\n",
      "Index(['date', 'quarter', 'house_id', 'house_type', 'sales_type', 'year_build',\n",
      "       'purchase_price', '%_change_between_offer_and_purchase', 'no_rooms',\n",
      "       'sqm', 'sqm_price', 'address', 'zip_code', 'city', 'area', 'region',\n",
      "       'nom_interest_rate%', 'dk_ann_infl_rate%',\n",
      "       'yield_on_mortgage_credit_bonds%'],\n",
      "      dtype='object')\n"
     ]
    }
   ],
   "source": [
    "# 데이터셋 열 이름 확인\n",
    "print(\"열 이름 확인:\")\n",
    "print(df.columns)"
   ]
  },
  {
   "cell_type": "code",
   "execution_count": 50,
   "metadata": {},
   "outputs": [],
   "source": [
    "# 타겟 변수 설정\n",
    "target_column = 'purchase_price'\n",
    "\n",
    "# 특성과 타겟 분리\n",
    "X = df.drop(columns=[target_column])  # 타겟 컬럼 제외\n",
    "y = df[target_column]"
   ]
  },
  {
   "cell_type": "code",
   "execution_count": 52,
   "metadata": {},
   "outputs": [
    {
     "name": "stdout",
     "output_type": "stream",
     "text": [
      "데이터 전처리 완료!\n"
     ]
    }
   ],
   "source": [
    "from sklearn.model_selection import train_test_split\n",
    "from sklearn.preprocessing import OneHotEncoder, StandardScaler\n",
    "from sklearn.compose import ColumnTransformer\n",
    "\n",
    "# 결측값 처리\n",
    "df['city'] = df['city'].fillna(df['city'].mode()[0])\n",
    "df['dk_ann_infl_rate%'].fillna(df['dk_ann_infl_rate%'].mean())\n",
    "df['yield_on_mortgage_credit_bonds%'].fillna(df['yield_on_mortgage_credit_bonds%'].mean())\n",
    "\n",
    "# 범주형 및 수치형 컬럼 분리\n",
    "categorical_columns = ['house_type', 'sales_type', 'city', 'region']\n",
    "numerical_columns = ['year_build', '%_change_between_offer_and_purchase', \n",
    "                     'no_rooms', 'sqm', 'sqm_price', 'nom_interest_rate%', \n",
    "                     'dk_ann_infl_rate%', 'yield_on_mortgage_credit_bonds%']\n",
    "\n",
    "# 데이터 전처리 파이프라인\n",
    "preprocessor = ColumnTransformer(\n",
    "    transformers=[\n",
    "        ('num', StandardScaler(), numerical_columns),\n",
    "        ('cat', OneHotEncoder(handle_unknown='ignore'), categorical_columns)\n",
    "    ]\n",
    ")\n",
    "\n",
    "# 훈련/테스트 데이터 분할\n",
    "X_train, X_test, y_train, y_test = train_test_split(X, y, test_size=0.2, random_state=42)\n",
    "\n",
    "# 데이터 변환\n",
    "X_train_processed = preprocessor.fit_transform(X_train)\n",
    "X_test_processed = preprocessor.transform(X_test)\n",
    "\n",
    "print(\"데이터 전처리 완료!\")"
   ]
  },
  {
   "cell_type": "code",
   "execution_count": 15,
   "metadata": {},
   "outputs": [
    {
     "name": "stdout",
     "output_type": "stream",
     "text": [
      "최종 데이터프레임 컬럼:\n",
      "Index(['quarter', 'house_id', 'purchase_price',\n",
      "       '%_change_between_offer_and_purchase', 'no_rooms', 'sqm', 'sqm_price',\n",
      "       'city', 'nom_interest_rate%', 'dk_ann_infl_rate%',\n",
      "       'yield_on_mortgage_credit_bonds%', 'house_age', 'house_type_Apartment',\n",
      "       'house_type_Farm', 'house_type_Summerhouse', 'house_type_Townhouse',\n",
      "       'house_type_Villa', 'sales_type_auction', 'sales_type_family_sale',\n",
      "       'sales_type_other_sale', 'sales_type_regular_sale', 'area_Bornholm',\n",
      "       'area_Capital, Copenhagen', 'area_East & mid jutland',\n",
      "       'area_Fyn & islands', 'area_North Zealand', 'area_North jutland',\n",
      "       'area_Other islands', 'area_South jutland', 'region_Bornholm',\n",
      "       'region_Fyn & islands', 'region_Jutland', 'region_Zealand'],\n",
      "      dtype='object')\n"
     ]
    }
   ],
   "source": [
    "# 불필요한 컬럼 제거\n",
    "df = df.drop(['date', 'address', 'zip_code'], axis=1)\n",
    "\n",
    "# 최종 데이터프레임 확인\n",
    "print(\"최종 데이터프레임 컬럼:\")\n",
    "print(df.columns)"
   ]
  },
  {
   "cell_type": "code",
   "execution_count": 16,
   "metadata": {},
   "outputs": [
    {
     "name": "stdout",
     "output_type": "stream",
     "text": [
      "학습 데이터 크기: (80000, 32)\n",
      "테스트 데이터 크기: (20000, 32)\n"
     ]
    }
   ],
   "source": [
    "# 입력(X)과 타겟(y) 설정\n",
    "X = df.drop('purchase_price', axis=1)  # 입력 데이터\n",
    "y = df['purchase_price']              # 타겟 (집값)\n",
    "\n",
    "# 학습 데이터와 테스트 데이터 분할\n",
    "X_train, X_test, y_train, y_test = train_test_split(X, y, test_size=0.2, random_state=42)\n",
    "\n",
    "# 데이터 분할 확인\n",
    "print(\"학습 데이터 크기:\", X_train.shape)\n",
    "print(\"테스트 데이터 크기:\", X_test.shape)"
   ]
  },
  {
   "cell_type": "code",
   "execution_count": 18,
   "metadata": {},
   "outputs": [
    {
     "name": "stdout",
     "output_type": "stream",
     "text": [
      "스케일링 후 X_train:\n",
      "       house_id  %_change_between_offer_and_purchase  no_rooms       sqm  \\\n",
      "75220  0.860906                             0.430126  2.788892  1.133532   \n",
      "48955 -0.055991                             0.017005 -2.037224 -0.672477   \n",
      "44966 -0.199174                            -1.015797 -0.830695 -0.269193   \n",
      "13568 -1.288765                             0.430126  1.582363  0.274363   \n",
      "92727  1.471703                             0.430126 -1.433960 -1.356305   \n",
      "\n",
      "       sqm_price  nom_interest_rate%  dk_ann_infl_rate%  \\\n",
      "75220  -0.923619            0.154945          -0.064722   \n",
      "48955   0.214443           -0.820209          -0.902112   \n",
      "44966  -0.687336           -0.820209          -1.024359   \n",
      "13568   0.414095           -0.820209           3.529331   \n",
      "92727  -0.668836            0.764416           0.155322   \n",
      "\n",
      "       yield_on_mortgage_credit_bonds%  house_age  \n",
      "75220                         0.113857  -0.325901  \n",
      "48955                        -0.605416   0.375295  \n",
      "44966                        -0.710120  -0.479288  \n",
      "13568                        -0.172941   1.974900  \n",
      "92727                         1.406727  -0.676499  \n"
     ]
    }
   ],
   "source": [
    "from sklearn.preprocessing import StandardScaler\n",
    "\n",
    "# 숫자형 데이터만 선택 (dtype이 float 또는 int인 컬럼만 선택)\n",
    "numerical_features = X_train.select_dtypes(include=['float64', 'int64']).columns\n",
    "\n",
    "# 스케일러 생성\n",
    "scaler = StandardScaler()\n",
    "\n",
    "# 숫자형 데이터에만 스케일링 적용\n",
    "X_train_scaled = scaler.fit_transform(X_train[numerical_features])\n",
    "X_test_scaled = scaler.transform(X_test[numerical_features])\n",
    "\n",
    "# 스케일링 후 데이터프레임으로 변환 (옵션)\n",
    "X_train_scaled = pd.DataFrame(X_train_scaled, columns=numerical_features, index=X_train.index)\n",
    "X_test_scaled = pd.DataFrame(X_test_scaled, columns=numerical_features, index=X_test.index)\n",
    "\n",
    "# 확인\n",
    "print(\"스케일링 후 X_train:\")\n",
    "print(X_train_scaled.head())"
   ]
  },
  {
   "cell_type": "code",
   "execution_count": 32,
   "metadata": {},
   "outputs": [
    {
     "name": "stdout",
     "output_type": "stream",
     "text": [
      "       house_id  purchase_price  %_change_between_offer_and_purchase  \\\n",
      "75220   1127663          735000                                  0.0   \n",
      "48955    728835         1760000                                 -2.0   \n",
      "44966    666554          800000                                 -7.0   \n",
      "13568    192608         3200000                                  0.0   \n",
      "92727   1393345          378058                                  0.0   \n",
      "\n",
      "       no_rooms    sqm  sqm_price           city  nom_interest_rate%  \\\n",
      "75220         9  194.0   3788.660         Struer                2.00   \n",
      "48955         1   91.0  19340.660       Aarhus C                0.00   \n",
      "44966         3  114.0   7017.544           Ejby                0.00   \n",
      "13568         7  145.0  22068.965  Frederikshavn                0.00   \n",
      "92727         2   52.0   7270.346        Thisted                3.25   \n",
      "\n",
      "       dk_ann_infl_rate%  yield_on_mortgage_credit_bonds%  ...  \\\n",
      "75220               1.82                             4.36  ...   \n",
      "48955               0.45                             2.78  ...   \n",
      "44966               0.25                             2.55  ...   \n",
      "13568               7.70                             3.73  ...   \n",
      "92727               2.18                             7.20  ...   \n",
      "\n",
      "       area_North Zealand  area_North jutland  area_Other islands  \\\n",
      "75220               False               False               False   \n",
      "48955               False               False               False   \n",
      "44966               False               False               False   \n",
      "13568               False                True               False   \n",
      "92727               False               False               False   \n",
      "\n",
      "       area_South jutland  region_Bornholm  region_Fyn & islands  \\\n",
      "75220                True            False                 False   \n",
      "48955               False            False                 False   \n",
      "44966               False            False                  True   \n",
      "13568               False            False                 False   \n",
      "92727                True            False                 False   \n",
      "\n",
      "       region_Jutland  region_Zealand  year  quarter_num  \n",
      "75220            True           False  2005            3  \n",
      "48955            True           False  2015            2  \n",
      "44966           False           False  2016            3  \n",
      "13568            True           False  2022            1  \n",
      "92727            True           False  1997            2  \n",
      "\n",
      "[5 rows x 33 columns]\n",
      "       house_id  purchase_price  %_change_between_offer_and_purchase  \\\n",
      "75721   1135851         1285000                                  0.0   \n",
      "80184   1203442          714000                                  0.0   \n",
      "19864    288126          400000                                  0.0   \n",
      "76699   1150036         1838000                                  0.0   \n",
      "92991   1397355          315000                                  0.0   \n",
      "\n",
      "       no_rooms    sqm  sqm_price     city  nom_interest_rate%  \\\n",
      "75721         5  154.0  8344.1560    Skive                2.00   \n",
      "80184         3   72.0  9916.6670    Henne                2.00   \n",
      "19864         3   72.0  5555.5557  Ãrslev                0.00   \n",
      "76699         5  196.0  9377.5510    Vadum                2.00   \n",
      "92991         4  142.0  2218.3098  Hørning                3.25   \n",
      "\n",
      "       dk_ann_infl_rate%  yield_on_mortgage_credit_bonds%  ...  \\\n",
      "75721               1.82                             4.36  ...   \n",
      "80184               2.08                             5.11  ...   \n",
      "19864               1.85                             1.47  ...   \n",
      "76699               1.82                             4.36  ...   \n",
      "92991               2.18                             7.20  ...   \n",
      "\n",
      "       area_North Zealand  area_North jutland  area_Other islands  \\\n",
      "75721               False               False               False   \n",
      "80184               False               False               False   \n",
      "19864               False               False               False   \n",
      "76699               False                True               False   \n",
      "92991               False               False               False   \n",
      "\n",
      "       area_South jutland  region_Bornholm  region_Fyn & islands  \\\n",
      "75721                True            False                 False   \n",
      "80184                True            False                 False   \n",
      "19864               False            False                  True   \n",
      "76699               False            False                 False   \n",
      "92991               False            False                 False   \n",
      "\n",
      "       region_Jutland  region_Zealand  year  quarter_num  \n",
      "75721            True           False  2005            2  \n",
      "80184            True           False  2003            4  \n",
      "19864           False           False  2021            2  \n",
      "76699            True           False  2005            1  \n",
      "92991            True           False  1997            1  \n",
      "\n",
      "[5 rows x 33 columns]\n"
     ]
    }
   ],
   "source": [
    "# 'quarter' 컬럼 분리: 연도와 분기 숫자 추출\n",
    "X_train['year'] = X_train['quarter'].str[:4].astype(int)  # 연도 부분 추출\n",
    "X_train['quarter_num'] = X_train['quarter'].str[-1].astype(int)  # 분기 숫자 부분 추출\n",
    "\n",
    "X_test['year'] = X_test['quarter'].str[:4].astype(int)\n",
    "X_test['quarter_num'] = X_test['quarter'].str[-1].astype(int)\n",
    "\n",
    "# 원래 'quarter' 컬럼 삭제\n",
    "X_train = X_train.drop(columns=['quarter'])\n",
    "X_test = X_test.drop(columns=['quarter'])\n",
    "\n",
    "# 변환 후 확인\n",
    "print(X_train.head())\n",
    "print(X_test.head())"
   ]
  },
  {
   "cell_type": "code",
   "execution_count": 41,
   "metadata": {},
   "outputs": [
    {
     "ename": "ValueError",
     "evalue": "A given column is not a column of the dataframe",
     "output_type": "error",
     "traceback": [
      "\u001b[0;31m---------------------------------------------------------------------------\u001b[0m",
      "\u001b[0;31mKeyError\u001b[0m                                  Traceback (most recent call last)",
      "File \u001b[0;32m~/homework/env1/lib/python3.11/site-packages/pandas/core/indexes/base.py:3805\u001b[0m, in \u001b[0;36mIndex.get_loc\u001b[0;34m(self, key)\u001b[0m\n\u001b[1;32m   3804\u001b[0m \u001b[38;5;28;01mtry\u001b[39;00m:\n\u001b[0;32m-> 3805\u001b[0m     \u001b[38;5;28;01mreturn\u001b[39;00m \u001b[38;5;28;43mself\u001b[39;49m\u001b[38;5;241;43m.\u001b[39;49m\u001b[43m_engine\u001b[49m\u001b[38;5;241;43m.\u001b[39;49m\u001b[43mget_loc\u001b[49m\u001b[43m(\u001b[49m\u001b[43mcasted_key\u001b[49m\u001b[43m)\u001b[49m\n\u001b[1;32m   3806\u001b[0m \u001b[38;5;28;01mexcept\u001b[39;00m \u001b[38;5;167;01mKeyError\u001b[39;00m \u001b[38;5;28;01mas\u001b[39;00m err:\n",
      "File \u001b[0;32mindex.pyx:167\u001b[0m, in \u001b[0;36mpandas._libs.index.IndexEngine.get_loc\u001b[0;34m()\u001b[0m\n",
      "File \u001b[0;32mindex.pyx:196\u001b[0m, in \u001b[0;36mpandas._libs.index.IndexEngine.get_loc\u001b[0;34m()\u001b[0m\n",
      "File \u001b[0;32mpandas/_libs/hashtable_class_helper.pxi:7081\u001b[0m, in \u001b[0;36mpandas._libs.hashtable.PyObjectHashTable.get_item\u001b[0;34m()\u001b[0m\n",
      "File \u001b[0;32mpandas/_libs/hashtable_class_helper.pxi:7089\u001b[0m, in \u001b[0;36mpandas._libs.hashtable.PyObjectHashTable.get_item\u001b[0;34m()\u001b[0m\n",
      "\u001b[0;31mKeyError\u001b[0m: 'city'",
      "\nThe above exception was the direct cause of the following exception:\n",
      "\u001b[0;31mKeyError\u001b[0m                                  Traceback (most recent call last)",
      "File \u001b[0;32m~/homework/env1/lib/python3.11/site-packages/sklearn/utils/__init__.py:447\u001b[0m, in \u001b[0;36m_get_column_indices\u001b[0;34m(X, key)\u001b[0m\n\u001b[1;32m    446\u001b[0m \u001b[38;5;28;01mfor\u001b[39;00m col \u001b[38;5;129;01min\u001b[39;00m columns:\n\u001b[0;32m--> 447\u001b[0m     col_idx \u001b[38;5;241m=\u001b[39m \u001b[43mall_columns\u001b[49m\u001b[38;5;241;43m.\u001b[39;49m\u001b[43mget_loc\u001b[49m\u001b[43m(\u001b[49m\u001b[43mcol\u001b[49m\u001b[43m)\u001b[49m\n\u001b[1;32m    448\u001b[0m     \u001b[38;5;28;01mif\u001b[39;00m \u001b[38;5;129;01mnot\u001b[39;00m \u001b[38;5;28misinstance\u001b[39m(col_idx, numbers\u001b[38;5;241m.\u001b[39mIntegral):\n",
      "File \u001b[0;32m~/homework/env1/lib/python3.11/site-packages/pandas/core/indexes/base.py:3812\u001b[0m, in \u001b[0;36mIndex.get_loc\u001b[0;34m(self, key)\u001b[0m\n\u001b[1;32m   3811\u001b[0m         \u001b[38;5;28;01mraise\u001b[39;00m InvalidIndexError(key)\n\u001b[0;32m-> 3812\u001b[0m     \u001b[38;5;28;01mraise\u001b[39;00m \u001b[38;5;167;01mKeyError\u001b[39;00m(key) \u001b[38;5;28;01mfrom\u001b[39;00m \u001b[38;5;21;01merr\u001b[39;00m\n\u001b[1;32m   3813\u001b[0m \u001b[38;5;28;01mexcept\u001b[39;00m \u001b[38;5;167;01mTypeError\u001b[39;00m:\n\u001b[1;32m   3814\u001b[0m     \u001b[38;5;66;03m# If we have a listlike key, _check_indexing_error will raise\u001b[39;00m\n\u001b[1;32m   3815\u001b[0m     \u001b[38;5;66;03m#  InvalidIndexError. Otherwise we fall through and re-raise\u001b[39;00m\n\u001b[1;32m   3816\u001b[0m     \u001b[38;5;66;03m#  the TypeError.\u001b[39;00m\n",
      "\u001b[0;31mKeyError\u001b[0m: 'city'",
      "\nThe above exception was the direct cause of the following exception:\n",
      "\u001b[0;31mValueError\u001b[0m                                Traceback (most recent call last)",
      "Cell \u001b[0;32mIn[41], line 16\u001b[0m\n\u001b[1;32m      8\u001b[0m preprocessor \u001b[38;5;241m=\u001b[39m ColumnTransformer(\n\u001b[1;32m      9\u001b[0m     transformers\u001b[38;5;241m=\u001b[39m[\n\u001b[1;32m     10\u001b[0m         (\u001b[38;5;124m'\u001b[39m\u001b[38;5;124mcat\u001b[39m\u001b[38;5;124m'\u001b[39m, OneHotEncoder(handle_unknown\u001b[38;5;241m=\u001b[39m\u001b[38;5;124m'\u001b[39m\u001b[38;5;124mignore\u001b[39m\u001b[38;5;124m'\u001b[39m), categorical_columns)\n\u001b[1;32m     11\u001b[0m     ],\n\u001b[1;32m     12\u001b[0m     remainder\u001b[38;5;241m=\u001b[39m\u001b[38;5;124m'\u001b[39m\u001b[38;5;124mpassthrough\u001b[39m\u001b[38;5;124m'\u001b[39m  \u001b[38;5;66;03m# 나머지 컬럼은 그대로 유지\u001b[39;00m\n\u001b[1;32m     13\u001b[0m )\n\u001b[1;32m     15\u001b[0m \u001b[38;5;66;03m# 훈련 데이터에 fit_transform 적용\u001b[39;00m\n\u001b[0;32m---> 16\u001b[0m X_train_transformed \u001b[38;5;241m=\u001b[39m \u001b[43mpreprocessor\u001b[49m\u001b[38;5;241;43m.\u001b[39;49m\u001b[43mfit_transform\u001b[49m\u001b[43m(\u001b[49m\u001b[43mX_train\u001b[49m\u001b[43m)\u001b[49m\n\u001b[1;32m     17\u001b[0m X_test_transformed \u001b[38;5;241m=\u001b[39m preprocessor\u001b[38;5;241m.\u001b[39mtransform(X_test)\n\u001b[1;32m     19\u001b[0m \u001b[38;5;66;03m# OneHotEncoder가 추가한 열 이름 가져오기\u001b[39;00m\n",
      "File \u001b[0;32m~/homework/env1/lib/python3.11/site-packages/sklearn/utils/_set_output.py:157\u001b[0m, in \u001b[0;36m_wrap_method_output.<locals>.wrapped\u001b[0;34m(self, X, *args, **kwargs)\u001b[0m\n\u001b[1;32m    155\u001b[0m \u001b[38;5;129m@wraps\u001b[39m(f)\n\u001b[1;32m    156\u001b[0m \u001b[38;5;28;01mdef\u001b[39;00m \u001b[38;5;21mwrapped\u001b[39m(\u001b[38;5;28mself\u001b[39m, X, \u001b[38;5;241m*\u001b[39margs, \u001b[38;5;241m*\u001b[39m\u001b[38;5;241m*\u001b[39mkwargs):\n\u001b[0;32m--> 157\u001b[0m     data_to_wrap \u001b[38;5;241m=\u001b[39m \u001b[43mf\u001b[49m\u001b[43m(\u001b[49m\u001b[38;5;28;43mself\u001b[39;49m\u001b[43m,\u001b[49m\u001b[43m \u001b[49m\u001b[43mX\u001b[49m\u001b[43m,\u001b[49m\u001b[43m \u001b[49m\u001b[38;5;241;43m*\u001b[39;49m\u001b[43margs\u001b[49m\u001b[43m,\u001b[49m\u001b[43m \u001b[49m\u001b[38;5;241;43m*\u001b[39;49m\u001b[38;5;241;43m*\u001b[39;49m\u001b[43mkwargs\u001b[49m\u001b[43m)\u001b[49m\n\u001b[1;32m    158\u001b[0m     \u001b[38;5;28;01mif\u001b[39;00m \u001b[38;5;28misinstance\u001b[39m(data_to_wrap, \u001b[38;5;28mtuple\u001b[39m):\n\u001b[1;32m    159\u001b[0m         \u001b[38;5;66;03m# only wrap the first output for cross decomposition\u001b[39;00m\n\u001b[1;32m    160\u001b[0m         return_tuple \u001b[38;5;241m=\u001b[39m (\n\u001b[1;32m    161\u001b[0m             _wrap_data_with_container(method, data_to_wrap[\u001b[38;5;241m0\u001b[39m], X, \u001b[38;5;28mself\u001b[39m),\n\u001b[1;32m    162\u001b[0m             \u001b[38;5;241m*\u001b[39mdata_to_wrap[\u001b[38;5;241m1\u001b[39m:],\n\u001b[1;32m    163\u001b[0m         )\n",
      "File \u001b[0;32m~/homework/env1/lib/python3.11/site-packages/sklearn/base.py:1152\u001b[0m, in \u001b[0;36m_fit_context.<locals>.decorator.<locals>.wrapper\u001b[0;34m(estimator, *args, **kwargs)\u001b[0m\n\u001b[1;32m   1145\u001b[0m     estimator\u001b[38;5;241m.\u001b[39m_validate_params()\n\u001b[1;32m   1147\u001b[0m \u001b[38;5;28;01mwith\u001b[39;00m config_context(\n\u001b[1;32m   1148\u001b[0m     skip_parameter_validation\u001b[38;5;241m=\u001b[39m(\n\u001b[1;32m   1149\u001b[0m         prefer_skip_nested_validation \u001b[38;5;129;01mor\u001b[39;00m global_skip_validation\n\u001b[1;32m   1150\u001b[0m     )\n\u001b[1;32m   1151\u001b[0m ):\n\u001b[0;32m-> 1152\u001b[0m     \u001b[38;5;28;01mreturn\u001b[39;00m \u001b[43mfit_method\u001b[49m\u001b[43m(\u001b[49m\u001b[43mestimator\u001b[49m\u001b[43m,\u001b[49m\u001b[43m \u001b[49m\u001b[38;5;241;43m*\u001b[39;49m\u001b[43margs\u001b[49m\u001b[43m,\u001b[49m\u001b[43m \u001b[49m\u001b[38;5;241;43m*\u001b[39;49m\u001b[38;5;241;43m*\u001b[39;49m\u001b[43mkwargs\u001b[49m\u001b[43m)\u001b[49m\n",
      "File \u001b[0;32m~/homework/env1/lib/python3.11/site-packages/sklearn/compose/_column_transformer.py:751\u001b[0m, in \u001b[0;36mColumnTransformer.fit_transform\u001b[0;34m(self, X, y)\u001b[0m\n\u001b[1;32m    749\u001b[0m \u001b[38;5;28mself\u001b[39m\u001b[38;5;241m.\u001b[39m_check_n_features(X, reset\u001b[38;5;241m=\u001b[39m\u001b[38;5;28;01mTrue\u001b[39;00m)\n\u001b[1;32m    750\u001b[0m \u001b[38;5;28mself\u001b[39m\u001b[38;5;241m.\u001b[39m_validate_transformers()\n\u001b[0;32m--> 751\u001b[0m \u001b[38;5;28;43mself\u001b[39;49m\u001b[38;5;241;43m.\u001b[39;49m\u001b[43m_validate_column_callables\u001b[49m\u001b[43m(\u001b[49m\u001b[43mX\u001b[49m\u001b[43m)\u001b[49m\n\u001b[1;32m    752\u001b[0m \u001b[38;5;28mself\u001b[39m\u001b[38;5;241m.\u001b[39m_validate_remainder(X)\n\u001b[1;32m    754\u001b[0m result \u001b[38;5;241m=\u001b[39m \u001b[38;5;28mself\u001b[39m\u001b[38;5;241m.\u001b[39m_fit_transform(X, y, _fit_transform_one)\n",
      "File \u001b[0;32m~/homework/env1/lib/python3.11/site-packages/sklearn/compose/_column_transformer.py:459\u001b[0m, in \u001b[0;36mColumnTransformer._validate_column_callables\u001b[0;34m(self, X)\u001b[0m\n\u001b[1;32m    457\u001b[0m         columns \u001b[38;5;241m=\u001b[39m columns(X)\n\u001b[1;32m    458\u001b[0m     all_columns\u001b[38;5;241m.\u001b[39mappend(columns)\n\u001b[0;32m--> 459\u001b[0m     transformer_to_input_indices[name] \u001b[38;5;241m=\u001b[39m \u001b[43m_get_column_indices\u001b[49m\u001b[43m(\u001b[49m\u001b[43mX\u001b[49m\u001b[43m,\u001b[49m\u001b[43m \u001b[49m\u001b[43mcolumns\u001b[49m\u001b[43m)\u001b[49m\n\u001b[1;32m    461\u001b[0m \u001b[38;5;28mself\u001b[39m\u001b[38;5;241m.\u001b[39m_columns \u001b[38;5;241m=\u001b[39m all_columns\n\u001b[1;32m    462\u001b[0m \u001b[38;5;28mself\u001b[39m\u001b[38;5;241m.\u001b[39m_transformer_to_input_indices \u001b[38;5;241m=\u001b[39m transformer_to_input_indices\n",
      "File \u001b[0;32m~/homework/env1/lib/python3.11/site-packages/sklearn/utils/__init__.py:455\u001b[0m, in \u001b[0;36m_get_column_indices\u001b[0;34m(X, key)\u001b[0m\n\u001b[1;32m    452\u001b[0m             column_indices\u001b[38;5;241m.\u001b[39mappend(col_idx)\n\u001b[1;32m    454\u001b[0m     \u001b[38;5;28;01mexcept\u001b[39;00m \u001b[38;5;167;01mKeyError\u001b[39;00m \u001b[38;5;28;01mas\u001b[39;00m e:\n\u001b[0;32m--> 455\u001b[0m         \u001b[38;5;28;01mraise\u001b[39;00m \u001b[38;5;167;01mValueError\u001b[39;00m(\u001b[38;5;124m\"\u001b[39m\u001b[38;5;124mA given column is not a column of the dataframe\u001b[39m\u001b[38;5;124m\"\u001b[39m) \u001b[38;5;28;01mfrom\u001b[39;00m \u001b[38;5;21;01me\u001b[39;00m\n\u001b[1;32m    457\u001b[0m     \u001b[38;5;28;01mreturn\u001b[39;00m column_indices\n\u001b[1;32m    458\u001b[0m \u001b[38;5;28;01melse\u001b[39;00m:\n",
      "\u001b[0;31mValueError\u001b[0m: A given column is not a column of the dataframe"
     ]
    }
   ],
   "source": [
    "from sklearn.preprocessing import OneHotEncoder\n",
    "from sklearn.compose import ColumnTransformer\n",
    "\n",
    "# 범주형 컬럼 정의\n",
    "categorical_columns = ['city', 'house_type', 'sales_type', 'region']  # 예시 범주형 컬럼\n",
    "\n",
    "# ColumnTransformer 설정\n",
    "preprocessor = ColumnTransformer(\n",
    "    transformers=[\n",
    "        ('cat', OneHotEncoder(handle_unknown='ignore'), categorical_columns)\n",
    "    ],\n",
    "    remainder='passthrough'  # 나머지 컬럼은 그대로 유지\n",
    ")\n",
    "\n",
    "# 훈련 데이터에 fit_transform 적용\n",
    "X_train_transformed = preprocessor.fit_transform(X_train)\n",
    "X_test_transformed = preprocessor.transform(X_test)\n",
    "\n",
    "# OneHotEncoder가 추가한 열 이름 가져오기\n",
    "ohe_feature_names = preprocessor.named_transformers_['cat'].get_feature_names_out(categorical_columns)\n",
    "new_feature_names = list(ohe_feature_names) + list(X_train.drop(columns=categorical_columns).columns)\n",
    "\n",
    "# 스케일링 및 데이터 프레임화\n",
    "X_train_final = pd.DataFrame(X_train_transformed, columns=new_feature_names)\n",
    "X_test_final = pd.DataFrame(X_test_transformed, columns=new_feature_names)\n",
    "\n",
    "# 확인\n",
    "print(X_train_final.head())\n",
    "print(X_test_final.head())"
   ]
  },
  {
   "cell_type": "code",
   "execution_count": 42,
   "metadata": {},
   "outputs": [
    {
     "name": "stdout",
     "output_type": "stream",
     "text": [
      "house_id                                 int64\n",
      "purchase_price                           int64\n",
      "%_change_between_offer_and_purchase    float64\n",
      "no_rooms                                 int64\n",
      "sqm                                    float64\n",
      "                                        ...   \n",
      "city_Ãrre                                bool\n",
      "city_Ãrslev                              bool\n",
      "city_Ãrøskøbing                          bool\n",
      "city_Årre                                 bool\n",
      "city_Ølstykke                             bool\n",
      "Length: 764, dtype: object\n",
      "       house_id  purchase_price  %_change_between_offer_and_purchase  \\\n",
      "75220   1127663          735000                                  0.0   \n",
      "48955    728835         1760000                                 -2.0   \n",
      "44966    666554          800000                                 -7.0   \n",
      "13568    192608         3200000                                  0.0   \n",
      "92727   1393345          378058                                  0.0   \n",
      "\n",
      "       no_rooms    sqm  sqm_price  nom_interest_rate%  dk_ann_infl_rate%  \\\n",
      "75220         9  194.0   3788.660                2.00               1.82   \n",
      "48955         1   91.0  19340.660                0.00               0.45   \n",
      "44966         3  114.0   7017.544                0.00               0.25   \n",
      "13568         7  145.0  22068.965                0.00               7.70   \n",
      "92727         2   52.0   7270.346                3.25               2.18   \n",
      "\n",
      "       yield_on_mortgage_credit_bonds%  house_age  ...  city_Væggerløse  \\\n",
      "75220                             4.36         54  ...            False   \n",
      "48955                             2.78         86  ...            False   \n",
      "44966                             2.55         47  ...            False   \n",
      "13568                             3.73        159  ...            False   \n",
      "92727                             7.20         38  ...            False   \n",
      "\n",
      "       city_Værløse  city_Ãbyhøj  city_Ãlbæk  city_Ãlsgårde  city_Ãrre  \\\n",
      "75220         False         False        False           False       False   \n",
      "48955         False         False        False           False       False   \n",
      "44966         False         False        False           False       False   \n",
      "13568         False         False        False           False       False   \n",
      "92727         False         False        False           False       False   \n",
      "\n",
      "       city_Ãrslev  city_Ãrøskøbing  city_Årre  city_Ølstykke  \n",
      "75220         False             False      False          False  \n",
      "48955         False             False      False          False  \n",
      "44966         False             False      False          False  \n",
      "13568         False             False      False          False  \n",
      "92727         False             False      False          False  \n",
      "\n",
      "[5 rows x 764 columns]\n"
     ]
    }
   ],
   "source": [
    "print(X_train.dtypes)\n",
    "print(X_train.head())"
   ]
  },
  {
   "cell_type": "code",
   "execution_count": 43,
   "metadata": {},
   "outputs": [
    {
     "ename": "ValueError",
     "evalue": "The feature names should match those that were passed during fit.\nFeature names unseen at fit time:\n- city_Bjørnø\nFeature names seen at fit time, yet now missing:\n- city_Barsø\n- city_Lyø\n- city_Odense NØ\n- city_Randers NØ\n- city_Redsted M\n- ...\n",
     "output_type": "error",
     "traceback": [
      "\u001b[0;31m---------------------------------------------------------------------------\u001b[0m",
      "\u001b[0;31mValueError\u001b[0m                                Traceback (most recent call last)",
      "Cell \u001b[0;32mIn[43], line 8\u001b[0m\n\u001b[1;32m      5\u001b[0m log_reg\u001b[38;5;241m.\u001b[39mfit(X_train, y_train)\n\u001b[1;32m      7\u001b[0m \u001b[38;5;66;03m# 예측\u001b[39;00m\n\u001b[0;32m----> 8\u001b[0m y_pred \u001b[38;5;241m=\u001b[39m \u001b[43mlog_reg\u001b[49m\u001b[38;5;241;43m.\u001b[39;49m\u001b[43mpredict\u001b[49m\u001b[43m(\u001b[49m\u001b[43mX_test\u001b[49m\u001b[43m)\u001b[49m\n\u001b[1;32m     10\u001b[0m \u001b[38;5;66;03m# 결과 출력\u001b[39;00m\n\u001b[1;32m     11\u001b[0m \u001b[38;5;28mprint\u001b[39m(\u001b[38;5;124m\"\u001b[39m\u001b[38;5;124m모델 예측 완료!\u001b[39m\u001b[38;5;124m\"\u001b[39m)\n",
      "File \u001b[0;32m~/homework/env1/lib/python3.11/site-packages/sklearn/linear_model/_base.py:451\u001b[0m, in \u001b[0;36mLinearClassifierMixin.predict\u001b[0;34m(self, X)\u001b[0m\n\u001b[1;32m    437\u001b[0m \u001b[38;5;250m\u001b[39m\u001b[38;5;124;03m\"\"\"\u001b[39;00m\n\u001b[1;32m    438\u001b[0m \u001b[38;5;124;03mPredict class labels for samples in X.\u001b[39;00m\n\u001b[1;32m    439\u001b[0m \n\u001b[0;32m   (...)\u001b[0m\n\u001b[1;32m    448\u001b[0m \u001b[38;5;124;03m    Vector containing the class labels for each sample.\u001b[39;00m\n\u001b[1;32m    449\u001b[0m \u001b[38;5;124;03m\"\"\"\u001b[39;00m\n\u001b[1;32m    450\u001b[0m xp, _ \u001b[38;5;241m=\u001b[39m get_namespace(X)\n\u001b[0;32m--> 451\u001b[0m scores \u001b[38;5;241m=\u001b[39m \u001b[38;5;28;43mself\u001b[39;49m\u001b[38;5;241;43m.\u001b[39;49m\u001b[43mdecision_function\u001b[49m\u001b[43m(\u001b[49m\u001b[43mX\u001b[49m\u001b[43m)\u001b[49m\n\u001b[1;32m    452\u001b[0m \u001b[38;5;28;01mif\u001b[39;00m \u001b[38;5;28mlen\u001b[39m(scores\u001b[38;5;241m.\u001b[39mshape) \u001b[38;5;241m==\u001b[39m \u001b[38;5;241m1\u001b[39m:\n\u001b[1;32m    453\u001b[0m     indices \u001b[38;5;241m=\u001b[39m xp\u001b[38;5;241m.\u001b[39mastype(scores \u001b[38;5;241m>\u001b[39m \u001b[38;5;241m0\u001b[39m, \u001b[38;5;28mint\u001b[39m)\n",
      "File \u001b[0;32m~/homework/env1/lib/python3.11/site-packages/sklearn/linear_model/_base.py:432\u001b[0m, in \u001b[0;36mLinearClassifierMixin.decision_function\u001b[0;34m(self, X)\u001b[0m\n\u001b[1;32m    429\u001b[0m check_is_fitted(\u001b[38;5;28mself\u001b[39m)\n\u001b[1;32m    430\u001b[0m xp, _ \u001b[38;5;241m=\u001b[39m get_namespace(X)\n\u001b[0;32m--> 432\u001b[0m X \u001b[38;5;241m=\u001b[39m \u001b[38;5;28;43mself\u001b[39;49m\u001b[38;5;241;43m.\u001b[39;49m\u001b[43m_validate_data\u001b[49m\u001b[43m(\u001b[49m\u001b[43mX\u001b[49m\u001b[43m,\u001b[49m\u001b[43m \u001b[49m\u001b[43maccept_sparse\u001b[49m\u001b[38;5;241;43m=\u001b[39;49m\u001b[38;5;124;43m\"\u001b[39;49m\u001b[38;5;124;43mcsr\u001b[39;49m\u001b[38;5;124;43m\"\u001b[39;49m\u001b[43m,\u001b[49m\u001b[43m \u001b[49m\u001b[43mreset\u001b[49m\u001b[38;5;241;43m=\u001b[39;49m\u001b[38;5;28;43;01mFalse\u001b[39;49;00m\u001b[43m)\u001b[49m\n\u001b[1;32m    433\u001b[0m scores \u001b[38;5;241m=\u001b[39m safe_sparse_dot(X, \u001b[38;5;28mself\u001b[39m\u001b[38;5;241m.\u001b[39mcoef_\u001b[38;5;241m.\u001b[39mT, dense_output\u001b[38;5;241m=\u001b[39m\u001b[38;5;28;01mTrue\u001b[39;00m) \u001b[38;5;241m+\u001b[39m \u001b[38;5;28mself\u001b[39m\u001b[38;5;241m.\u001b[39mintercept_\n\u001b[1;32m    434\u001b[0m \u001b[38;5;28;01mreturn\u001b[39;00m xp\u001b[38;5;241m.\u001b[39mreshape(scores, (\u001b[38;5;241m-\u001b[39m\u001b[38;5;241m1\u001b[39m,)) \u001b[38;5;28;01mif\u001b[39;00m scores\u001b[38;5;241m.\u001b[39mshape[\u001b[38;5;241m1\u001b[39m] \u001b[38;5;241m==\u001b[39m \u001b[38;5;241m1\u001b[39m \u001b[38;5;28;01melse\u001b[39;00m scores\n",
      "File \u001b[0;32m~/homework/env1/lib/python3.11/site-packages/sklearn/base.py:580\u001b[0m, in \u001b[0;36mBaseEstimator._validate_data\u001b[0;34m(self, X, y, reset, validate_separately, cast_to_ndarray, **check_params)\u001b[0m\n\u001b[1;32m    509\u001b[0m \u001b[38;5;28;01mdef\u001b[39;00m \u001b[38;5;21m_validate_data\u001b[39m(\n\u001b[1;32m    510\u001b[0m     \u001b[38;5;28mself\u001b[39m,\n\u001b[1;32m    511\u001b[0m     X\u001b[38;5;241m=\u001b[39m\u001b[38;5;124m\"\u001b[39m\u001b[38;5;124mno_validation\u001b[39m\u001b[38;5;124m\"\u001b[39m,\n\u001b[0;32m   (...)\u001b[0m\n\u001b[1;32m    516\u001b[0m     \u001b[38;5;241m*\u001b[39m\u001b[38;5;241m*\u001b[39mcheck_params,\n\u001b[1;32m    517\u001b[0m ):\n\u001b[1;32m    518\u001b[0m \u001b[38;5;250m    \u001b[39m\u001b[38;5;124;03m\"\"\"Validate input data and set or check the `n_features_in_` attribute.\u001b[39;00m\n\u001b[1;32m    519\u001b[0m \n\u001b[1;32m    520\u001b[0m \u001b[38;5;124;03m    Parameters\u001b[39;00m\n\u001b[0;32m   (...)\u001b[0m\n\u001b[1;32m    578\u001b[0m \u001b[38;5;124;03m        validated.\u001b[39;00m\n\u001b[1;32m    579\u001b[0m \u001b[38;5;124;03m    \"\"\"\u001b[39;00m\n\u001b[0;32m--> 580\u001b[0m     \u001b[38;5;28;43mself\u001b[39;49m\u001b[38;5;241;43m.\u001b[39;49m\u001b[43m_check_feature_names\u001b[49m\u001b[43m(\u001b[49m\u001b[43mX\u001b[49m\u001b[43m,\u001b[49m\u001b[43m \u001b[49m\u001b[43mreset\u001b[49m\u001b[38;5;241;43m=\u001b[39;49m\u001b[43mreset\u001b[49m\u001b[43m)\u001b[49m\n\u001b[1;32m    582\u001b[0m     \u001b[38;5;28;01mif\u001b[39;00m y \u001b[38;5;129;01mis\u001b[39;00m \u001b[38;5;28;01mNone\u001b[39;00m \u001b[38;5;129;01mand\u001b[39;00m \u001b[38;5;28mself\u001b[39m\u001b[38;5;241m.\u001b[39m_get_tags()[\u001b[38;5;124m\"\u001b[39m\u001b[38;5;124mrequires_y\u001b[39m\u001b[38;5;124m\"\u001b[39m]:\n\u001b[1;32m    583\u001b[0m         \u001b[38;5;28;01mraise\u001b[39;00m \u001b[38;5;167;01mValueError\u001b[39;00m(\n\u001b[1;32m    584\u001b[0m             \u001b[38;5;124mf\u001b[39m\u001b[38;5;124m\"\u001b[39m\u001b[38;5;124mThis \u001b[39m\u001b[38;5;132;01m{\u001b[39;00m\u001b[38;5;28mself\u001b[39m\u001b[38;5;241m.\u001b[39m\u001b[38;5;18m__class__\u001b[39m\u001b[38;5;241m.\u001b[39m\u001b[38;5;18m__name__\u001b[39m\u001b[38;5;132;01m}\u001b[39;00m\u001b[38;5;124m estimator \u001b[39m\u001b[38;5;124m\"\u001b[39m\n\u001b[1;32m    585\u001b[0m             \u001b[38;5;124m\"\u001b[39m\u001b[38;5;124mrequires y to be passed, but the target y is None.\u001b[39m\u001b[38;5;124m\"\u001b[39m\n\u001b[1;32m    586\u001b[0m         )\n",
      "File \u001b[0;32m~/homework/env1/lib/python3.11/site-packages/sklearn/base.py:507\u001b[0m, in \u001b[0;36mBaseEstimator._check_feature_names\u001b[0;34m(self, X, reset)\u001b[0m\n\u001b[1;32m    502\u001b[0m \u001b[38;5;28;01mif\u001b[39;00m \u001b[38;5;129;01mnot\u001b[39;00m missing_names \u001b[38;5;129;01mand\u001b[39;00m \u001b[38;5;129;01mnot\u001b[39;00m unexpected_names:\n\u001b[1;32m    503\u001b[0m     message \u001b[38;5;241m+\u001b[39m\u001b[38;5;241m=\u001b[39m (\n\u001b[1;32m    504\u001b[0m         \u001b[38;5;124m\"\u001b[39m\u001b[38;5;124mFeature names must be in the same order as they were in fit.\u001b[39m\u001b[38;5;130;01m\\n\u001b[39;00m\u001b[38;5;124m\"\u001b[39m\n\u001b[1;32m    505\u001b[0m     )\n\u001b[0;32m--> 507\u001b[0m \u001b[38;5;28;01mraise\u001b[39;00m \u001b[38;5;167;01mValueError\u001b[39;00m(message)\n",
      "\u001b[0;31mValueError\u001b[0m: The feature names should match those that were passed during fit.\nFeature names unseen at fit time:\n- city_Bjørnø\nFeature names seen at fit time, yet now missing:\n- city_Barsø\n- city_Lyø\n- city_Odense NØ\n- city_Randers NØ\n- city_Redsted M\n- ...\n"
     ]
    }
   ],
   "source": [
    "from sklearn.linear_model import LogisticRegression\n",
    "\n",
    "# 모델 생성 및 학습\n",
    "log_reg = LogisticRegression(max_iter=1000)\n",
    "log_reg.fit(X_train, y_train)\n",
    "\n",
    "# 예측\n",
    "y_pred = log_reg.predict(X_test)\n",
    "\n",
    "# 결과 출력\n",
    "print(\"모델 예측 완료!\")"
   ]
  },
  {
   "cell_type": "code",
   "execution_count": null,
   "metadata": {},
   "outputs": [],
   "source": []
  }
 ],
 "metadata": {
  "kernelspec": {
   "display_name": "env1",
   "language": "python",
   "name": "python3"
  },
  "language_info": {
   "codemirror_mode": {
    "name": "ipython",
    "version": 3
   },
   "file_extension": ".py",
   "mimetype": "text/x-python",
   "name": "python",
   "nbconvert_exporter": "python",
   "pygments_lexer": "ipython3",
   "version": "3.11.11"
  }
 },
 "nbformat": 4,
 "nbformat_minor": 2
}
