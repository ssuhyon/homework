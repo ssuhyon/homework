{
 "cells": [
  {
   "cell_type": "code",
   "execution_count": 1,
   "metadata": {},
   "outputs": [
    {
     "name": "stdout",
     "output_type": "stream",
     "text": [
      "Hello WorldHello WorldHello WorldHello WorldHello World\n"
     ]
    }
   ],
   "source": [
    "#숙제1\n",
    "#Hello World를 5번 출력\n",
    "a = 'Hello World'\n",
    "print(a*5)"
   ]
  },
  {
   "cell_type": "code",
   "execution_count": 7,
   "metadata": {},
   "outputs": [
    {
     "name": "stdout",
     "output_type": "stream",
     "text": [
      "[2, 4, 6, 8, 10, 12, 14, 16, 18, 20, 22, 24, 26, 28, 30, 32, 34, 36, 38, 40, 42, 44]\n"
     ]
    }
   ],
   "source": [
    "#숙제2\n",
    "#1부터 44까지 짝수만 출력\n",
    "answer = []\n",
    "for i in range(1, 45):\n",
    "    if i % 2 == 0:\n",
    "        answer.append(i)\n",
    "print(answer)"
   ]
  },
  {
   "cell_type": "code",
   "execution_count": 10,
   "metadata": {},
   "outputs": [
    {
     "name": "stdout",
     "output_type": "stream",
     "text": [
      "[1, 8, 3, 16, 5, 24, 7, 32, 9, 40, 11, 48, 13, 56, 15, 64, 17, 72, 19, 80, 21, 88, 23, 96, 25, 104, 27, 112, 29, 120, 31, 128, 33, 136, 35, 144, 37, 152, 39, 160, 41, 168, 43, 176]\n"
     ]
    }
   ],
   "source": [
    "\n",
    "#숙제3\n",
    "#1부터 44까지 짝수는 * 4, 홀수 그냥 출력\n",
    "answer = []\n",
    "for i in range(1, 45):\n",
    "    if i % 2 == 0:\n",
    "        answer.append(i*4)\n",
    "    else:\n",
    "        answer.append(i)\n",
    "print(answer)"
   ]
  },
  {
   "cell_type": "code",
   "execution_count": 11,
   "metadata": {},
   "outputs": [
    {
     "name": "stdout",
     "output_type": "stream",
     "text": [
      "Hello WorldHello WorldHello WorldHello World\n"
     ]
    }
   ],
   "source": [
    "#숙제4\n",
    "#Hello World 4번 출력\n",
    "print('Hello World'*4)"
   ]
  },
  {
   "cell_type": "code",
   "execution_count": 13,
   "metadata": {},
   "outputs": [
    {
     "name": "stdout",
     "output_type": "stream",
     "text": [
      "1\n",
      "2\n",
      "3\n",
      "4\n",
      "5\n"
     ]
    }
   ],
   "source": [
    "#숙제5\n",
    "numbers = [1, 2, 3, 4, 5]\n",
    "#순회를 돌아 numbers 요소 출력\n",
    "for i in numbers:\n",
    "    print(i)"
   ]
  },
  {
   "cell_type": "code",
   "execution_count": 16,
   "metadata": {},
   "outputs": [
    {
     "name": "stdout",
     "output_type": "stream",
     "text": [
      "10\n"
     ]
    }
   ],
   "source": [
    "#숙제6\n",
    "#1부터 4까지 합 계산\n",
    "answer = 0\n",
    "for i in range(1,5):\n",
    "    answer += i\n",
    "print(answer)"
   ]
  },
  {
   "cell_type": "code",
   "execution_count": 17,
   "metadata": {},
   "outputs": [
    {
     "name": "stdout",
     "output_type": "stream",
     "text": [
      "3 * 1 = 3\n",
      "3 * 2 = 6\n",
      "3 * 3 = 9\n",
      "3 * 4 = 12\n",
      "3 * 5 = 15\n",
      "3 * 6 = 18\n",
      "3 * 7 = 21\n",
      "3 * 8 = 24\n",
      "3 * 9 = 27\n"
     ]
    }
   ],
   "source": [
    "#숙제7\n",
    "#사용자가 입력한 숫자의 구구단을 출력 (input)\n",
    "#예시)\n",
    "#입력값 : 3\n",
    "#아래는 출력 값\n",
    "#3 * 1 = 3\n",
    "#3 * 2 = 6\n",
    "#3 * 3 = 9\n",
    "#...\n",
    "n = int(input('숫자를 입력하세요(1~9)'))\n",
    "for i in range(1,10):\n",
    "    print(f'{n} * {i} = {n*i}')"
   ]
  },
  {
   "cell_type": "code",
   "execution_count": 20,
   "metadata": {},
   "outputs": [
    {
     "name": "stdout",
     "output_type": "stream",
     "text": [
      "1 1 2 3 5 8 13 21 34 55 89 144 233 377 "
     ]
    }
   ],
   "source": [
    "#숙제8\n",
    "#피보나치 수열에서 14개만 출력\n",
    "a, b = 1, 1\n",
    "print(a,b, end=\" \")\n",
    "#for문\n",
    "#출력 \n",
    "for i in range(12):\n",
    "    a, b = b, a+b\n",
    "    print(b, end=\" \")"
   ]
  },
  {
   "cell_type": "code",
   "execution_count": null,
   "metadata": {},
   "outputs": [
    {
     "name": "stdout",
     "output_type": "stream",
     "text": [
      "찾았다\n"
     ]
    }
   ],
   "source": [
    "#숙제9\n",
    "numbers = [11, 22, 33, 44, 55]\n",
    "target = 44 \n",
    "#found = False\n",
    "#44를 찾을 시 찾았다라고 print로 출력\n",
    "for i in numbers:\n",
    "    if i == target:\n",
    "        print('찾았다')\n"
   ]
  },
  {
   "cell_type": "code",
   "execution_count": 24,
   "metadata": {},
   "outputs": [
    {
     "name": "stdout",
     "output_type": "stream",
     "text": [
      "21 42 63 84 "
     ]
    }
   ],
   "source": [
    "#숙제10\n",
    "#1부터 100까지 3과 7의 배수만 출력\n",
    "for i in range(1,101):\n",
    "    if i % 3 == 0 and i % 7 == 0:\n",
    "        print(i, end=\" \")"
   ]
  },
  {
   "cell_type": "code",
   "execution_count": 25,
   "metadata": {},
   "outputs": [
    {
     "name": "stdout",
     "output_type": "stream",
     "text": [
      "[1, 3, 5, 7, 9]\n"
     ]
    }
   ],
   "source": [
    "#숙제11\n",
    "numbers = [1, 2, 3, 4, 5, 6, 7, 8, 9, 10]\n",
    "#홀수만 새로운 리스트에 추가\n",
    "newlst = []\n",
    "for i in numbers:\n",
    "    if i % 2 !=0:\n",
    "        newlst.append(i)\n",
    "print(newlst)"
   ]
  },
  {
   "cell_type": "code",
   "execution_count": 4,
   "metadata": {},
   "outputs": [
    {
     "name": "stdout",
     "output_type": "stream",
     "text": [
      "(사실은 뺄셈이지롱)\n",
      "5\n",
      "(사실은 곱셈이지롱!)\n",
      "50\n",
      "(나눗셈이지롱!)\n",
      "2.0\n",
      "(덧셈이지롱!)\n",
      "15\n"
     ]
    }
   ],
   "source": [
    "class babocalculator:\n",
    "    def __init__(self, value):\n",
    "        self.value = value\n",
    "\n",
    "    def __str__(self):\n",
    "        return f'babocalculator({self.value})'\n",
    "\n",
    "    def __add__(self, other):\n",
    "        # 덧셈은 빼기로 동작\n",
    "        print(\"(사실은 뺄셈이지롱!)\")\n",
    "        return self.value - other.value\n",
    "\n",
    "    def __sub__(self, other):\n",
    "        # 뺄셈은 곱셈으로 동작\n",
    "        print(\"(사실은 곱셈이지롱!)\")\n",
    "        return self.value * other.value\n",
    "\n",
    "    def __mul__(self, other):\n",
    "        # 곱셈은 나눗셈으로 동작\n",
    "        print(\"(나눗셈이지롱!)\")\n",
    "        if other.value == 0:\n",
    "            return float('inf')  # 0으로 나누면 무한대\n",
    "        return self.value / other.value\n",
    "\n",
    "    def __truediv__(self, other):\n",
    "        # 나눗셈은 덧셈으로 동작\n",
    "        print(\"(덧셈이지롱!)\")\n",
    "        return self.value + other.value\n",
    "\n",
    "\n",
    "# 계산기 객체 생성\n",
    "num1 = SillyCalculator(10)\n",
    "num2 = SillyCalculator(5)\n",
    "\n",
    "# 연산 테스트\n",
    "print(num1 + num2)  # 10 - 5\n",
    "print(num1 - num2)  # 10 * 5\n",
    "print(num1 * num2)  # 10 / 5\n",
    "print(num1 / num2)  # 10 + 5"
   ]
  },
  {
   "cell_type": "code",
   "execution_count": null,
   "metadata": {},
   "outputs": [
    {
     "name": "stdout",
     "output_type": "stream",
     "text": [
      "(합체!)\n",
      "73\n",
      "called __sub__ (뺄셈 대신 인생의 의미를 드립니다!)\n",
      "인생의 의미\n",
      "called __mul__ (곱셈 대신 제곱 리스트!)\n",
      "[49, 9]\n",
      "called __truediv__ (나눗셈 대신 평균 계산!)\n",
      "5.0\n",
      "called __pow__ (제곱 대신 웃긴 문자열!)\n",
      "Woah! 7 ^ 3 = Too Much! 😵‍💫\n",
      "called __floordiv__ (나눗셈 몫은 항상 공평하게 1!)\n",
      "1\n"
     ]
    }
   ],
   "source": [
    "class SuperSillyCalculator:\n",
    "    def __init__(self, value):\n",
    "        self.value = value\n",
    "\n",
    "    def __add__(self, other):\n",
    "        print('(합체!)')\n",
    "        return f'{self.value}{other.value}'\n",
    "\n",
    "    def __sub__(self, other):\n",
    "        return '인생의 의미'\n",
    "\n",
    "    def __mul__(self, other):\n",
    "        print('(곱셈 대신 제곱은 어떠신가요)')\n",
    "        return [self.value ** 2, other.value ** 2]\n",
    "\n",
    "    def __truediv__(self, other):\n",
    "        # 나눗셈은 두 숫자의 평균을 반환\n",
    "        print('called __truediv__ (나눗셈 대신 평균 계산!)')\n",
    "        return (self.value + other.value) / 2\n",
    "\n",
    "    def __pow__(self, power, modulo=None):\n",
    "        # 제곱은 무작위 문자열 반환\n",
    "        print('called __pow__ (제곱 대신 웃긴 문자열!)')\n",
    "        return f\"Woah! {self.value} ^ {power} = Too Much! 😵‍💫\"\n",
    "\n",
    "    def __floordiv__(self, other):\n",
    "        # 몫 연산은 항상 1 반환 (무조건 공평!)\n",
    "        print('called __floordiv__ (나눗셈 몫은 항상 공평하게 1!)')\n",
    "        return 1\n",
    "\n",
    "    def __repr__(self):\n",
    "        return f\"SuperSillyCalculator({self.value})\"\n",
    "\n",
    "\n",
    "# 테스트\n",
    "calc1 = SuperSillyCalculator(7)\n",
    "calc2 = SuperSillyCalculator(3)\n",
    "\n",
    "# 연산 테스트\n",
    "print(calc1 + calc2)  # 문자열 결합\n",
    "print(calc1 - calc2)  # 42 반환\n",
    "print(calc1 * calc2)  # 제곱 리스트 반환\n",
    "print(calc1 / calc2)  # 평균 반환\n",
    "print(calc1 ** 3)     # 무작위 문자열 반환\n",
    "print(calc1 // calc2) # 항상 1 반환"
   ]
  },
  {
   "cell_type": "code",
   "execution_count": null,
   "metadata": {},
   "outputs": [],
   "source": []
  }
 ],
 "metadata": {
  "kernelspec": {
   "display_name": "env1",
   "language": "python",
   "name": "python3"
  },
  "language_info": {
   "codemirror_mode": {
    "name": "ipython",
    "version": 3
   },
   "file_extension": ".py",
   "mimetype": "text/x-python",
   "name": "python",
   "nbconvert_exporter": "python",
   "pygments_lexer": "ipython3",
   "version": "3.11.11"
  }
 },
 "nbformat": 4,
 "nbformat_minor": 2
}
