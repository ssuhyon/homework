{
 "cells": [
  {
   "cell_type": "code",
   "execution_count": 77,
   "metadata": {},
   "outputs": [
    {
     "name": "stdout",
     "output_type": "stream",
     "text": [
      "곽종태 학생이 스탠다드반 반에 추가되었습니다!\n",
      "김모세 학생이 스탠다드반 반에 추가되었습니다!\n",
      "김용수 학생이 스탠다드반 반에 추가되었습니다!\n",
      "노호성 학생이 스탠다드반 반에 추가되었습니다!\n",
      "박민지 학생이 스탠다드반 반에 추가되었습니다!\n",
      "박종관 학생이 스탠다드반 반에 추가되었습니다!\n",
      "백명남 학생이 스탠다드반 반에 추가되었습니다!\n",
      "오세은 학생이 스탠다드반 반에 추가되었습니다!\n",
      "유종열 학생이 스탠다드반 반에 추가되었습니다!\n",
      "이수관 학생이 스탠다드반 반에 추가되었습니다!\n",
      "이현지 학생이 스탠다드반 반에 추가되었습니다!\n",
      "정지웅 학생이 스탠다드반 반에 추가되었습니다!\n",
      "조수현 학생이 스탠다드반 반에 추가되었습니다!\n",
      "최수빈 학생이 스탠다드반 반에 추가되었습니다!\n",
      "최정은 학생이 스탠다드반 반에 추가되었습니다!\n"
     ]
    }
   ],
   "source": [
    "class StandardClass:\n",
    "    total_students = 0  # 클래스 변수: 전체 학생 수\n",
    "\n",
    "    def __init__(self, class_name):\n",
    "        self.class_name = class_name  # 반 이름\n",
    "        self.students = []  # 학생 리스트\n",
    "\n",
    "    def __str__(self):\n",
    "        \"\"\"매직 메서드: 반 상태 출력\"\"\"\n",
    "        if not self.students:\n",
    "            return f\"{self.class_name} 반에는 현재 학생이 없습니다.\"\n",
    "        student_list = \"\\n\".join([f\"{i+1}. {s['name']} (나이: {s['age']}, 귀찮음 횟수: {s['bother_count']})\"\n",
    "                                for i, s in enumerate(self.students)])\n",
    "        return f\"{self.class_name} 반 학생 목록:\\n{student_list}\"\n",
    "\n",
    "    def add_student(self, name, age):\n",
    "        \"\"\"인스턴스 메서드: 학생 추가\"\"\"\n",
    "        self.students.append({\"name\": name, \"age\": age, \"bother_count\": 0})\n",
    "        StandardClass.total_students += 1\n",
    "        print(f\"{name} 학생이 {self.class_name} 반에 추가되었습니다!\")\n",
    "\n",
    "    def remove_student(self, name):\n",
    "        \"\"\"인스턴스 메서드: 학생 삭제\"\"\"\n",
    "        for student in self.students:\n",
    "            if student[\"name\"] == name:\n",
    "                self.students.remove(student)\n",
    "                StandardClass.total_students -= 1\n",
    "                print(f\"{name} 학생이 {self.class_name} 반에서 삭제되었습니다!\")\n",
    "                return\n",
    "        print(f\"{name} 학생을 찾을 수 없습니다.\")\n",
    "\n",
    "    def bother_teacher(self, name, max_bother=5):\n",
    "        \"\"\"특정 학생의 귀찮음 횟수를 증가시키고, 경고를 출력\"\"\"\n",
    "        for student in self.students:\n",
    "            if student[\"name\"] == name:\n",
    "                student[\"bother_count\"] += 1\n",
    "                if student[\"bother_count\"] > max_bother:\n",
    "                    print(f\"{name} 학생은 너무 많이 귀찮게 했습니다! (총 {student['bother_count']}회)\")\n",
    "                else:\n",
    "                    print(f\"{name} 학생이 튜터님을 귀찮게 했습니다! (총 {student['bother_count']}회)\")\n",
    "                return\n",
    "        print(f\"{name} 학생을 찾을 수 없습니다.\")\n",
    "\n",
    "    def reset_bother_counts(self):\n",
    "        \"\"\"인스턴스 메서드: 모든 학생의 귀찮음 횟수 초기화\"\"\"\n",
    "        for student in self.students:\n",
    "            student[\"bother_count\"] = 0\n",
    "        print(\"다 나가주세요! 혼자 있고 싶으니까...\")\n",
    "        print(\"모든 학생의 귀찮음 횟수가 초기화되었습니다.\")\n",
    "\n",
    "    @classmethod\n",
    "    def get_total_students(cls):\n",
    "        \"\"\"클래스 메서드: 전체 학생 수 반환\"\"\"\n",
    "        return f\"전체 학생 수: {cls.total_students}명\"\n",
    "\n",
    "    @staticmethod\n",
    "    def calculate_total_bother(students):\n",
    "        \"\"\"스태틱 메서드: 반 전체 귀찮음 횟수 계산\"\"\"\n",
    "        return sum(student[\"bother_count\"] for student in students)\n",
    "\n",
    "    @staticmethod\n",
    "    def find_top_botherers(students, top_n=1):\n",
    "        \"\"\"스태틱 메서드: 상위 귀찮은 학생 조회\"\"\"\n",
    "        if not students:\n",
    "            return \"학생이 없습니다.\"\n",
    "        # 귀찮음 횟수를 기준으로 정렬\n",
    "        sorted_students = sorted(students, key=lambda x: x[\"bother_count\"], reverse=True)\n",
    "        return sorted_students[:top_n]\n",
    "    \n",
    "\n",
    "\n",
    "\n",
    "\n",
    "    if __name__ == \"__main__\":\n",
    "    # 스탠다드반 생성\n",
    "        class1 = StandardClass(\"스탠다드반\")\n",
    "    \n",
    "    \n",
    "    # 학생 추가\n",
    "    class1.add_student(\"곽종태\", 20)\n",
    "    class1.add_student(\"김모세\", 20)\n",
    "    class1.add_student(\"김용수\", 20)\n",
    "    class1.add_student(\"노호성\", 21)\n",
    "    class1.add_student(\"박민지\", 21)\n",
    "    class1.add_student(\"박종관\", 21)\n",
    "    class1.add_student(\"백명남\", 22)\n",
    "    class1.add_student(\"오세은\", 22)\n",
    "    class1.add_student(\"유종열\", 22)\n",
    "    class1.add_student(\"이수관\", 23)\n",
    "    class1.add_student(\"이현지\", 23)\n",
    "    class1.add_student(\"정지웅\", 23)\n",
    "    class1.add_student(\"조수현\", 24)\n",
    "    class1.add_student(\"최수빈\", 24)\n",
    "    class1.add_student(\"최정은\", 24)"
   ]
  },
  {
   "cell_type": "code",
   "execution_count": 78,
   "metadata": {},
   "outputs": [
    {
     "name": "stdout",
     "output_type": "stream",
     "text": [
      "스탠다드반 반 학생 목록:\n",
      "1. 곽종태 (나이: 20, 귀찮음 횟수: 0)\n",
      "2. 김모세 (나이: 20, 귀찮음 횟수: 0)\n",
      "3. 김용수 (나이: 20, 귀찮음 횟수: 0)\n",
      "4. 노호성 (나이: 21, 귀찮음 횟수: 0)\n",
      "5. 박민지 (나이: 21, 귀찮음 횟수: 0)\n",
      "6. 박종관 (나이: 21, 귀찮음 횟수: 0)\n",
      "7. 백명남 (나이: 22, 귀찮음 횟수: 0)\n",
      "8. 오세은 (나이: 22, 귀찮음 횟수: 0)\n",
      "9. 유종열 (나이: 22, 귀찮음 횟수: 0)\n",
      "10. 이수관 (나이: 23, 귀찮음 횟수: 0)\n",
      "11. 이현지 (나이: 23, 귀찮음 횟수: 0)\n",
      "12. 정지웅 (나이: 23, 귀찮음 횟수: 0)\n",
      "13. 조수현 (나이: 24, 귀찮음 횟수: 0)\n",
      "14. 최수빈 (나이: 24, 귀찮음 횟수: 0)\n",
      "15. 최정은 (나이: 24, 귀찮음 횟수: 0)\n"
     ]
    }
   ],
   "source": [
    "# 반 정보 출력\n",
    "print(class1)"
   ]
  },
  {
   "cell_type": "code",
   "execution_count": 98,
   "metadata": {},
   "outputs": [
    {
     "name": "stdout",
     "output_type": "stream",
     "text": [
      "조수현 학생이 튜터님을 귀찮게 했습니다! (총 1회)\n",
      "박민지 학생이 튜터님을 귀찮게 했습니다! (총 1회)\n",
      "최수빈 학생이 튜터님을 귀찮게 했습니다! (총 1회)\n"
     ]
    }
   ],
   "source": [
    "# 선생님 귀찮게 하기\n",
    "class1.bother_teacher(\"조수현\")\n",
    "class1.bother_teacher(\"박민지\")\n",
    "class1.bother_teacher(\"최수빈\")"
   ]
  },
  {
   "cell_type": "markdown",
   "metadata": {},
   "source": []
  },
  {
   "cell_type": "code",
   "execution_count": 95,
   "metadata": {},
   "outputs": [
    {
     "name": "stdout",
     "output_type": "stream",
     "text": [
      "반 전체 귀찮음 횟수: 22회\n"
     ]
    }
   ],
   "source": [
    "# 반 전체 귀찮음 횟수 계산\n",
    "total_bother = StandardClass.calculate_total_bother(class1.students)\n",
    "print(f\"반 전체 귀찮음 횟수: {total_bother}회\")"
   ]
  },
  {
   "cell_type": "code",
   "execution_count": 96,
   "metadata": {},
   "outputs": [
    {
     "name": "stdout",
     "output_type": "stream",
     "text": [
      "상위 귀찮음 기록자:\n",
      "조수현 - 귀찮음 횟수: 10회\n",
      "박민지 - 귀찮음 횟수: 6회\n"
     ]
    }
   ],
   "source": [
    "# 상위 귀찮음 기록자 출력\n",
    "top_botherers = StandardClass.find_top_botherers(class1.students, top_n=2)\n",
    "print(\"상위 귀찮음 기록자:\")\n",
    "for student in top_botherers:\n",
    "    print(f\"{student['name']} - 귀찮음 횟수: {student['bother_count']}회\")"
   ]
  },
  {
   "cell_type": "code",
   "execution_count": 97,
   "metadata": {},
   "outputs": [
    {
     "name": "stdout",
     "output_type": "stream",
     "text": [
      "다 나가주세요! 혼자 있고 싶으니까...\n",
      "모든 학생의 귀찮음 횟수가 초기화되었습니다.\n",
      "스탠다드반 반 학생 목록:\n",
      "1. 곽종태 (나이: 20, 귀찮음 횟수: 0)\n",
      "2. 김모세 (나이: 20, 귀찮음 횟수: 0)\n",
      "3. 김용수 (나이: 20, 귀찮음 횟수: 0)\n",
      "4. 노호성 (나이: 21, 귀찮음 횟수: 0)\n",
      "5. 박민지 (나이: 21, 귀찮음 횟수: 0)\n",
      "6. 박종관 (나이: 21, 귀찮음 횟수: 0)\n",
      "7. 백명남 (나이: 22, 귀찮음 횟수: 0)\n",
      "8. 오세은 (나이: 22, 귀찮음 횟수: 0)\n",
      "9. 유종열 (나이: 22, 귀찮음 횟수: 0)\n",
      "10. 이수관 (나이: 23, 귀찮음 횟수: 0)\n",
      "11. 이현지 (나이: 23, 귀찮음 횟수: 0)\n",
      "12. 정지웅 (나이: 23, 귀찮음 횟수: 0)\n",
      "13. 조수현 (나이: 24, 귀찮음 횟수: 0)\n",
      "14. 최수빈 (나이: 24, 귀찮음 횟수: 0)\n",
      "15. 최정은 (나이: 24, 귀찮음 횟수: 0)\n"
     ]
    }
   ],
   "source": [
    "# 귀찮음 횟수 초기화\n",
    "class1.reset_bother_counts()\n",
    "print(class1)"
   ]
  },
  {
   "cell_type": "code",
   "execution_count": 99,
   "metadata": {},
   "outputs": [
    {
     "name": "stdout",
     "output_type": "stream",
     "text": [
      "\n",
      "<반 상태>\n",
      "1. 곽종태 (나이: 20, 귀찮음: 0)\n",
      "2. 김모세 (나이: 20, 귀찮음: 0)\n",
      "3. 김용수 (나이: 20, 귀찮음: 0)\n",
      "4. 노호성 (나이: 21, 귀찮음: 0)\n",
      "5. 박민지 (나이: 21, 귀찮음: 0)\n",
      "6. 박종관 (나이: 21, 귀찮음: 0)\n",
      "7. 백명남 (나이: 22, 귀찮음: 0)\n",
      "8. 오세은 (나이: 22, 귀찮음: 0)\n",
      "9. 유종열 (나이: 22, 귀찮음: 0)\n",
      "10. 이수관 (나이: 23, 귀찮음: 0)\n",
      "11. 이현지 (나이: 23, 귀찮음: 0)\n",
      "12. 정지웅 (나이: 23, 귀찮음: 0)\n",
      "13. 조수현 (나이: 24, 귀찮음: 0)\n",
      "14. 최수빈 (나이: 24, 귀찮음: 0)\n",
      "15. 최정은 (나이: 24, 귀찮음: 0)\n",
      "조수현 학생이 귀찮게 했습니다! (총 1회)\n",
      "조수현 학생이 귀찮게 했습니다! (총 2회)\n",
      "조수현 학생이 귀찮게 했습니다! (총 3회)\n",
      "조수현 학생이 귀찮게 했습니다! (총 4회)\n",
      "조수현 학생이 귀찮게 했습니다! (총 5회)\n",
      "조수현 학생은 너무 많이 귀찮게 했습니다! (총 6회)\n",
      "모두 나가주세요! 혼자 있고 싶으니까...\n",
      "모든 귀찮음 횟수가 초기화되었습니다.\n",
      "\n",
      "<귀찮음 횟수 초기화 후 반 상태>\n",
      "1. 곽종태 (나이: 20, 귀찮음: 0)\n",
      "2. 김모세 (나이: 20, 귀찮음: 0)\n",
      "3. 김용수 (나이: 20, 귀찮음: 0)\n",
      "4. 노호성 (나이: 21, 귀찮음: 0)\n",
      "5. 박민지 (나이: 21, 귀찮음: 0)\n",
      "6. 박종관 (나이: 21, 귀찮음: 0)\n",
      "7. 백명남 (나이: 22, 귀찮음: 0)\n",
      "8. 오세은 (나이: 22, 귀찮음: 0)\n",
      "9. 유종열 (나이: 22, 귀찮음: 0)\n",
      "10. 이수관 (나이: 23, 귀찮음: 0)\n",
      "11. 이현지 (나이: 23, 귀찮음: 0)\n",
      "12. 정지웅 (나이: 23, 귀찮음: 0)\n",
      "13. 조수현 (나이: 24, 귀찮음: 0)\n",
      "14. 최수빈 (나이: 24, 귀찮음: 0)\n",
      "15. 최정은 (나이: 24, 귀찮음: 0)\n"
     ]
    }
   ],
   "source": [
    "class StandardClass:\n",
    "    total_students = 0  # 전체 학생 수를 저장하는 클래스 변수\n",
    "\n",
    "    def __init__(self):\n",
    "        self.class_name = \"스탠다드반\"  # 반 이름 고정\n",
    "        self.students = []  # 학생 정보를 저장할 리스트 초기화\n",
    "\n",
    "    def __str__(self):\n",
    "        # 학생 리스트가 비어 있는지 확인하여 메시지 반환\n",
    "        if not self.students:\n",
    "            return f\"{self.class_name} 반에는 현재 학생이 없습니다.\"\n",
    "        # 학생 정보를 포맷팅하여 문자열로 반환\n",
    "        return \"\\n\".join(\n",
    "            [f\"{i+1}. {s['name']} (나이: {s['age']}, 귀찮음: {s['bother_count']})\" for i, s in enumerate(self.students)]\n",
    "        )\n",
    "\n",
    "    def add_student(self, name, age):\n",
    "        # 학생 정보를 딕셔너리 형태로 추가\n",
    "        self.students.append({\"name\": name, \"age\": age, \"bother_count\": 0})\n",
    "        # 클래스 변수로 전체 학생 수 증가\n",
    "        StandardClass.total_students += 1\n",
    "\n",
    "    def bother_teacher(self, name, max_bother=5):\n",
    "        # 학생 리스트를 순회하며 이름이 일치하는 학생 찾기\n",
    "        for student in self.students:\n",
    "            if student[\"name\"] == name:\n",
    "                student[\"bother_count\"] += 1  # 귀찮음 횟수 증가\n",
    "                if student[\"bother_count\"] > max_bother:  # 최대 허용 횟수를 초과한 경우\n",
    "                    print(f\"{name} 학생은 너무 많이 귀찮게 했습니다! (총 {student['bother_count']}회)\")\n",
    "                else:\n",
    "                    print(f\"{name} 학생이 귀찮게 했습니다! (총 {student['bother_count']}회)\")\n",
    "                return\n",
    "        # 이름이 없는 경우 메시지 출력\n",
    "        print(f\"{name} 학생을 찾을 수 없습니다.\")\n",
    "\n",
    "    def reset_bother_counts(self):\n",
    "        # 학생 리스트를 순회하며 귀찮음 횟수를 초기화\n",
    "        for student in self.students:\n",
    "            student[\"bother_count\"] = 0\n",
    "        print(\"모두 나가주세요! 혼자 있고 싶으니까...\")\n",
    "        print(\"모든 귀찮음 횟수가 초기화되었습니다.\")\n",
    "\n",
    "if __name__ == \"__main__\":\n",
    "    # 스탠다드반 생성\n",
    "    class1 = StandardClass()\n",
    "\n",
    "    # 학생 추가\n",
    "    for name, age in [\n",
    "        (\"곽종태\", 20), (\"김모세\", 20), (\"김용수\", 20), (\"노호성\", 21),\n",
    "        (\"박민지\", 21), (\"박종관\", 21), (\"백명남\", 22), (\"오세은\", 22),\n",
    "        (\"유종열\", 22), (\"이수관\", 23), (\"이현지\", 23), (\"정지웅\", 23),\n",
    "        (\"조수현\", 24), (\"최수빈\", 24), (\"최정은\", 24)\n",
    "    ]:\n",
    "        class1.add_student(name, age)  # 이름과 나이를 사용해 학생 추가\n",
    "\n",
    "    # 반 상태 출력\n",
    "    print(\"\\n<반 상태>\")\n",
    "    print(class1)  # 현재 반 상태 출력\n",
    "\n",
    "    # 선생님 귀찮게 하기\n",
    "    class1.bother_teacher(\"조수현\")  # \"조수현\" 학생의 귀찮음 횟수 증가\n",
    "    class1.bother_teacher(\"조수현\")  # \"조수현\" 학생의 귀찮음 횟수 증가\n",
    "    class1.bother_teacher(\"조수현\")  # \"조수현\" 학생의 귀찮음 횟수 증가\n",
    "    class1.bother_teacher(\"조수현\")  # \"조수현\" 학생의 귀찮음 횟수 증가\n",
    "    class1.bother_teacher(\"조수현\")  # \"조수현\" 학생의 귀찮음 횟수 증가\n",
    "    class1.bother_teacher(\"조수현\")  # \"조수현\" 학생의 귀찮음 횟수 증가\n",
    "\n",
    "    # 귀찮음 횟수 초기화\n",
    "    class1.reset_bother_counts()  # 모든 학생의 귀찮음 횟수 초기화\n",
    "    print(\"\\n<귀찮음 횟수 초기화 후 반 상태>\")\n",
    "    print(class1)  # 초기화 후 반 상태 출력"
   ]
  },
  {
   "cell_type": "code",
   "execution_count": 1,
   "metadata": {},
   "outputs": [
    {
     "name": "stdout",
     "output_type": "stream",
     "text": [
      "StandardScaler 적용 결과:\n",
      "[[ 0.         -1.22474487  1.33630621]\n",
      " [ 1.22474487  0.         -0.26726124]\n",
      " [-1.22474487  1.22474487 -1.06904497]]\n",
      "\n",
      "MinMaxScaler 적용 결과:\n",
      "[[0.5        0.         1.        ]\n",
      " [1.         0.5        0.33333333]\n",
      " [0.         1.         0.        ]]\n",
      "\n",
      "RobustScaler 적용 결과:\n",
      "[[ 0.         -1.          1.33333333]\n",
      " [ 1.          0.          0.        ]\n",
      " [-1.          1.         -0.66666667]]\n",
      "\n",
      "Normalizer 적용 결과:\n",
      "[[ 0.40824829 -0.40824829  0.81649658]\n",
      " [ 1.          0.          0.        ]\n",
      " [ 0.          0.70710678 -0.70710678]]\n",
      "\n"
     ]
    }
   ],
   "source": [
    "import numpy as np\n",
    "from sklearn.preprocessing import StandardScaler, MinMaxScaler, RobustScaler, Normalizer\n",
    "\n",
    "# 데이터 생성\n",
    "X = np.array([[1, -1, 2],\n",
    "              [2, 0, 0],\n",
    "              [0, 1, -1]])\n",
    "\n",
    "# 각각의 스케일링 적용\n",
    "scalers = {\n",
    "    \"StandardScaler\": StandardScaler(),\n",
    "    \"MinMaxScaler\": MinMaxScaler(),\n",
    "    \"RobustScaler\": RobustScaler(),\n",
    "    \"Normalizer\": Normalizer()\n",
    "}\n",
    "\n",
    "# 결과 출력\n",
    "for scaler_name, scaler in scalers.items():\n",
    "    print(f\"{scaler_name} 적용 결과:\")\n",
    "    print(scaler.fit_transform(X))\n",
    "    print()"
   ]
  },
  {
   "cell_type": "code",
   "execution_count": null,
   "metadata": {},
   "outputs": [],
   "source": []
  }
 ],
 "metadata": {
  "kernelspec": {
   "display_name": "env1",
   "language": "python",
   "name": "python3"
  },
  "language_info": {
   "codemirror_mode": {
    "name": "ipython",
    "version": 3
   },
   "file_extension": ".py",
   "mimetype": "text/x-python",
   "name": "python",
   "nbconvert_exporter": "python",
   "pygments_lexer": "ipython3",
   "version": "3.11.11"
  }
 },
 "nbformat": 4,
 "nbformat_minor": 2
}
