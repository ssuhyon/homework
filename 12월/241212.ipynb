{
 "cells": [
  {
   "cell_type": "code",
   "execution_count": 6,
   "metadata": {},
   "outputs": [
    {
     "name": "stdout",
     "output_type": "stream",
     "text": [
      "영희,민수\n"
     ]
    }
   ],
   "source": [
    "new = ['철수','영희','민수','지현','서연']\n",
    "ive = ['영희','민수','지수','서연','하나']\n",
    "asp = ['철수','지현','지수','서연','나영']\n",
    "\n",
    "answer = []\n",
    "for i in new:\n",
    "    if (i in ive) and (i not in asp):\n",
    "        answer.append(i)\n",
    "print(','.join(answer))"
   ]
  },
  {
   "cell_type": "code",
   "execution_count": null,
   "metadata": {},
   "outputs": [],
   "source": []
  }
 ],
 "metadata": {
  "kernelspec": {
   "display_name": "myenv",
   "language": "python",
   "name": "python3"
  },
  "language_info": {
   "codemirror_mode": {
    "name": "ipython",
    "version": 3
   },
   "file_extension": ".py",
   "mimetype": "text/x-python",
   "name": "python",
   "nbconvert_exporter": "python",
   "pygments_lexer": "ipython3",
   "version": "3.13.0"
  }
 },
 "nbformat": 4,
 "nbformat_minor": 2
}
