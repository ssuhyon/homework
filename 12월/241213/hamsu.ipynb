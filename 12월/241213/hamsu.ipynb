{
 "cells": [
  {
   "cell_type": "code",
   "execution_count": 1,
   "metadata": {},
   "outputs": [
    {
     "name": "stdout",
     "output_type": "stream",
     "text": [
      "hi\n"
     ]
    }
   ],
   "source": [
    "# 숙제 - 70\n",
    "# hi 함수를 호출 시 hi 출력\n",
    "\n",
    "def hi():\n",
    "    print('hi')\n",
    "hi()"
   ]
  },
  {
   "cell_type": "code",
   "execution_count": 2,
   "metadata": {},
   "outputs": [
    {
     "name": "stdout",
     "output_type": "stream",
     "text": [
      "hi \"수현\"\n"
     ]
    }
   ],
   "source": [
    "# 숙제 - 71\n",
    "# hi 함수 호출 사 hi \"여러분들의 이름\"\n",
    "\n",
    "def hi(name):\n",
    "    print(f'hi \"{name}\"')\n",
    "hi('수현')"
   ]
  },
  {
   "cell_type": "code",
   "execution_count": 5,
   "metadata": {},
   "outputs": [
    {
     "data": {
      "text/plain": [
       "3"
      ]
     },
     "execution_count": 5,
     "metadata": {},
     "output_type": "execute_result"
    }
   ],
   "source": [
    "# 숙제 - 72\n",
    "# 사용자가 입력한 두 개의 숫자를 받아 더해주는 함수 만드세요\n",
    "\n",
    "def plus():\n",
    "    a = int(input(\"첫번째 숫자 입력 : \"))\n",
    "    b = int(input(\"두번째 숫자 입력 : \"))\n",
    "    return a + b\n",
    "\n",
    "plus()"
   ]
  },
  {
   "cell_type": "code",
   "execution_count": 6,
   "metadata": {},
   "outputs": [],
   "source": [
    "# 숙제 - 73\n",
    "# 1000개 이상의 숫자를 받아 더해주는 함수 만드세요\n",
    "\n",
    "def chungea(*args):\n",
    "    return sum(args)"
   ]
  },
  {
   "cell_type": "code",
   "execution_count": 7,
   "metadata": {},
   "outputs": [],
   "source": [
    "# 숙제 - 74\n",
    "# 리스트를 받은 뒤 그 길이를 반환하는 함수를 만드세요\n",
    "\n",
    "def banhwan(list):\n",
    "    return len(list)"
   ]
  },
  {
   "cell_type": "code",
   "execution_count": 8,
   "metadata": {},
   "outputs": [],
   "source": [
    "# 숙제 - 75\n",
    "# 세개의 숫자를 비교하여 큰 숫자를 반환하는 함수\n",
    "# 예시) \n",
    "# 입력 -> func(50, 44444, 9)\n",
    "# 출력 -> 44444\n",
    "\n",
    "def jeilbig(a,b,c):\n",
    "    return max(a,b,c)"
   ]
  },
  {
   "cell_type": "code",
   "execution_count": 11,
   "metadata": {},
   "outputs": [
    {
     "data": {
      "text/plain": [
       "False"
      ]
     },
     "execution_count": 11,
     "metadata": {},
     "output_type": "execute_result"
    }
   ],
   "source": [
    "# 숙제 - 76\n",
    "# 20세 이상이면 True, 미만이면 False로 반환하는 함수\n",
    "\n",
    "def doragara(age):\n",
    "    if age>=20:\n",
    "        return True\n",
    "    return False\n",
    "\n",
    "doragara(19)"
   ]
  },
  {
   "cell_type": "code",
   "execution_count": 13,
   "metadata": {},
   "outputs": [
    {
     "data": {
      "text/plain": [
       "True"
      ]
     },
     "execution_count": 13,
     "metadata": {},
     "output_type": "execute_result"
    }
   ],
   "source": [
    "def doragara1(age):\n",
    "    return age >= 20\n",
    "\n",
    "doragara1(20)"
   ]
  },
  {
   "cell_type": "code",
   "execution_count": 18,
   "metadata": {},
   "outputs": [
    {
     "name": "stdout",
     "output_type": "stream",
     "text": [
      "True\n"
     ]
    }
   ],
   "source": [
    "# 숙제 - 77\n",
    "# 문자열의 첫 문자가 대문자인지 확인하는 함수\n",
    "\n",
    "def hwagin(a):\n",
    "    return a[0]==a[0].upper()\n",
    "\n",
    "print(hwagin('Apple'))"
   ]
  },
  {
   "cell_type": "code",
   "execution_count": 20,
   "metadata": {},
   "outputs": [
    {
     "data": {
      "text/plain": [
       "4"
      ]
     },
     "execution_count": 20,
     "metadata": {},
     "output_type": "execute_result"
    }
   ],
   "source": [
    "# 숙제 - 78\n",
    "# 문자열에서 모음의 개수를 세어 반환하는 함수\n",
    "\n",
    "def moem(mal):\n",
    "    moems = \"aeiouAEIOU\"\n",
    "    count = 0\n",
    "    for i in mal:\n",
    "        if i in moems:\n",
    "            count += 1\n",
    "    return count\n",
    "\n",
    "moem('josuhyeon')"
   ]
  },
  {
   "cell_type": "code",
   "execution_count": 22,
   "metadata": {},
   "outputs": [
    {
     "data": {
      "text/plain": [
       "30"
      ]
     },
     "execution_count": 22,
     "metadata": {},
     "output_type": "execute_result"
    }
   ],
   "source": [
    "# 숙제 - 79\n",
    "# 숫자 리스트에서 짝수만 합을 계산하는 함수 \n",
    "\n",
    "def zzagsu(numlist):\n",
    "    hab = 0\n",
    "    for num in numlist:\n",
    "        if num % 2 == 0:\n",
    "            hab += num\n",
    "    return hab\n",
    "\n",
    "zzagsu([1,2,3,4,5,6,7,8,9,10])"
   ]
  },
  {
   "cell_type": "code",
   "execution_count": 28,
   "metadata": {},
   "outputs": [
    {
     "data": {
      "text/plain": [
       "True"
      ]
     },
     "execution_count": 28,
     "metadata": {},
     "output_type": "execute_result"
    }
   ],
   "source": [
    "# 숙제 - 80\n",
    "# 리스트와 특정 값을 받아 그 리스트에 그 값이 포함되어 있는지 확인하는 함수\n",
    "\n",
    "def itzi(list,a):\n",
    "    return a in list\n",
    "\n",
    "itzi(['aa','s','d','f','g','h','j','j','k','l','j','h','g','d','f','s','w','a]'],'l')"
   ]
  },
  {
   "cell_type": "code",
   "execution_count": 30,
   "metadata": {},
   "outputs": [
    {
     "data": {
      "text/plain": [
       "'un'"
      ]
     },
     "execution_count": 30,
     "metadata": {},
     "output_type": "execute_result"
    }
   ],
   "source": [
    "# 숙제 - 81\n",
    "# 두 개의 문자열을 받아 공통으로 포함된 문자를 반환하는 함수를 만드세요\n",
    "\n",
    "def gongtong(a, b):\n",
    "    result = ''\n",
    "    for x in a:\n",
    "        if x in b and x not in result:\n",
    "            result += x\n",
    "    return result\n",
    "\n",
    "gongtong('chunduck','ggangsun')"
   ]
  },
  {
   "cell_type": "code",
   "execution_count": 32,
   "metadata": {},
   "outputs": [
    {
     "data": {
      "text/plain": [
       "'noeyhusoj'"
      ]
     },
     "execution_count": 32,
     "metadata": {},
     "output_type": "execute_result"
    }
   ],
   "source": [
    "# 숙제 - 82\n",
    "# 문자열을 받아 문자를 반대로 반환하는 함수를 만드세요\n",
    "\n",
    "def bandea(a):\n",
    "    return a[::-1]\n",
    "\n",
    "bandea('josuhyeon')"
   ]
  },
  {
   "cell_type": "code",
   "execution_count": 33,
   "metadata": {},
   "outputs": [
    {
     "data": {
      "text/plain": [
       "50.0"
      ]
     },
     "execution_count": 33,
     "metadata": {},
     "output_type": "execute_result"
    }
   ],
   "source": [
    "# 숙제 - 83\n",
    "# 삼각형의 밑변과 높이를 입력 받아 삼감형의 넓이를 계산하는 함수 만드세요\n",
    "\n",
    "def nerby(x,y):\n",
    "    return x * y * 0.5\n",
    "\n",
    "nerby(10,10)"
   ]
  },
  {
   "cell_type": "code",
   "execution_count": 35,
   "metadata": {},
   "outputs": [
    {
     "data": {
      "text/plain": [
       "True"
      ]
     },
     "execution_count": 35,
     "metadata": {},
     "output_type": "execute_result"
    }
   ],
   "source": [
    "# 숙제 - 84\n",
    "# 리스트를 받아 중복된 요소가 있는지 확인하는 함수\n",
    "\n",
    "def jungbok(list):\n",
    "    return len(list) != len(set(list))\n",
    "\n",
    "jungbok([1,2,3,4,5,1,2])"
   ]
  },
  {
   "cell_type": "code",
   "execution_count": 38,
   "metadata": {},
   "outputs": [
    {
     "data": {
      "text/plain": [
       "[3, 4]"
      ]
     },
     "execution_count": 38,
     "metadata": {},
     "output_type": "execute_result"
    }
   ],
   "source": [
    "# 숙제 - 85\n",
    "# 두개의 리스트를 받아 공통 요소만 반환하는 함수\n",
    "\n",
    "def gt_yoso(list1, list2):\n",
    "    gtys = []\n",
    "    for x in list1:\n",
    "        if x in list2 and x not in gtys:\n",
    "            gtys.append(x)\n",
    "    return gtys\n",
    "gt_yoso([1,2,3,4],[3,4,5,6])"
   ]
  },
  {
   "cell_type": "code",
   "execution_count": 42,
   "metadata": {},
   "outputs": [
    {
     "name": "stdout",
     "output_type": "stream",
     "text": [
      "3\n",
      "31\n"
     ]
    }
   ],
   "source": [
    "# 숙제 - 86\n",
    "# 문자열에서 숫자만 추출하는 함수\n",
    "\n",
    "def chuchul(munjayul):\n",
    "    result = ''\n",
    "    for i in munjayul:\n",
    "        if i.isdigit():\n",
    "            result += i\n",
    "    return result\n",
    "\n",
    "def chuchul1(munjayul):\n",
    "    return ''.join([i for i in munjayul if i.isdigit()])\n",
    "\n",
    "print(chuchul('asldjf3dlflda'))\n",
    "print(chuchul1('slkfj31klsdjalkd'))"
   ]
  },
  {
   "cell_type": "code",
   "execution_count": 45,
   "metadata": {},
   "outputs": [
    {
     "data": {
      "text/plain": [
       "99999"
      ]
     },
     "execution_count": 45,
     "metadata": {},
     "output_type": "execute_result"
    }
   ],
   "source": [
    "# 숙제 - 87\n",
    "# 리스트(숫자)에서 최대값과 최솟값의 차이를 계산하는 함수\n",
    "\n",
    "def gyesan(list):\n",
    "    return max(list)-min(list)\n",
    "\n",
    "gyesan([24,54,76,43,52,1,34,100000])"
   ]
  },
  {
   "cell_type": "code",
   "execution_count": null,
   "metadata": {},
   "outputs": [],
   "source": []
  }
 ],
 "metadata": {
  "kernelspec": {
   "display_name": "base",
   "language": "python",
   "name": "python3"
  },
  "language_info": {
   "codemirror_mode": {
    "name": "ipython",
    "version": 3
   },
   "file_extension": ".py",
   "mimetype": "text/x-python",
   "name": "python",
   "nbconvert_exporter": "python",
   "pygments_lexer": "ipython3",
   "version": "3.12.7"
  }
 },
 "nbformat": 4,
 "nbformat_minor": 2
}
